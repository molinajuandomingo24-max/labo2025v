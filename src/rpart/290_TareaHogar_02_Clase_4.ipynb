{
  "nbformat": 4,
  "nbformat_minor": 0,
  "metadata": {
    "colab": {
      "provenance": [],
      "include_colab_link": true
    },
    "kernelspec": {
      "name": "ir",
      "display_name": "R"
    },
    "language_info": {
      "name": "R"
    }
  },
  "cells": [
    {
      "cell_type": "markdown",
      "metadata": {
        "id": "view-in-github",
        "colab_type": "text"
      },
      "source": [
        "<a href=\"https://colab.research.google.com/github/molinajuandomingo24-max/labo2025v/blob/main/src/rpart/290_TareaHogar_02_Clase_4.ipynb\" target=\"_parent\"><img src=\"https://colab.research.google.com/assets/colab-badge.svg\" alt=\"Open In Colab\"/></a>"
      ]
    },
    {
      "cell_type": "markdown",
      "source": [
        "# Tarea para el Hogar 02"
      ],
      "metadata": {
        "id": "F3r8aa3pBigj"
      }
    },
    {
      "cell_type": "markdown",
      "source": [
        "Esta Tarea para el Hogar 02 se entrega el final de la segunda clase\n",
        "<br> se espera de usted que intente avanzar con los desafios propuestos y que los traiga terminados para la Clase 03, ya que se analizarán los resultados"
      ],
      "metadata": {
        "id": "nBm4ktHUBmZt"
      }
    },
    {
      "cell_type": "markdown",
      "source": [
        "##  1. Ensembles de Modelos"
      ],
      "metadata": {
        "id": "TK-M04ElCESC"
      }
    },
    {
      "cell_type": "markdown",
      "source": [
        "Vea el siguiente video [BBC - The Code - The Wisdom of the Crowd](https://www.youtube.com/watch?v=iOucwX7Z1HU)    ( 5 min)\n"
      ],
      "metadata": {
        "id": "biPYxgobCOSS"
      }
    },
    {
      "cell_type": "markdown",
      "source": [
        "Lea los siguientes artículos\n",
        "\n",
        "\n",
        "*   [The Wisdom of Crowds (Vox Populi) by Francis Galton](https://www.all-about-psychology.com/the-wisdom-of-crowds.html)  (10 min)\n",
        "*   [A Gentle Introduction to Ensemble Learning](https://machinelearningmastery.com/what-is-ensemble-learning/)  (10 min)\n",
        "\n"
      ],
      "metadata": {
        "id": "FBszBRyNCcjp"
      }
    },
    {
      "cell_type": "markdown",
      "source": [
        "\n",
        "\n",
        "---\n",
        "\n"
      ],
      "metadata": {
        "id": "x7SebtV2lpHQ"
      }
    },
    {
      "cell_type": "markdown",
      "source": [
        "##  2.  Zero2Hero   primera parte\n",
        "Se han lanzado los primeros fascículos coleccionables llamados \"from Zero to Hero\" que muy detalladamente, paso a paso enseñan todo lo necesario de R para entender los scripts oficiales de la asignatura.\n",
        "Están en el repositorio oficial de la asignatura, carpeta  **src/zero2hero**"
      ],
      "metadata": {
        "id": "NQcY8u2MDSLT"
      }
    },
    {
      "cell_type": "markdown",
      "source": [
        "\n",
        "\n",
        "---\n",
        "\n"
      ],
      "metadata": {
        "id": "GcO0OSiIEAGy"
      }
    },
    {
      "cell_type": "markdown",
      "source": [
        "## 3.  Grid Search"
      ],
      "metadata": {
        "id": "6MStcyn0EBdT"
      }
    },
    {
      "cell_type": "markdown",
      "source": [
        "Busque en internet el precido significado de los hiperparámetros de la librería **rpart**  que está implementando el algoritmo **CART**  Classification and Regression Trees  propuesto en el año 1984 por Leo Brieman:\n",
        "\n",
        "*   cp\n",
        "*   maxdepth\n",
        "*   minsplit\n",
        "*   minbucket\n",
        "\n",
        "Entienda que valores es razonable tome cada hiperparámetro,  en particular profundice en el hiperparámetro  **cp**  y la posibilidad que tome valores negativos.  Es válido consultar a su amigo de *capacidades especiales*  ChatGPT\n"
      ],
      "metadata": {
        "id": "gM8RKXDgEIY0"
      }
    },
    {
      "cell_type": "markdown",
      "source": [
        "En las siguientes celdas a un notebook incompleto, un esqueleto de codigo brindado a modo de facilitarle la tarea de codeo y permitir que su valiosa cognición se concentre temas conceptuales de Ciencia de Datos\n",
        "\n",
        "Modifiquelo agregando loops para que recorra TODOS los hiperparámetros de rpart  < cp, maxdepth, minsplit, minbucket >, y luego póngalo a correr. Recuerde cambiar por SU semilla\n",
        "Tenga muy presente la granularidad que eligirá para cada hiperparámetro."
      ],
      "metadata": {
        "id": "_k7eT3HIFy9y"
      }
    },
    {
      "cell_type": "markdown",
      "source": [
        "### Seteo del ambiente en Google Colab"
      ],
      "metadata": {
        "id": "kmLygy1TYPfg"
      }
    },
    {
      "cell_type": "markdown",
      "source": [
        "Esta parte se debe correr con el runtime en Python3\n",
        "<br>Ir al menu, Runtime -> Change Runtime Tipe -> Runtime type ->  **Python 3**"
      ],
      "metadata": {
        "id": "OikOm5K2YU3X"
      }
    },
    {
      "cell_type": "markdown",
      "source": [
        "Conectar la virtual machine donde esta corriendo Google Colab con el  Google Drive, para poder tener persistencia de archivos"
      ],
      "metadata": {
        "id": "4fmV5LyZdFyI"
      }
    },
    {
      "cell_type": "code",
      "source": [
        "# primero establecer el Runtime de Python 3\n",
        "from google.colab import drive\n",
        "drive.mount('/content/.drive')"
      ],
      "metadata": {
        "id": "ilEZ-bE2VybW",
        "outputId": "794ddd3a-0abf-49ef-dcdc-6c2b782f8c22",
        "colab": {
          "base_uri": "https://localhost:8080/"
        }
      },
      "execution_count": 1,
      "outputs": [
        {
          "output_type": "stream",
          "name": "stdout",
          "text": [
            "Mounted at /content/.drive\n"
          ]
        }
      ]
    },
    {
      "cell_type": "markdown",
      "source": [
        "Para correr la siguiente celda es fundamental en Arranque en Frio haber copiado el archivo kaggle.json al Google Drive, en la carpeta indicada en el instructivo\n",
        "\n",
        "<br>los siguientes comando estan en shell script de Linux\n",
        "*   Crear las carpetas en el Google Drive\n",
        "*   \"instalar\" el archivo kaggle.json desde el Google Drive a la virtual machine para que pueda ser utilizado por la libreria  kaggle de Python\n",
        "*   Bajar el  **dataset_pequeno**  al  Google Drive  y tambien al disco local de la virtual machine que esta corriendo Google Colab\n",
        "\n"
      ],
      "metadata": {
        "id": "ilaKtqWldeWg"
      }
    },
    {
      "cell_type": "code",
      "source": [
        "%%shell\n",
        "\n",
        "mkdir -p \"/content/.drive/My Drive/labo1\"\n",
        "mkdir -p \"/content/buckets\"\n",
        "ln -s \"/content/.drive/My Drive/labo1\" /content/buckets/b1\n",
        "\n",
        "mkdir -p ~/.kaggle\n",
        "cp /content/buckets/b1/kaggle/kaggle.json  ~/.kaggle\n",
        "chmod 600 ~/.kaggle/kaggle.json\n",
        "\n",
        "\n",
        "mkdir -p /content/buckets/b1/exp\n",
        "mkdir -p /content/buckets/b1/datasets\n",
        "mkdir -p /content/datasets\n",
        "\n",
        "\n",
        "\n",
        "archivo_origen=\"https://storage.googleapis.com/open-courses/austral2025-af91/dataset_pequeno.csv\"\n",
        "archivo_destino=\"/content/datasets/dataset_pequeno.csv\"\n",
        "archivo_destino_bucket=\"/content/buckets/b1/datasets/dataset_pequeno.csv\"\n",
        "\n",
        "if ! test -f $archivo_destino_bucket; then\n",
        "  wget  $archivo_origen  -O $archivo_destino_bucket\n",
        "fi\n",
        "\n",
        "\n",
        "if ! test -f $archivo_destino; then\n",
        "  cp  $archivo_destino_bucket  $archivo_destino\n",
        "fi\n",
        "\n"
      ],
      "metadata": {
        "id": "W8dQFI5QYCFa",
        "colab": {
          "base_uri": "https://localhost:8080/"
        },
        "outputId": "d4942ff2-48b4-4691-c49a-fad01a1f5dbd"
      },
      "execution_count": 3,
      "outputs": [
        {
          "output_type": "execute_result",
          "data": {
            "text/plain": []
          },
          "metadata": {},
          "execution_count": 3
        }
      ]
    },
    {
      "cell_type": "markdown",
      "source": [
        "limpio el ambiente de R"
      ],
      "metadata": {
        "id": "SE94XRhWsxkX"
      }
    },
    {
      "cell_type": "code",
      "source": [
        "# limpio la memoria\n",
        "rm(list=ls(all.names=TRUE)) # remove all objects\n",
        "gc(full=TRUE, verbose=FALSE) # garbage collection"
      ],
      "metadata": {
        "id": "oZG_4br6szlT",
        "colab": {
          "base_uri": "https://localhost:8080/",
          "height": 129
        },
        "outputId": "11d2829d-cf0a-4f5e-859b-0cf0bad6b3d3"
      },
      "execution_count": 2,
      "outputs": [
        {
          "output_type": "display_data",
          "data": {
            "text/html": [
              "<table class=\"dataframe\">\n",
              "<caption>A matrix: 2 × 6 of type dbl</caption>\n",
              "<thead>\n",
              "\t<tr><th></th><th scope=col>used</th><th scope=col>(Mb)</th><th scope=col>gc trigger</th><th scope=col>(Mb)</th><th scope=col>max used</th><th scope=col>(Mb)</th></tr>\n",
              "</thead>\n",
              "<tbody>\n",
              "\t<tr><th scope=row>Ncells</th><td> 710569</td><td>38.0</td><td>1454477</td><td>77.7</td><td>1454477</td><td>77.7</td></tr>\n",
              "\t<tr><th scope=row>Vcells</th><td>1319506</td><td>10.1</td><td>8388608</td><td>64.0</td><td>2049015</td><td>15.7</td></tr>\n",
              "</tbody>\n",
              "</table>\n"
            ],
            "text/markdown": "\nA matrix: 2 × 6 of type dbl\n\n| <!--/--> | used | (Mb) | gc trigger | (Mb) | max used | (Mb) |\n|---|---|---|---|---|---|---|\n| Ncells |  710569 | 38.0 | 1454477 | 77.7 | 1454477 | 77.7 |\n| Vcells | 1319506 | 10.1 | 8388608 | 64.0 | 2049015 | 15.7 |\n\n",
            "text/latex": "A matrix: 2 × 6 of type dbl\n\\begin{tabular}{r|llllll}\n  & used & (Mb) & gc trigger & (Mb) & max used & (Mb)\\\\\n\\hline\n\tNcells &  710569 & 38.0 & 1454477 & 77.7 & 1454477 & 77.7\\\\\n\tVcells & 1319506 & 10.1 & 8388608 & 64.0 & 2049015 & 15.7\\\\\n\\end{tabular}\n",
            "text/plain": [
              "       used    (Mb) gc trigger (Mb) max used (Mb)\n",
              "Ncells  710569 38.0 1454477    77.7 1454477  77.7\n",
              "Vcells 1319506 10.1 8388608    64.0 2049015  15.7"
            ]
          },
          "metadata": {}
        }
      ]
    },
    {
      "cell_type": "code",
      "source": [
        "# cargo las librerias que necesito\n",
        "require(\"data.table\")\n",
        "require(\"rpart\")\n",
        "require(\"parallel\")\n",
        "if (!require(\"primes\")) install.packages(\"primes\")\n",
        "require(\"primes\")"
      ],
      "metadata": {
        "id": "JO-12d7YHkWy",
        "colab": {
          "base_uri": "https://localhost:8080/"
        },
        "outputId": "d45a1c3b-c806-48e9-8325-bf4213583e34"
      },
      "execution_count": 3,
      "outputs": [
        {
          "output_type": "stream",
          "name": "stderr",
          "text": [
            "Loading required package: data.table\n",
            "\n",
            "Loading required package: rpart\n",
            "\n",
            "Loading required package: parallel\n",
            "\n",
            "Loading required package: primes\n",
            "\n",
            "Warning message in library(package, lib.loc = lib.loc, character.only = TRUE, logical.return = TRUE, :\n",
            "“there is no package called ‘primes’”\n",
            "Installing package into ‘/usr/local/lib/R/site-library’\n",
            "(as ‘lib’ is unspecified)\n",
            "\n",
            "Loading required package: primes\n",
            "\n"
          ]
        }
      ]
    },
    {
      "cell_type": "markdown",
      "source": [
        "Aqui debe poner SU semiila primigenia"
      ],
      "metadata": {
        "id": "0MclPEJ6Q8Bp"
      }
    },
    {
      "cell_type": "code",
      "source": [
        "PARAM <- list()\n",
        "# reemplazar por su primer semilla\n",
        "PARAM$semilla_primigenia <- 209353\n",
        "PARAM$qsemillas <- 16\n",
        "\n",
        "PARAM$training_pct <- 70L  # entre  1L y 99L\n",
        "\n",
        "# elegir SU dataset comentando/ descomentando\n",
        "PARAM$dataset_nom <- \"~/datasets/dataset_pequeno.csv\""
      ],
      "metadata": {
        "id": "Vt5fC6bWHu5r"
      },
      "execution_count": 4,
      "outputs": []
    },
    {
      "cell_type": "code",
      "source": [
        "# particionar agrega una columna llamada fold a un dataset\n",
        "#  que consiste en una particion estratificada segun agrupa\n",
        "# particionar( data=dataset, division=c(70,30), agrupa=clase_ternaria, seed=semilla)\n",
        "#   crea una particion 70, 30\n",
        "\n",
        "particionar <- function(data, division, agrupa = \"\", campo = \"fold\", start = 1, seed = NA) {\n",
        "  if (!is.na(seed)) set.seed(seed)\n",
        "\n",
        "  bloque <- unlist(mapply(function(x, y) {\n",
        "    rep(y, x)\n",
        "  }, division, seq(from = start, length.out = length(division))))\n",
        "\n",
        "  data[, (campo) := sample(rep(bloque, ceiling(.N / length(bloque))))[1:.N],\n",
        "    by = agrupa\n",
        "  ]\n",
        "}\n"
      ],
      "metadata": {
        "id": "Z1dchsrWH4MD"
      },
      "execution_count": 5,
      "outputs": []
    },
    {
      "cell_type": "code",
      "source": [
        "ArbolEstimarGanancia <- function(semilla, training_pct, param_basicos) {\n",
        "  # particiono estratificadamente el dataset\n",
        "  particionar(dataset,\n",
        "    division = c(training_pct, 100L -training_pct),\n",
        "    agrupa = \"clase_ternaria\",\n",
        "    seed = semilla # aqui se usa SU semilla\n",
        "  )\n",
        "\n",
        "  # genero el modelo\n",
        "  # predecir clase_ternaria a partir del resto\n",
        "  modelo <- rpart(\"clase_ternaria ~ .\",\n",
        "    data = dataset[fold == 1], # fold==1  es training,  el 70% de los datos\n",
        "    xval = 0,\n",
        "    control = param_basicos\n",
        "  ) # aqui van los parametros del arbol\n",
        "\n",
        "  # aplico el modelo a los datos de testing\n",
        "  prediccion <- predict(modelo, # el modelo que genere recien\n",
        "    dataset[fold == 2], # fold==2  es testing, el 30% de los datos\n",
        "    type = \"prob\"\n",
        "  ) # type= \"prob\"  es que devuelva la probabilidad\n",
        "\n",
        "  # prediccion es una matriz con TRES columnas,\n",
        "  #  llamadas \"BAJA+1\", \"BAJA+2\"  y \"CONTINUA\"\n",
        "  # cada columna es el vector de probabilidades\n",
        "\n",
        "\n",
        "  # calculo la ganancia en testing  qu es fold==2\n",
        "  ganancia_test <- dataset[\n",
        "    fold == 2,\n",
        "    sum(ifelse(prediccion[, \"BAJA+2\"] > 0.025,\n",
        "      ifelse(clase_ternaria == \"BAJA+2\", 117000, -3000),\n",
        "      0\n",
        "    ))\n",
        "  ]\n",
        "\n",
        "  # escalo la ganancia como si fuera todo el dataset\n",
        "  ganancia_test_normalizada <- ganancia_test / (( 100 - PARAM$training_pct ) / 100 )\n",
        "\n",
        "  return(\n",
        "    c( list(\"semilla\" = semilla),\n",
        "      param_basicos,\n",
        "      list( \"ganancia_test\" = ganancia_test_normalizada )\n",
        "     )\n",
        "  )\n",
        "}\n"
      ],
      "metadata": {
        "id": "xsHwS1CzIA70"
      },
      "execution_count": 6,
      "outputs": []
    },
    {
      "cell_type": "code",
      "source": [
        "ArbolesMontecarlo <- function(semillas, param_basicos) {\n",
        "\n",
        "  # la funcion mcmapply  llama a la funcion ArbolEstimarGanancia\n",
        "  #  tantas veces como valores tenga el vector  PARAM$semillas\n",
        "  salida <- mcmapply(ArbolEstimarGanancia,\n",
        "    semillas, # paso el vector de semillas\n",
        "    MoreArgs = list(PARAM$training_pct, param_basicos), # aqui paso el segundo parametro\n",
        "    SIMPLIFY = FALSE,\n",
        "    mc.cores = detectCores()\n",
        "  )\n",
        "\n",
        "  return(salida)\n",
        "}\n"
      ],
      "metadata": {
        "id": "BvBVOuhqIEjD"
      },
      "execution_count": 7,
      "outputs": []
    },
    {
      "cell_type": "code",
      "source": [
        "# carpeta de trabajo\n",
        "# por fabor cambiar numero de experimento si se cambia el loop principal\n",
        "setwd(\"/content/buckets/b1/exp\")\n",
        "experimento <- \"HT2930\"\n",
        "dir.create(experimento, showWarnings=FALSE)\n",
        "setwd( paste0(\"/content/buckets/b1/exp/\", experimento ))"
      ],
      "metadata": {
        "id": "L-DOGHOjIG7G"
      },
      "execution_count": 22,
      "outputs": []
    },
    {
      "cell_type": "code",
      "source": [
        "# lectura del dataset\n",
        "dataset <- fread(\"/content/datasets/dataset_pequeno.csv\")\n",
        "\n",
        "# trabajo solo con los datos con clase, es decir 202107\n",
        "dataset <- dataset[clase_ternaria != \"\"]"
      ],
      "metadata": {
        "id": "NM-mrLWcIPo6"
      },
      "execution_count": 23,
      "outputs": []
    },
    {
      "cell_type": "code",
      "source": [
        "\n",
        "# genero numeros primos\n",
        "primos <- generate_primes(min = 100000, max = 1000000)\n",
        "set.seed(PARAM$semilla_primigenia) # inicializo\n",
        "# me quedo con PARAM$qsemillas   semillas\n",
        "PARAM$semillas <- sample(primos, PARAM$qsemillas )\n"
      ],
      "metadata": {
        "id": "tSlY0EcgIWdi"
      },
      "execution_count": 24,
      "outputs": []
    },
    {
      "cell_type": "code",
      "source": [
        "# genero la data.table donde van los resultados detallados del Grid Search\n",
        "# un registro para cada combinacion de < semilla, parametros >\n",
        "\n",
        "if(file.exists(\"gridsearch_detalle.txt\")){\n",
        "  tb_grid_search_detalle <- fread(\"gridsearch_detalle.txt\")\n",
        "}else{\n",
        "  tb_grid_search_detalle <- data.table(\n",
        "    semilla = integer(),\n",
        "    cp = numeric(),\n",
        "    maxdepth = integer(),\n",
        "   minsplit = integer(),\n",
        "    minbucket = integer(),\n",
        "    ganancia_test = numeric()\n",
        "  )\n",
        "}\n",
        "\n",
        "nrow( tb_grid_search_detalle )"
      ],
      "metadata": {
        "id": "xxCAwIKyIaTl",
        "colab": {
          "base_uri": "https://localhost:8080/",
          "height": 34
        },
        "outputId": "0a3ae0e9-e1f4-41cc-db62-ce7e72a684b6"
      },
      "execution_count": 25,
      "outputs": [
        {
          "output_type": "display_data",
          "data": {
            "text/html": [
              "0"
            ],
            "text/markdown": "0",
            "text/latex": "0",
            "text/plain": [
              "[1] 0"
            ]
          },
          "metadata": {}
        }
      ]
    },
    {
      "cell_type": "markdown",
      "source": [
        "Esta es la parte del código que usted debe expandir a TODOS los hiperparámetros de rpart,\n",
        "<br>ya que actualmente apenas recorre  maxdepth y  minsplit  dejando fijos  cp=-0.5  y minbucket=5"
      ],
      "metadata": {
        "id": "eAuGBNL8IkOD"
      }
    },
    {
      "cell_type": "code",
      "source": [
        "\n",
        "# itero por los loops anidados para cada hiperparametro\n",
        "iter <- 0\n",
        "\n",
        "for (vmax_depth in c(4, 6, 8, 10, 12, 14)) {\n",
        "  for (vmin_split in c(1000, 800, 600, 400, 200, 100, 50, 20, 10)) {\n",
        "    # notar como se agrega\n",
        "\n",
        "    iter <- iter + 1\n",
        "    cat( iter, \" \" )\n",
        "    flush.console()\n",
        "    if( iter*PARAM$qsemillas < nrow(tb_grid_search_detalle)+1 ) next\n",
        "\n",
        "    # vminsplit  minima cantidad de registros en un nodo para hacer el split\n",
        "    param_basicos <- list(\n",
        "      \"cp\" = -0.5, # complejidad minima\n",
        "      \"maxdepth\" = vmax_depth, # profundidad máxima del arbol\n",
        "      \"minsplit\" = vmin_split, # tamaño minimo de nodo para hacer split\n",
        "      \"minbucket\" = 5 # minima cantidad de registros en una hoja\n",
        "    )\n",
        "\n",
        "    # Un solo llamado, con la semilla 17\n",
        "    ganancias <- ArbolesMontecarlo(PARAM$semillas, param_basicos)\n",
        "\n",
        "    # agrego a la tabla\n",
        "    tb_grid_search_detalle <- rbindlist(\n",
        "      list( tb_grid_search_detalle,\n",
        "            rbindlist(ganancias) )\n",
        "    )\n",
        "\n",
        "  }\n",
        "\n",
        "  # grabo cada vez TODA la tabla en el loop mas externo\n",
        "  fwrite( tb_grid_search_detalle,\n",
        "          file = \"gridsearch_detalle.txt\",\n",
        "          sep = \"\\t\" )\n",
        "}\n"
      ],
      "metadata": {
        "id": "ipLHm3STIfmb"
      },
      "execution_count": null,
      "outputs": []
    },
    {
      "cell_type": "code",
      "source": [
        "# ============================================================\n",
        "# Grid Search completo de hiperparámetros CART - rpart\n",
        "# Optimizado para ejecución en Google Colab (mantiene todos los valores)\n",
        "# Hecho con ChatGPT\n",
        "# ============================================================\n",
        "\n",
        "library(data.table)\n",
        "\n",
        "# Inicializo contador y tabla de resultados\n",
        "iter <- 0\n",
        "tb_grid_search_detalle <- data.table()\n",
        "\n",
        "# ------------------------------------------------------------\n",
        "# Definición de los rangos de valores para cada hiperparámetro\n",
        "# ------------------------------------------------------------\n",
        "valores_cp <- c(-0.5)\n",
        "valores_maxdepth <- c(10)\n",
        "valores_minsplit <- c(1100)\n",
        "valores_minbucket <- c(300)\n",
        "\n",
        "# Número total de combinaciones (para referencia)\n",
        "total_combinaciones <- length(valores_cp) * length(valores_maxdepth) *\n",
        "                       length(valores_minsplit) * length(valores_minbucket)\n",
        "cat(\"🔢 Total de combinaciones:\", total_combinaciones, \"\\n\\n\")\n",
        "\n",
        "# ------------------------------------------------------------\n",
        "# Itero por todos los hiperparámetros combinando los valores posibles\n",
        "# ------------------------------------------------------------\n",
        "for (v_cp in valores_cp) {\n",
        "  for (v_maxdepth in valores_maxdepth) {\n",
        "    for (v_minsplit in valores_minsplit) {\n",
        "      for (v_minbucket in valores_minbucket) {\n",
        "\n",
        "        iter <- iter + 1\n",
        "        cat(\"Iteración:\", iter, \"de\", total_combinaciones,\n",
        "            \"- cp:\", v_cp,\n",
        "            \"- maxdepth:\", v_maxdepth,\n",
        "            \"- minsplit:\", v_minsplit,\n",
        "            \"- minbucket:\", v_minbucket, \"\\n\")\n",
        "        flush.console()\n",
        "\n",
        "        # Evita repetir ejecuciones ya procesadas\n",
        "        if (iter * PARAM$qsemillas < nrow(tb_grid_search_detalle) + 1) next\n",
        "\n",
        "        # Defino el conjunto de hiperparámetros actuales\n",
        "        param_basicos <- list(\n",
        "          \"cp\"        = v_cp,        # parámetro de complejidad mínima\n",
        "          \"maxdepth\"  = v_maxdepth,  # profundidad máxima del árbol\n",
        "          \"minsplit\"  = v_minsplit,  # tamaño mínimo del nodo para dividir\n",
        "          \"minbucket\" = v_minbucket  # tamaño mínimo de cada hoja terminal\n",
        "        )\n",
        "\n",
        "        # Ejecuto la función de evaluación (Montecarlo / validación)\n",
        "        ganancias <- ArbolesMontecarlo(PARAM$semillas, param_basicos)\n",
        "\n",
        "        # Agrego resultados a la tabla\n",
        "        tb_grid_search_detalle <- rbindlist(\n",
        "          list(tb_grid_search_detalle, rbindlist(ganancias)),\n",
        "          use.names = TRUE, fill = TRUE\n",
        "        )\n",
        "\n",
        "        # 💾 Guardado parcial cada 20 iteraciones\n",
        "        if (iter %% 20 == 0) {\n",
        "          fwrite(tb_grid_search_detalle,\n",
        "                 file = \"gridsearch_detalle.txt\",\n",
        "                 sep = \"\\t\")\n",
        "          cat(\"💾 Guardado parcial realizado en iter =\", iter, \"\\n\")\n",
        "          gc()  # Limpieza de memoria\n",
        "        }\n",
        "      }\n",
        "    }\n",
        "  }\n",
        "\n",
        "  # 💾 Guardado completo tras cada ciclo de cp\n",
        "  fwrite(tb_grid_search_detalle,\n",
        "         file = \"gridsearch_detalle.txt\",\n",
        "         sep = \"\\t\")\n",
        "  cat(\"✅ Guardado total tras completar cp =\", v_cp, \"\\n\\n\")\n",
        "  gc()\n",
        "}\n",
        "\n",
        "# ------------------------------------------------------------\n",
        "# Resumen final\n",
        "# ------------------------------------------------------------\n",
        "fwrite(tb_grid_search_detalle,\n",
        "       file = \"gridsearch_detalle_final.txt\",\n",
        "       sep = \"\\t\")\n",
        "\n",
        "cat(\"🏁 Proceso finalizado. Total de combinaciones procesadas:\",\n",
        "    nrow(tb_grid_search_detalle), \"\\n\")\n",
        "cat(\"📄 Resultados guardados en: gridsearch_detalle_final.txt\\n\")\n"
      ],
      "metadata": {
        "colab": {
          "base_uri": "https://localhost:8080/"
        },
        "id": "VqPI9TXPWhES",
        "outputId": "b11dcf4a-0502-408a-dee6-91800ea03ce2"
      },
      "execution_count": 26,
      "outputs": [
        {
          "output_type": "stream",
          "name": "stdout",
          "text": [
            "🔢 Total de combinaciones: 1 \n",
            "\n",
            "Iteración: 1 de 1 - cp: -0.5 - maxdepth: 10 - minsplit: 1100 - minbucket: 300 \n",
            "✅ Guardado total tras completar cp = -0.5 \n",
            "\n",
            "🏁 Proceso finalizado. Total de combinaciones procesadas: 16 \n",
            "📄 Resultados guardados en: gridsearch_detalle_final.txt\n"
          ]
        }
      ]
    },
    {
      "cell_type": "code",
      "source": [
        "# ============================================================\n",
        "# Prueba con Parametros que dieron mejores resultados\n",
        "# Hecho con ChatGPT\n",
        "# ============================================================\n",
        "\n",
        "library(data.table)\n",
        "\n",
        "# Inicializo contador y tabla de resultados\n",
        "iter <- 0\n",
        "tb_grid_search_detalle <- data.table()\n",
        "\n",
        "# ------------------------------------------------------------\n",
        "# Definición de los rangos de valores para cada hiperparámetro\n",
        "# ------------------------------------------------------------\n",
        "valores_cp <- c(-0.5)\n",
        "valores_maxdepth <- c(9, 10, 11)\n",
        "valores_minsplit <- c(950, 1000, 1100)\n",
        "valores_minbucket <- c(250, 300)\n",
        "\n",
        "# Número total de combinaciones (para referencia)\n",
        "total_combinaciones <- length(valores_cp) * length(valores_maxdepth) *\n",
        "                       length(valores_minsplit) * length(valores_minbucket)\n",
        "cat(\"🔢 Total de combinaciones:\", total_combinaciones, \"\\n\\n\")\n",
        "\n",
        "# ------------------------------------------------------------\n",
        "# Itero por todos los hiperparámetros combinando los valores posibles\n",
        "# ------------------------------------------------------------\n",
        "for (v_cp in valores_cp) {\n",
        "  for (v_maxdepth in valores_maxdepth) {\n",
        "    for (v_minsplit in valores_minsplit) {\n",
        "      for (v_minbucket in valores_minbucket) {\n",
        "\n",
        "        iter <- iter + 1\n",
        "        cat(\"Iteración:\", iter, \"de\", total_combinaciones,\n",
        "            \"- cp:\", v_cp,\n",
        "            \"- maxdepth:\", v_maxdepth,\n",
        "            \"- minsplit:\", v_minsplit,\n",
        "            \"- minbucket:\", v_minbucket, \"\\n\")\n",
        "        flush.console()\n",
        "\n",
        "        # Evita repetir ejecuciones ya procesadas\n",
        "        if (iter * PARAM$qsemillas < nrow(tb_grid_search_detalle) + 1) next\n",
        "\n",
        "        # Defino el conjunto de hiperparámetros actuales\n",
        "        param_basicos <- list(\n",
        "          \"cp\"        = v_cp,        # parámetro de complejidad mínima\n",
        "          \"maxdepth\"  = v_maxdepth,  # profundidad máxima del árbol\n",
        "          \"minsplit\"  = v_minsplit,  # tamaño mínimo del nodo para dividir\n",
        "          \"minbucket\" = v_minbucket  # tamaño mínimo de cada hoja terminal\n",
        "        )\n",
        "\n",
        "        # Ejecuto la función de evaluación (Montecarlo / validación)\n",
        "        ganancias <- ArbolesMontecarlo(PARAM$semillas, param_basicos)\n",
        "\n",
        "        # Agrego resultados a la tabla\n",
        "        tb_grid_search_detalle <- rbindlist(\n",
        "          list(tb_grid_search_detalle, rbindlist(ganancias)),\n",
        "          use.names = TRUE, fill = TRUE\n",
        "        )\n",
        "\n",
        "        # 💾 Guardado parcial cada 20 iteraciones\n",
        "        if (iter %% 20 == 0) {\n",
        "          fwrite(tb_grid_search_detalle,\n",
        "                 file = \"gridsearch_detalle.txt\",\n",
        "                 sep = \"\\t\")\n",
        "          cat(\"💾 Guardado parcial realizado en iter =\", iter, \"\\n\")\n",
        "          gc()  # Limpieza de memoria\n",
        "        }\n",
        "      }\n",
        "    }\n",
        "  }\n",
        "\n",
        "  # 💾 Guardado completo tras cada ciclo de cp\n",
        "  fwrite(tb_grid_search_detalle,\n",
        "         file = \"gridsearch_detalle.txt\",\n",
        "         sep = \"\\t\")\n",
        "  cat(\"✅ Guardado total tras completar cp =\", v_cp, \"\\n\\n\")\n",
        "  gc()\n",
        "}\n",
        "\n",
        "# ------------------------------------------------------------\n",
        "# Resumen final\n",
        "# ------------------------------------------------------------\n",
        "fwrite(tb_grid_search_detalle,\n",
        "       file = \"gridsearch_detalle_final.txt\",\n",
        "       sep = \"\\t\")\n",
        "\n",
        "cat(\"🏁 Proceso finalizado. Total de combinaciones procesadas:\",\n",
        "    nrow(tb_grid_search_detalle), \"\\n\")\n",
        "cat(\"📄 Resultados guardados en: gridsearch_detalle_final.txt\\n\")"
      ],
      "metadata": {
        "colab": {
          "base_uri": "https://localhost:8080/"
        },
        "id": "1vhqkMgN5zHj",
        "outputId": "1979d280-6126-4115-b0ee-69180fa208a0"
      },
      "execution_count": null,
      "outputs": [
        {
          "output_type": "stream",
          "name": "stdout",
          "text": [
            "🔢 Total de combinaciones: 18 \n",
            "\n",
            "Iteración: 1 de 18 - cp: -0.5 - maxdepth: 9 - minsplit: 950 - minbucket: 250 \n",
            "Iteración: 2 de 18 - cp: -0.5 - maxdepth: 9 - minsplit: 950 - minbucket: 300 \n",
            "Iteración: 3 de 18 - cp: -0.5 - maxdepth: 9 - minsplit: 1000 - minbucket: 250 \n",
            "Iteración: 4 de 18 - cp: -0.5 - maxdepth: 9 - minsplit: 1000 - minbucket: 300 \n",
            "Iteración: 5 de 18 - cp: -0.5 - maxdepth: 9 - minsplit: 1100 - minbucket: 250 \n",
            "Iteración: 6 de 18 - cp: -0.5 - maxdepth: 9 - minsplit: 1100 - minbucket: 300 \n",
            "Iteración: 7 de 18 - cp: -0.5 - maxdepth: 10 - minsplit: 950 - minbucket: 250 \n",
            "Iteración: 8 de 18 - cp: -0.5 - maxdepth: 10 - minsplit: 950 - minbucket: 300 \n",
            "Iteración: 9 de 18 - cp: -0.5 - maxdepth: 10 - minsplit: 1000 - minbucket: 250 \n",
            "Iteración: 10 de 18 - cp: -0.5 - maxdepth: 10 - minsplit: 1000 - minbucket: 300 \n",
            "Iteración: 11 de 18 - cp: -0.5 - maxdepth: 10 - minsplit: 1100 - minbucket: 250 \n",
            "Iteración: 12 de 18 - cp: -0.5 - maxdepth: 10 - minsplit: 1100 - minbucket: 300 \n",
            "Iteración: 13 de 18 - cp: -0.5 - maxdepth: 11 - minsplit: 950 - minbucket: 250 \n",
            "Iteración: 14 de 18 - cp: -0.5 - maxdepth: 11 - minsplit: 950 - minbucket: 300 \n",
            "Iteración: 15 de 18 - cp: -0.5 - maxdepth: 11 - minsplit: 1000 - minbucket: 250 \n",
            "Iteración: 16 de 18 - cp: -0.5 - maxdepth: 11 - minsplit: 1000 - minbucket: 300 \n",
            "Iteración: 17 de 18 - cp: -0.5 - maxdepth: 11 - minsplit: 1100 - minbucket: 250 \n",
            "Iteración: 18 de 18 - cp: -0.5 - maxdepth: 11 - minsplit: 1100 - minbucket: 300 \n",
            "✅ Guardado total tras completar cp = -0.5 \n",
            "\n",
            "🏁 Proceso finalizado. Total de combinaciones procesadas: 18 \n",
            "📄 Resultados guardados en: gridsearch_detalle_final.txt\n"
          ]
        }
      ]
    },
    {
      "cell_type": "code",
      "source": [
        "# ============================================================\n",
        "# Prueba tercer corrida con cp positivo por recomendacion\n",
        "# Hecho con ChatGPT\n",
        "# ============================================================\n",
        "\n",
        "library(data.table)\n",
        "\n",
        "# Inicializo contador y tabla de resultados\n",
        "iter <- 0\n",
        "tb_grid_search_detalle <- data.table()\n",
        "\n",
        "# ------------------------------------------------------------\n",
        "# Definición de los rangos de valores para cada hiperparámetro\n",
        "# ------------------------------------------------------------\n",
        "valores_cp <- c(0, 0.00001, 0.00005, 0.0001)\n",
        "valores_maxdepth <- c(10)\n",
        "valores_minsplit <- c(1100)\n",
        "valores_minbucket <- c(250)\n",
        "\n",
        "# Número total de combinaciones (para referencia)\n",
        "total_combinaciones <- length(valores_cp) * length(valores_maxdepth) *\n",
        "                       length(valores_minsplit) * length(valores_minbucket)\n",
        "cat(\"🔢 Total de combinaciones:\", total_combinaciones, \"\\n\\n\")\n",
        "\n",
        "# ------------------------------------------------------------\n",
        "# Itero por todos los hiperparámetros combinando los valores posibles\n",
        "# ------------------------------------------------------------\n",
        "for (v_cp in valores_cp) {\n",
        "  for (v_maxdepth in valores_maxdepth) {\n",
        "    for (v_minsplit in valores_minsplit) {\n",
        "      for (v_minbucket in valores_minbucket) {\n",
        "\n",
        "        iter <- iter + 1\n",
        "        cat(\"Iteración:\", iter, \"de\", total_combinaciones,\n",
        "            \"- cp:\", v_cp,\n",
        "            \"- maxdepth:\", v_maxdepth,\n",
        "            \"- minsplit:\", v_minsplit,\n",
        "            \"- minbucket:\", v_minbucket, \"\\n\")\n",
        "        flush.console()\n",
        "\n",
        "        # Evita repetir ejecuciones ya procesadas\n",
        "        if (iter * PARAM$qsemillas < nrow(tb_grid_search_detalle) + 1) next\n",
        "\n",
        "        # Defino el conjunto de hiperparámetros actuales\n",
        "        param_basicos <- list(\n",
        "          \"cp\"        = v_cp,        # parámetro de complejidad mínima\n",
        "          \"maxdepth\"  = v_maxdepth,  # profundidad máxima del árbol\n",
        "          \"minsplit\"  = v_minsplit,  # tamaño mínimo del nodo para dividir\n",
        "          \"minbucket\" = v_minbucket  # tamaño mínimo de cada hoja terminal\n",
        "        )\n",
        "\n",
        "        # Ejecuto la función de evaluación (Montecarlo / validación)\n",
        "        ganancias <- ArbolesMontecarlo(PARAM$semillas, param_basicos)\n",
        "\n",
        "        # Agrego resultados a la tabla\n",
        "        tb_grid_search_detalle <- rbindlist(\n",
        "          list(tb_grid_search_detalle, rbindlist(ganancias)),\n",
        "          use.names = TRUE, fill = TRUE\n",
        "        )\n",
        "\n",
        "        # 💾 Guardado parcial cada 20 iteraciones\n",
        "        if (iter %% 20 == 0) {\n",
        "          fwrite(tb_grid_search_detalle,\n",
        "                 file = \"gridsearch_detalle.txt\",\n",
        "                 sep = \"\\t\")\n",
        "          cat(\"💾 Guardado parcial realizado en iter =\", iter, \"\\n\")\n",
        "          gc()  # Limpieza de memoria\n",
        "        }\n",
        "      }\n",
        "    }\n",
        "  }\n",
        "\n",
        "  # 💾 Guardado completo tras cada ciclo de cp\n",
        "  fwrite(tb_grid_search_detalle,\n",
        "         file = \"gridsearch_detalle.txt\",\n",
        "         sep = \"\\t\")\n",
        "  cat(\"✅ Guardado total tras completar cp =\", v_cp, \"\\n\\n\")\n",
        "  gc()\n",
        "}\n",
        "\n",
        "# ------------------------------------------------------------\n",
        "# Resumen final\n",
        "# ------------------------------------------------------------\n",
        "fwrite(tb_grid_search_detalle,\n",
        "       file = \"gridsearch_detalle_final.txt\",\n",
        "       sep = \"\\t\")\n",
        "\n",
        "cat(\"🏁 Proceso finalizado. Total de combinaciones procesadas:\",\n",
        "    nrow(tb_grid_search_detalle), \"\\n\")\n",
        "cat(\"📄 Resultados guardados en: gridsearch_detalle_final.txt\\n\")"
      ],
      "metadata": {
        "colab": {
          "base_uri": "https://localhost:8080/"
        },
        "id": "gf0VgtIy-LGE",
        "outputId": "11fce35c-e8ed-4e1a-a1b8-a111d58cca6c"
      },
      "execution_count": null,
      "outputs": [
        {
          "output_type": "stream",
          "name": "stdout",
          "text": [
            "🔢 Total de combinaciones: 4 \n",
            "\n",
            "Iteración: 1 de 4 - cp: 0 - maxdepth: 10 - minsplit: 1100 - minbucket: 250 \n",
            "✅ Guardado total tras completar cp = 0 \n",
            "\n",
            "Iteración: 2 de 4 - cp: 1e-05 - maxdepth: 10 - minsplit: 1100 - minbucket: 250 \n",
            "✅ Guardado total tras completar cp = 1e-05 \n",
            "\n",
            "Iteración: 3 de 4 - cp: 5e-05 - maxdepth: 10 - minsplit: 1100 - minbucket: 250 \n",
            "✅ Guardado total tras completar cp = 5e-05 \n",
            "\n",
            "Iteración: 4 de 4 - cp: 1e-04 - maxdepth: 10 - minsplit: 1100 - minbucket: 250 \n",
            "✅ Guardado total tras completar cp = 1e-04 \n",
            "\n",
            "🏁 Proceso finalizado. Total de combinaciones procesadas: 4 \n",
            "📄 Resultados guardados en: gridsearch_detalle_final.txt\n"
          ]
        }
      ]
    },
    {
      "cell_type": "code",
      "source": [
        "fwrite( tb_grid_search_detalle,\n",
        "   file = \"gridsearch_detalle.txt\",\n",
        "   sep = \"\\t\"\n",
        ")"
      ],
      "metadata": {
        "id": "WZaSqYBxiDFu"
      },
      "execution_count": 27,
      "outputs": []
    },
    {
      "cell_type": "code",
      "source": [
        "# cantidad de registros de la tabla\n",
        "nrow(tb_grid_search_detalle)"
      ],
      "metadata": {
        "id": "STp0duM-RYVJ",
        "colab": {
          "base_uri": "https://localhost:8080/",
          "height": 34
        },
        "outputId": "93482488-1638-403d-834f-b28a2b4dd409"
      },
      "execution_count": 28,
      "outputs": [
        {
          "output_type": "display_data",
          "data": {
            "text/html": [
              "16"
            ],
            "text/markdown": "16",
            "text/latex": "16",
            "text/plain": [
              "[1] 16"
            ]
          },
          "metadata": {}
        }
      ]
    },
    {
      "cell_type": "code",
      "source": [
        "# muestro la tabla\n",
        "tb_grid_search_detalle"
      ],
      "metadata": {
        "id": "k7fhk_H0iNez",
        "colab": {
          "base_uri": "https://localhost:8080/",
          "height": 600
        },
        "outputId": "0d789f89-fa41-4c81-88e9-dc12cef9df6a"
      },
      "execution_count": 29,
      "outputs": [
        {
          "output_type": "display_data",
          "data": {
            "text/html": [
              "<table class=\"dataframe\">\n",
              "<caption>A data.table: 16 × 6</caption>\n",
              "<thead>\n",
              "\t<tr><th scope=col>semilla</th><th scope=col>cp</th><th scope=col>maxdepth</th><th scope=col>minsplit</th><th scope=col>minbucket</th><th scope=col>ganancia_test</th></tr>\n",
              "\t<tr><th scope=col>&lt;int&gt;</th><th scope=col>&lt;dbl&gt;</th><th scope=col>&lt;dbl&gt;</th><th scope=col>&lt;dbl&gt;</th><th scope=col>&lt;dbl&gt;</th><th scope=col>&lt;dbl&gt;</th></tr>\n",
              "</thead>\n",
              "<tbody>\n",
              "\t<tr><td>160357</td><td>-0.5</td><td>10</td><td>1100</td><td>300</td><td>49760000</td></tr>\n",
              "\t<tr><td>990323</td><td>-0.5</td><td>10</td><td>1100</td><td>300</td><td>46360000</td></tr>\n",
              "\t<tr><td>989671</td><td>-0.5</td><td>10</td><td>1100</td><td>300</td><td>51450000</td></tr>\n",
              "\t<tr><td>255107</td><td>-0.5</td><td>10</td><td>1100</td><td>300</td><td>47720000</td></tr>\n",
              "\t<tr><td>261427</td><td>-0.5</td><td>10</td><td>1100</td><td>300</td><td>48950000</td></tr>\n",
              "\t<tr><td>136223</td><td>-0.5</td><td>10</td><td>1100</td><td>300</td><td>50410000</td></tr>\n",
              "\t<tr><td>718321</td><td>-0.5</td><td>10</td><td>1100</td><td>300</td><td>47850000</td></tr>\n",
              "\t<tr><td>606341</td><td>-0.5</td><td>10</td><td>1100</td><td>300</td><td>43150000</td></tr>\n",
              "\t<tr><td>233327</td><td>-0.5</td><td>10</td><td>1100</td><td>300</td><td>51240000</td></tr>\n",
              "\t<tr><td>411779</td><td>-0.5</td><td>10</td><td>1100</td><td>300</td><td>45290000</td></tr>\n",
              "\t<tr><td>448157</td><td>-0.5</td><td>10</td><td>1100</td><td>300</td><td>46360000</td></tr>\n",
              "\t<tr><td>275591</td><td>-0.5</td><td>10</td><td>1100</td><td>300</td><td>45540000</td></tr>\n",
              "\t<tr><td>616409</td><td>-0.5</td><td>10</td><td>1100</td><td>300</td><td>48410000</td></tr>\n",
              "\t<tr><td>225569</td><td>-0.5</td><td>10</td><td>1100</td><td>300</td><td>49020000</td></tr>\n",
              "\t<tr><td>708049</td><td>-0.5</td><td>10</td><td>1100</td><td>300</td><td>44120000</td></tr>\n",
              "\t<tr><td>615827</td><td>-0.5</td><td>10</td><td>1100</td><td>300</td><td>47440000</td></tr>\n",
              "</tbody>\n",
              "</table>\n"
            ],
            "text/markdown": "\nA data.table: 16 × 6\n\n| semilla &lt;int&gt; | cp &lt;dbl&gt; | maxdepth &lt;dbl&gt; | minsplit &lt;dbl&gt; | minbucket &lt;dbl&gt; | ganancia_test &lt;dbl&gt; |\n|---|---|---|---|---|---|\n| 160357 | -0.5 | 10 | 1100 | 300 | 49760000 |\n| 990323 | -0.5 | 10 | 1100 | 300 | 46360000 |\n| 989671 | -0.5 | 10 | 1100 | 300 | 51450000 |\n| 255107 | -0.5 | 10 | 1100 | 300 | 47720000 |\n| 261427 | -0.5 | 10 | 1100 | 300 | 48950000 |\n| 136223 | -0.5 | 10 | 1100 | 300 | 50410000 |\n| 718321 | -0.5 | 10 | 1100 | 300 | 47850000 |\n| 606341 | -0.5 | 10 | 1100 | 300 | 43150000 |\n| 233327 | -0.5 | 10 | 1100 | 300 | 51240000 |\n| 411779 | -0.5 | 10 | 1100 | 300 | 45290000 |\n| 448157 | -0.5 | 10 | 1100 | 300 | 46360000 |\n| 275591 | -0.5 | 10 | 1100 | 300 | 45540000 |\n| 616409 | -0.5 | 10 | 1100 | 300 | 48410000 |\n| 225569 | -0.5 | 10 | 1100 | 300 | 49020000 |\n| 708049 | -0.5 | 10 | 1100 | 300 | 44120000 |\n| 615827 | -0.5 | 10 | 1100 | 300 | 47440000 |\n\n",
            "text/latex": "A data.table: 16 × 6\n\\begin{tabular}{llllll}\n semilla & cp & maxdepth & minsplit & minbucket & ganancia\\_test\\\\\n <int> & <dbl> & <dbl> & <dbl> & <dbl> & <dbl>\\\\\n\\hline\n\t 160357 & -0.5 & 10 & 1100 & 300 & 49760000\\\\\n\t 990323 & -0.5 & 10 & 1100 & 300 & 46360000\\\\\n\t 989671 & -0.5 & 10 & 1100 & 300 & 51450000\\\\\n\t 255107 & -0.5 & 10 & 1100 & 300 & 47720000\\\\\n\t 261427 & -0.5 & 10 & 1100 & 300 & 48950000\\\\\n\t 136223 & -0.5 & 10 & 1100 & 300 & 50410000\\\\\n\t 718321 & -0.5 & 10 & 1100 & 300 & 47850000\\\\\n\t 606341 & -0.5 & 10 & 1100 & 300 & 43150000\\\\\n\t 233327 & -0.5 & 10 & 1100 & 300 & 51240000\\\\\n\t 411779 & -0.5 & 10 & 1100 & 300 & 45290000\\\\\n\t 448157 & -0.5 & 10 & 1100 & 300 & 46360000\\\\\n\t 275591 & -0.5 & 10 & 1100 & 300 & 45540000\\\\\n\t 616409 & -0.5 & 10 & 1100 & 300 & 48410000\\\\\n\t 225569 & -0.5 & 10 & 1100 & 300 & 49020000\\\\\n\t 708049 & -0.5 & 10 & 1100 & 300 & 44120000\\\\\n\t 615827 & -0.5 & 10 & 1100 & 300 & 47440000\\\\\n\\end{tabular}\n",
            "text/plain": [
              "   semilla cp   maxdepth minsplit minbucket ganancia_test\n",
              "1  160357  -0.5 10       1100     300       49760000     \n",
              "2  990323  -0.5 10       1100     300       46360000     \n",
              "3  989671  -0.5 10       1100     300       51450000     \n",
              "4  255107  -0.5 10       1100     300       47720000     \n",
              "5  261427  -0.5 10       1100     300       48950000     \n",
              "6  136223  -0.5 10       1100     300       50410000     \n",
              "7  718321  -0.5 10       1100     300       47850000     \n",
              "8  606341  -0.5 10       1100     300       43150000     \n",
              "9  233327  -0.5 10       1100     300       51240000     \n",
              "10 411779  -0.5 10       1100     300       45290000     \n",
              "11 448157  -0.5 10       1100     300       46360000     \n",
              "12 275591  -0.5 10       1100     300       45540000     \n",
              "13 616409  -0.5 10       1100     300       48410000     \n",
              "14 225569  -0.5 10       1100     300       49020000     \n",
              "15 708049  -0.5 10       1100     300       44120000     \n",
              "16 615827  -0.5 10       1100     300       47440000     "
            ]
          },
          "metadata": {}
        }
      ]
    },
    {
      "cell_type": "code",
      "source": [
        "# genero y grabo el resumen\n",
        "tb_grid_search <- tb_grid_search_detalle[,\n",
        "  list( \"ganancia_mean\" = mean(ganancia_test),\n",
        "    \"qty\" = .N ),\n",
        "  list( cp, maxdepth, minsplit, minbucket )\n",
        "]\n"
      ],
      "metadata": {
        "id": "DjCxtx8bIsgl"
      },
      "execution_count": 17,
      "outputs": []
    },
    {
      "cell_type": "code",
      "source": [
        "# ordeno descendente por ganancia\n",
        "setorder( tb_grid_search, -ganancia_mean )\n"
      ],
      "metadata": {
        "id": "LU29UhL1Ivg5"
      },
      "execution_count": 18,
      "outputs": []
    },
    {
      "cell_type": "code",
      "source": [
        "# veo los 10 mejores hiperparámetros\n",
        "tb_grid_search[1:10]"
      ],
      "metadata": {
        "id": "g-EjGY7aIyWL",
        "colab": {
          "base_uri": "https://localhost:8080/",
          "height": 412
        },
        "outputId": "74eb8721-13ab-4dfa-c1be-e1edbc6c97e0"
      },
      "execution_count": 19,
      "outputs": [
        {
          "output_type": "display_data",
          "data": {
            "text/html": [
              "<table class=\"dataframe\">\n",
              "<caption>A data.table: 10 × 6</caption>\n",
              "<thead>\n",
              "\t<tr><th scope=col>cp</th><th scope=col>maxdepth</th><th scope=col>minsplit</th><th scope=col>minbucket</th><th scope=col>ganancia_mean</th><th scope=col>qty</th></tr>\n",
              "\t<tr><th scope=col>&lt;dbl&gt;</th><th scope=col>&lt;dbl&gt;</th><th scope=col>&lt;dbl&gt;</th><th scope=col>&lt;dbl&gt;</th><th scope=col>&lt;dbl&gt;</th><th scope=col>&lt;int&gt;</th></tr>\n",
              "</thead>\n",
              "<tbody>\n",
              "\t<tr><td>-0.5</td><td> 9</td><td>1100</td><td>250</td><td>47788750</td><td>16</td></tr>\n",
              "\t<tr><td>  NA</td><td>NA</td><td>  NA</td><td> NA</td><td>      NA</td><td>NA</td></tr>\n",
              "\t<tr><td>  NA</td><td>NA</td><td>  NA</td><td> NA</td><td>      NA</td><td>NA</td></tr>\n",
              "\t<tr><td>  NA</td><td>NA</td><td>  NA</td><td> NA</td><td>      NA</td><td>NA</td></tr>\n",
              "\t<tr><td>  NA</td><td>NA</td><td>  NA</td><td> NA</td><td>      NA</td><td>NA</td></tr>\n",
              "\t<tr><td>  NA</td><td>NA</td><td>  NA</td><td> NA</td><td>      NA</td><td>NA</td></tr>\n",
              "\t<tr><td>  NA</td><td>NA</td><td>  NA</td><td> NA</td><td>      NA</td><td>NA</td></tr>\n",
              "\t<tr><td>  NA</td><td>NA</td><td>  NA</td><td> NA</td><td>      NA</td><td>NA</td></tr>\n",
              "\t<tr><td>  NA</td><td>NA</td><td>  NA</td><td> NA</td><td>      NA</td><td>NA</td></tr>\n",
              "\t<tr><td>  NA</td><td>NA</td><td>  NA</td><td> NA</td><td>      NA</td><td>NA</td></tr>\n",
              "</tbody>\n",
              "</table>\n"
            ],
            "text/markdown": "\nA data.table: 10 × 6\n\n| cp &lt;dbl&gt; | maxdepth &lt;dbl&gt; | minsplit &lt;dbl&gt; | minbucket &lt;dbl&gt; | ganancia_mean &lt;dbl&gt; | qty &lt;int&gt; |\n|---|---|---|---|---|---|\n| -0.5 |  9 | 1100 | 250 | 47788750 | 16 |\n|   NA | NA |   NA |  NA |       NA | NA |\n|   NA | NA |   NA |  NA |       NA | NA |\n|   NA | NA |   NA |  NA |       NA | NA |\n|   NA | NA |   NA |  NA |       NA | NA |\n|   NA | NA |   NA |  NA |       NA | NA |\n|   NA | NA |   NA |  NA |       NA | NA |\n|   NA | NA |   NA |  NA |       NA | NA |\n|   NA | NA |   NA |  NA |       NA | NA |\n|   NA | NA |   NA |  NA |       NA | NA |\n\n",
            "text/latex": "A data.table: 10 × 6\n\\begin{tabular}{llllll}\n cp & maxdepth & minsplit & minbucket & ganancia\\_mean & qty\\\\\n <dbl> & <dbl> & <dbl> & <dbl> & <dbl> & <int>\\\\\n\\hline\n\t -0.5 &  9 & 1100 & 250 & 47788750 & 16\\\\\n\t   NA & NA &   NA &  NA &       NA & NA\\\\\n\t   NA & NA &   NA &  NA &       NA & NA\\\\\n\t   NA & NA &   NA &  NA &       NA & NA\\\\\n\t   NA & NA &   NA &  NA &       NA & NA\\\\\n\t   NA & NA &   NA &  NA &       NA & NA\\\\\n\t   NA & NA &   NA &  NA &       NA & NA\\\\\n\t   NA & NA &   NA &  NA &       NA & NA\\\\\n\t   NA & NA &   NA &  NA &       NA & NA\\\\\n\t   NA & NA &   NA &  NA &       NA & NA\\\\\n\\end{tabular}\n",
            "text/plain": [
              "   cp   maxdepth minsplit minbucket ganancia_mean qty\n",
              "1  -0.5  9       1100     250       47788750      16 \n",
              "2    NA NA         NA      NA             NA      NA \n",
              "3    NA NA         NA      NA             NA      NA \n",
              "4    NA NA         NA      NA             NA      NA \n",
              "5    NA NA         NA      NA             NA      NA \n",
              "6    NA NA         NA      NA             NA      NA \n",
              "7    NA NA         NA      NA             NA      NA \n",
              "8    NA NA         NA      NA             NA      NA \n",
              "9    NA NA         NA      NA             NA      NA \n",
              "10   NA NA         NA      NA             NA      NA "
            ]
          },
          "metadata": {}
        }
      ]
    },
    {
      "cell_type": "code",
      "source": [
        "# genero un id a la tabla\n",
        "tb_grid_search[, id := .I ]\n",
        "\n",
        "fwrite( tb_grid_search,\n",
        "  file = \"gridsearch.txt\",\n",
        "  sep = \"\\t\"\n",
        ")\n"
      ],
      "metadata": {
        "id": "K3S-I2PTI5ZE"
      },
      "execution_count": 20,
      "outputs": []
    },
    {
      "cell_type": "markdown",
      "source": [
        "# 4.  Análisis de resultados de Grid Search"
      ],
      "metadata": {
        "id": "1rYHk1YkI_9k"
      }
    },
    {
      "cell_type": "markdown",
      "source": [
        "La salida de la corrida anterior queda en ~/buckets/b1/exp/HT2900  que corresponde a su Google Drive\n",
        "<br>HT significa Hyperparameter Tuning\n",
        "<br>El Grid Search es un método de fuerza bruta de un altísimo costo computacional.\n",
        "<br>Queremos ver si es posible crear un algoritmo de optimización de hiperparámetros que se ahorre recorrer ciertas porciones muy malas del espacio de búsqueda. Algo del estilo “cada vez que pruebo una combinación de hiperparámetros donde  cp > 1 , la ganancia es muy mala, con lo cual ni vale la pena perder el tiempo explorando en esa region”\n"
      ],
      "metadata": {
        "id": "ZTJgPhMWJHTk"
      }
    },
    {
      "cell_type": "markdown",
      "source": [
        "<br>Levante el archivo de salida gridsearch.txt  a una planilla tipo Excel y analícelo detenidamente\n",
        "<br>Ordene por ganancia_mean descendente\n",
        "<br>\n",
        "<br>El de mayor ganancia_mean  decimos que es el primero del ranking\n",
        "En Zulip, correspondiente channel  #Tarea Hogar 02 , topic Analisis Grid Search   intente contestar estas preguntas:\n",
        "\n",
        "* ¿Qué combinaciones de hiperparámetros poseen una ganancia muy buena?\n",
        "* ¿Hay algun hiperparámetro que para cierto valor siempre genera una ganancia muy mala, a independientemente de lo que valgan los otros hiperparámetros ?\n",
        "* ¿Que combinaciones de hiperparámetros es pésima y hubiera sido bueno ahorrarse esas corridas ?\n",
        "\n",
        "( tiempo estimado 30 minutos, dificultad media )"
      ],
      "metadata": {
        "id": "IaVgMu4tPwyB"
      }
    }
  ]
}