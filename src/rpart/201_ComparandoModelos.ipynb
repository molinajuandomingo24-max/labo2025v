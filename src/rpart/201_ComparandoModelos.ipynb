{
  "nbformat": 4,
  "nbformat_minor": 0,
  "metadata": {
    "colab": {
      "provenance": [],
      "include_colab_link": true
    },
    "kernelspec": {
      "name": "ir",
      "display_name": "R"
    },
    "language_info": {
      "name": "R"
    }
  },
  "cells": [
    {
      "cell_type": "markdown",
      "metadata": {
        "id": "view-in-github",
        "colab_type": "text"
      },
      "source": [
        "<a href=\"https://colab.research.google.com/github/molinajuandomingo24-max/labo2025v/blob/main/src/rpart/201_ComparandoModelos.ipynb\" target=\"_parent\"><img src=\"https://colab.research.google.com/assets/colab-badge.svg\" alt=\"Open In Colab\"/></a>"
      ]
    },
    {
      "cell_type": "markdown",
      "source": [
        "# Comparando Modelos"
      ],
      "metadata": {
        "id": "5DrvzQ9BsXmX"
      }
    },
    {
      "cell_type": "markdown",
      "source": [
        "Estamos en la  Clase 02\n",
        "<br> El objetivo de la materia es lograr la mejor predicción para nuestro probleama, para lo que se probarán pipelines con decenas de alternativas, será indispensable comparar varios modelos predictivos entre sí y decidir cual es el mejor\n",
        "<br> La tarea no es tan sencilla"
      ],
      "metadata": {
        "id": "Y2U9lu16sgta"
      }
    },
    {
      "cell_type": "markdown",
      "source": [
        "## Seteo del ambiente en Google Colab"
      ],
      "metadata": {
        "id": "kmLygy1TYPfg"
      }
    },
    {
      "cell_type": "markdown",
      "source": [
        "Esta parte se debe correr con el runtime en Python3\n",
        "<br>Ir al menu, Runtime -> Change Runtime Tipe -> Runtime type ->  **Python 3**"
      ],
      "metadata": {
        "id": "OikOm5K2YU3X"
      }
    },
    {
      "cell_type": "markdown",
      "source": [
        "Conectar la virtual machine donde esta corriendo Google Colab con el  Google Drive, para poder tener persistencia de archivos"
      ],
      "metadata": {
        "id": "4fmV5LyZdFyI"
      }
    },
    {
      "cell_type": "code",
      "source": [
        "# primero establecer el Runtime de Python 3\n",
        "from google.colab import drive\n",
        "drive.mount('/content/.drive')"
      ],
      "metadata": {
        "id": "ilEZ-bE2VybW"
      },
      "execution_count": null,
      "outputs": []
    },
    {
      "cell_type": "markdown",
      "source": [
        "Para correr la siguiente celda es fundamental en Arranque en Frio haber copiado el archivo kaggle.json al Google Drive, en la carpeta indicada en el instructivo\n",
        "\n",
        "<br>los siguientes comando estan en shell script de Linux\n",
        "*   Crear las carpetas en el Google Drive\n",
        "*   \"instalar\" el archivo kaggle.json desde el Google Drive a la virtual machine para que pueda ser utilizado por la libreria  kaggle de Python\n",
        "*   Bajar el  **dataset_pequeno**  al  Google Drive  y tambien al disco local de la virtual machine que esta corriendo Google Colab\n",
        "\n"
      ],
      "metadata": {
        "id": "ilaKtqWldeWg"
      }
    },
    {
      "cell_type": "code",
      "source": [
        "%%shell\n",
        "\n",
        "mkdir -p \"/content/.drive/My Drive/labo1\"\n",
        "mkdir -p \"/content/buckets\"\n",
        "ln -s \"/content/.drive/My Drive/labo1\" /content/buckets/b1\n",
        "\n",
        "mkdir -p ~/.kaggle\n",
        "cp /content/buckets/b1/kaggle/kaggle.json  ~/.kaggle\n",
        "chmod 600 ~/.kaggle/kaggle.json\n",
        "\n",
        "\n",
        "mkdir -p /content/buckets/b1/exp\n",
        "mkdir -p /content/buckets/b1/datasets\n",
        "mkdir -p /content/datasets\n",
        "\n",
        "\n",
        "\n",
        "archivo_origen=\"https://storage.googleapis.com/open-courses/austral2025-af91/dataset_pequeno.csv\"\n",
        "archivo_destino=\"/content/datasets/dataset_pequeno.csv\"\n",
        "archivo_destino_bucket=\"/content/buckets/b1/datasets/dataset_pequeno.csv\"\n",
        "\n",
        "if ! test -f $archivo_destino_bucket; then\n",
        "  wget  $archivo_origen  -O $archivo_destino_bucket\n",
        "fi\n",
        "\n",
        "\n",
        "if ! test -f $archivo_destino; then\n",
        "  cp  $archivo_destino_bucket  $archivo_destino\n",
        "fi\n"
      ],
      "metadata": {
        "id": "W8dQFI5QYCFa",
        "outputId": "5281ff2b-e6be-4417-b2e2-168db667eed8",
        "colab": {
          "base_uri": "https://localhost:8080/"
        }
      },
      "execution_count": 2,
      "outputs": [
        {
          "output_type": "stream",
          "name": "stdout",
          "text": [
            "--2025-09-30 23:16:18--  https://storage.googleapis.com/open-courses/austral2025-af91/dataset_pequeno.csv\n",
            "Resolving storage.googleapis.com (storage.googleapis.com)... 192.178.210.207, 192.178.129.207, 173.194.64.207, ...\n",
            "Connecting to storage.googleapis.com (storage.googleapis.com)|192.178.210.207|:443... connected.\n",
            "HTTP request sent, awaiting response... 200 OK\n",
            "Length: 168083585 (160M) [text/csv]\n",
            "Saving to: ‘/content/buckets/b1/datasets/dataset_pequeno.csv’\n",
            "\n",
            "/content/buckets/b1 100%[===================>] 160.30M  40.9MB/s    in 4.0s    \n",
            "\n",
            "2025-09-30 23:16:23 (39.6 MB/s) - ‘/content/buckets/b1/datasets/dataset_pequeno.csv’ saved [168083585/168083585]\n",
            "\n"
          ]
        },
        {
          "output_type": "execute_result",
          "data": {
            "text/plain": []
          },
          "metadata": {},
          "execution_count": 2
        }
      ]
    },
    {
      "cell_type": "markdown",
      "source": [
        "# 1  Particion Training/Testing\n",
        "## Clase 02  Experimento 1"
      ],
      "metadata": {
        "id": "iV32-NeesVp6"
      }
    },
    {
      "cell_type": "markdown",
      "source": [
        "## 1.1  Objetivos\n",
        "Dado que es el primer experimento de la asignatura, acercar a l@s estudiantes las mejores prácticas de operación del ambiente de Google Cloud, realizando una minuciosa demostración en vivo narrando todas las consideraciones pertinentes para evitar accidentes, daños a terceros y a equipos.\n",
        "Dar soporte en el acto a  l@s estudiantes que necesitan ayuda para terminar de configurar el ambiente Google Cloud .\n",
        "<br>Repaso del concepto de  partición de un dataset al azar, estratificada en la clase\n",
        "<br>Dado que es el primer script que se mostrará en vivo a l@s estudiantes,  realizar una visita guiada del  mismo, su estructura y detalles.\n",
        "<br>Repaso del algoritmo Arbol de Decisión sus hiperparámetros, y la implementación con la librería  rpart.  Funciones  rpart::rpart  y rpart::predict\n",
        "<br>Concepto de replicabilidad de los experimentos mediante las semillas de los generadores de secuencias de números pseudoaleatorios.\n",
        "<br>Finalmente, el principal objetivo de este experimento es lograr que l@s estudiantes dimensionen la enorme variabilidad del error de medición de la ganancia de un árbol de decisión al realizar una partición <training, testing>,  contener la sorpresa de los estudiantes, descartar a la simple particion <training, testing> como método,  y construir en conjunto una solucion natural al problema."
      ],
      "metadata": {
        "id": "84Pnj9gVwpXB"
      }
    },
    {
      "cell_type": "markdown",
      "source": [
        "## 1.2 Introduccion"
      ],
      "metadata": {
        "id": "L9Cn0WThw37Y"
      }
    },
    {
      "cell_type": "markdown",
      "source": [
        "![Particiohn Training/Testing](https://storage.googleapis.com/open-courses/austral2025-af91/labo1r/C2_E1_particion.jpg)"
      ],
      "metadata": {
        "id": "ZELZ0R4itUVG"
      }
    },
    {
      "cell_type": "markdown",
      "source": [
        "![Dos tipos de error](https://storage.googleapis.com/open-courses/austral2025-af91/labo1r/C2_E1_target.jpg)"
      ],
      "metadata": {
        "id": "Wtc1ho58xLk-"
      }
    },
    {
      "cell_type": "markdown",
      "source": [
        "## 1.3  Bibliografía\n",
        "\n",
        "Demšar, J. [Statistical comparisons of classifiers over multiple data sets](https://www.jmlr.org/papers/volume7/demsar06a/demsar06a.pdf) J. Mach. Learn. Res. 7, 1–30 (2006).   \n",
        "Starmer, J. [Machine Learning Fundamentals: Cross Validation](https://www.youtube.com/watch?v=fSytzGwwBVw)Machine Learning Fundamentals: Cross Validation, StatQuest with Josh Starmer youtube channel, (2018)\n",
        "Hastie, T.[The elements of statistical learning: data mining, inference, and prediction](https://hastie.su.domains/Papers/ESLII.pdf) , volume 2. Springer, 2009  ( Chapter 7 Model Assessment and Selection )"
      ],
      "metadata": {
        "id": "oRWtRV34xZRT"
      }
    },
    {
      "cell_type": "markdown",
      "source": [
        "## 1.4 Codigo"
      ],
      "metadata": {
        "id": "VcgTQ2-Pyb8q"
      }
    },
    {
      "cell_type": "markdown",
      "source": [
        "Esta parte se debe correr con el runtime en lenguaje **R** Ir al menu, Runtime -> Change Runtime Tipe -> Runtime type -> R"
      ],
      "metadata": {
        "id": "SBXPU-_tabMb"
      }
    },
    {
      "cell_type": "markdown",
      "source": [
        "limpio el ambiente de R"
      ],
      "metadata": {
        "id": "SE94XRhWsxkX"
      }
    },
    {
      "cell_type": "code",
      "source": [
        "# limpio la memoria\n",
        "rm(list=ls(all.names=TRUE)) # remove all objects\n",
        "gc(full=TRUE, verbose=FALSE) # garbage collection"
      ],
      "metadata": {
        "id": "oZG_4br6szlT",
        "outputId": "812cf940-5b14-4e2e-a53c-a941baaa4390",
        "colab": {
          "base_uri": "https://localhost:8080/",
          "height": 129
        }
      },
      "execution_count": 1,
      "outputs": [
        {
          "output_type": "display_data",
          "data": {
            "text/html": [
              "<table class=\"dataframe\">\n",
              "<caption>A matrix: 2 × 6 of type dbl</caption>\n",
              "<thead>\n",
              "\t<tr><th></th><th scope=col>used</th><th scope=col>(Mb)</th><th scope=col>gc trigger</th><th scope=col>(Mb)</th><th scope=col>max used</th><th scope=col>(Mb)</th></tr>\n",
              "</thead>\n",
              "<tbody>\n",
              "\t<tr><th scope=row>Ncells</th><td> 656590</td><td>35.1</td><td>1454460</td><td>77.7</td><td>1321663</td><td>70.6</td></tr>\n",
              "\t<tr><th scope=row>Vcells</th><td>1219461</td><td> 9.4</td><td>8388608</td><td>64.0</td><td>1975127</td><td>15.1</td></tr>\n",
              "</tbody>\n",
              "</table>\n"
            ],
            "text/markdown": "\nA matrix: 2 × 6 of type dbl\n\n| <!--/--> | used | (Mb) | gc trigger | (Mb) | max used | (Mb) |\n|---|---|---|---|---|---|---|\n| Ncells |  656590 | 35.1 | 1454460 | 77.7 | 1321663 | 70.6 |\n| Vcells | 1219461 |  9.4 | 8388608 | 64.0 | 1975127 | 15.1 |\n\n",
            "text/latex": "A matrix: 2 × 6 of type dbl\n\\begin{tabular}{r|llllll}\n  & used & (Mb) & gc trigger & (Mb) & max used & (Mb)\\\\\n\\hline\n\tNcells &  656590 & 35.1 & 1454460 & 77.7 & 1321663 & 70.6\\\\\n\tVcells & 1219461 &  9.4 & 8388608 & 64.0 & 1975127 & 15.1\\\\\n\\end{tabular}\n",
            "text/plain": [
              "       used    (Mb) gc trigger (Mb) max used (Mb)\n",
              "Ncells  656590 35.1 1454460    77.7 1321663  70.6\n",
              "Vcells 1219461  9.4 8388608    64.0 1975127  15.1"
            ]
          },
          "metadata": {}
        }
      ]
    },
    {
      "cell_type": "code",
      "source": [
        "Sys.time()"
      ],
      "metadata": {
        "id": "pJ8SsVA5ssnf"
      },
      "execution_count": null,
      "outputs": []
    },
    {
      "cell_type": "markdown",
      "source": [
        "* Instalacion de la libreria  rpart.plot  para dibujar el arbol\n",
        "* invocacion de las librerias  **data.table** y  **rpart**"
      ],
      "metadata": {
        "id": "3BrrQ47PeEb2"
      }
    },
    {
      "cell_type": "code",
      "source": [
        "# cargo las librerias que necesito\n",
        "require(\"data.table\")\n",
        "require(\"rpart\")\n"
      ],
      "metadata": {
        "id": "SxO-0Ql0khn6",
        "outputId": "01be2156-9564-450e-a4dc-57b7f4b6b9f2",
        "colab": {
          "base_uri": "https://localhost:8080/"
        }
      },
      "execution_count": 2,
      "outputs": [
        {
          "output_type": "stream",
          "name": "stderr",
          "text": [
            "Loading required package: data.table\n",
            "\n",
            "Loading required package: rpart\n",
            "\n"
          ]
        }
      ]
    },
    {
      "cell_type": "markdown",
      "source": [
        "###  Accion a Realizar\n",
        "PARAM$semilla  debe tener su primer semilla aleatoria"
      ],
      "metadata": {
        "id": "ZG9fCnZh3bWV"
      }
    },
    {
      "cell_type": "code",
      "source": [
        "PARAM <- list()\n",
        "PARAM$semilla <- 209353 # aqui debe ir su primer semilla\n",
        "PARAM$training_pct <- 70L  # entre  1L y 99L\n",
        "\n",
        "PARAM$rpart <- list (\n",
        "  \"cp\" = -1, # complejidad minima\n",
        "  \"minsplit\" = 170, # minima cantidad de regs en un nodo para hacer el split\n",
        "  \"minbucket\" = 70, # minima cantidad de regs en una hoja\n",
        "  \"maxdepth\" = 7 # profundidad máxima del arbol\n",
        ")\n"
      ],
      "metadata": {
        "id": "0nx5_OcE3Y9c"
      },
      "execution_count": 32,
      "outputs": []
    },
    {
      "cell_type": "code",
      "source": [
        "# particionar agrega una columna llamada fold a un dataset\n",
        "#  que consiste en una particion estratificada segun agrupa\n",
        "\n",
        "# particionar( data=dataset, division=c(70,30),\n",
        "#  agrupa=clase_ternaria, seed=semilla)   crea una particion 70, 30\n",
        "\n",
        "particionar <- function(\n",
        "    data, division, agrupa = \"\",\n",
        "    campo = \"fold\", start = 1, seed = NA) {\n",
        "  if (!is.na(seed)) set.seed(seed)\n",
        "\n",
        "  bloque <- unlist(mapply(function(x, y) {\n",
        "    rep(y, x)\n",
        "  }, division, seq(from = start, length.out = length(division))))\n",
        "\n",
        "  data[, (campo) := sample(rep(bloque, ceiling(.N / length(bloque))))[1:.N],\n",
        "    by = agrupa\n",
        "  ]\n",
        "}\n"
      ],
      "metadata": {
        "id": "8HLE9Dx80gjH"
      },
      "execution_count": 33,
      "outputs": []
    },
    {
      "cell_type": "code",
      "source": [
        "# carpeta de trabajo\n",
        "setwd(\"/content/buckets/b1/exp\")\n",
        "experimento <- \"exp201\"\n",
        "dir.create(experimento, showWarnings=FALSE)\n",
        "setwd( paste0(\"/content/buckets/b1/exp/\", experimento ))"
      ],
      "metadata": {
        "id": "sC4_nqcm0nUs"
      },
      "execution_count": 34,
      "outputs": []
    },
    {
      "cell_type": "code",
      "source": [
        "# lectura del dataset\n",
        "dataset <- fread(\"/content/datasets/dataset_pequeno.csv\")\n",
        "\n",
        "# trabajo solo con los datos con clase, es decir 202107\n",
        "dataset <- dataset[clase_ternaria != \"\"]"
      ],
      "metadata": {
        "id": "6yIEsZOw07q8"
      },
      "execution_count": 35,
      "outputs": []
    },
    {
      "cell_type": "code",
      "source": [
        "# particiono estratificadamente el dataset 70%, 30%\n",
        "particionar(dataset,\n",
        "  division = c(PARAM$training_pct, 100L -PARAM$training_pct),\n",
        "  agrupa = \"clase_ternaria\",\n",
        "  seed = PARAM$semilla # aqui se usa SU semilla\n",
        ")\n",
        "\n"
      ],
      "metadata": {
        "id": "FAO1Hhd52b5d"
      },
      "execution_count": 36,
      "outputs": []
    },
    {
      "cell_type": "code",
      "source": [
        "# genero el modelo\n",
        "# quiero predecir clase_ternaria a partir del resto\n",
        "# fold==1  es training,  el 70% de los datos\n",
        "modelo <- rpart(\"clase_ternaria ~ .\",\n",
        "  data = dataset[fold == 1],  # fold==1  es training, el 70% de los datos\n",
        "  xval = 0,\n",
        "  control = PARAM$rpart # aqui van los parametros\n",
        ")\n"
      ],
      "metadata": {
        "id": "s3UnHSLP2gN6"
      },
      "execution_count": 37,
      "outputs": []
    },
    {
      "cell_type": "code",
      "source": [
        "# aplico el modelo a los datos de testing\n",
        "prediccion <- predict(modelo, # el modelo que genere recien\n",
        "  dataset[fold == 2], # fold==2  es testing, el 30% de los datos\n",
        "  type = \"prob\"\n",
        ") # type= \"prob\"  es que devuelva la probabilidad\n"
      ],
      "metadata": {
        "id": "paQphV4A2jGz"
      },
      "execution_count": 38,
      "outputs": []
    },
    {
      "cell_type": "code",
      "source": [
        "tb_prediccion <- as.data.table(list(\n",
        "  \"clase_ternaria\"=dataset[fold == 2, clase_ternaria],\n",
        "  \"prob\"=prediccion[, \"BAJA+2\"]\n",
        "))"
      ],
      "metadata": {
        "id": "fuLZ75pA29dT"
      },
      "execution_count": 39,
      "outputs": []
    },
    {
      "cell_type": "code",
      "source": [
        "# calculo la ganancia de cada registro\n",
        "tb_prediccion[, ganancia := ifelse(clase_ternaria == \"BAJA+2\", 117000, -3000)]"
      ],
      "metadata": {
        "id": "LuG6ql_t3kOI"
      },
      "execution_count": 40,
      "outputs": []
    },
    {
      "cell_type": "code",
      "source": [
        "# calculo la clase\n",
        "tb_prediccion[, Predicted := prob > (1/40) ]"
      ],
      "metadata": {
        "id": "xJ3WTMez3leO"
      },
      "execution_count": 41,
      "outputs": []
    },
    {
      "cell_type": "code",
      "source": [
        "ganancia_test <-  tb_prediccion[ Predicted==TRUE,  sum(ganancia)]"
      ],
      "metadata": {
        "id": "cFQPacen4Wq6"
      },
      "execution_count": 42,
      "outputs": []
    },
    {
      "cell_type": "code",
      "source": [
        "# normalizo la ganancia\n",
        "ganancia_test_normalizada <- ganancia_test / (( 100 - PARAM$training_pct ) / 100 )"
      ],
      "metadata": {
        "id": "dHjz0zhN4-nZ"
      },
      "execution_count": 43,
      "outputs": []
    },
    {
      "cell_type": "code",
      "source": [
        "estimulos <- tb_prediccion[ Predicted==TRUE, .N]\n",
        "aciertos <- tb_prediccion[ Predicted & clase_ternaria == \"BAJA+2\", .N]\n"
      ],
      "metadata": {
        "id": "D7RUdTb95F6B"
      },
      "execution_count": 44,
      "outputs": []
    },
    {
      "cell_type": "code",
      "source": [
        "# Resultado Final\n",
        "cat(\"Testing total: \", dataset[fold == 2, .N], \"\\n\")\n",
        "cat(\"Testing BAJA+2: \", dataset[fold == 2 & clase_ternaria == \"BAJA+2\", .N], \"\\n\")\n",
        "\n",
        "cat(\"Estimulos: \", estimulos, \"\\n\")\n",
        "cat(\"Aciertos (BAJA+2): \", aciertos, \"\\n\")\n",
        "\n",
        "cat(\"Ganancia en testing (normalizada): \", ganancia_test_normalizada, \"\\n\")\n"
      ],
      "metadata": {
        "id": "Lu1KM6fy5U7h",
        "colab": {
          "base_uri": "https://localhost:8080/"
        },
        "outputId": "e560341d-810c-442d-f493-adff1f06dab6"
      },
      "execution_count": 45,
      "outputs": [
        {
          "output_type": "stream",
          "name": "stdout",
          "text": [
            "Testing total:  49378 \n",
            "Testing BAJA+2:  374 \n",
            "Estimulos:  2556 \n",
            "Aciertos (BAJA+2):  192 \n",
            "Ganancia en testing (normalizada):  51240000 \n"
          ]
        }
      ]
    },
    {
      "cell_type": "markdown",
      "source": [
        "### Acciones a realizar\n",
        "* Reportar la  *Ganancia en testing (normalizada)* <br> en la planilla colaborativa hoja  **C2-1sem**\n",
        "* Se discutirá en clase la variabilidad de las ganancias obtenidas de distintos alumnos"
      ],
      "metadata": {
        "id": "kHs-YoFB5rUa"
      }
    },
    {
      "cell_type": "markdown",
      "source": [
        "\n",
        "\n",
        "---\n",
        "\n"
      ],
      "metadata": {
        "id": "LBl_eIeO7WuM"
      }
    },
    {
      "cell_type": "markdown",
      "source": [
        "# 2  Medición Monte Carlo Cross Validation\n",
        "## Clase 02  Experimento 2"
      ],
      "metadata": {
        "id": "h43UCq9y7UlT"
      }
    },
    {
      "cell_type": "markdown",
      "source": [
        "## 2.1  Objetivos\n",
        "Mostrar el funcionamiento de la Montecarlo Cross Validation y que l@s estudiantes aprecien la disminución de la varianza de dicha metodología.\n",
        "Relación con el Teorema Central del Límite"
      ],
      "metadata": {
        "id": "wHPchGXK80VU"
      }
    },
    {
      "cell_type": "markdown",
      "source": [
        "## 2.2 Introduccion\n",
        "\n",
        "![Montecarlo](https://storage.googleapis.com/open-courses/austral2025-af91/labo1r/C2_E2_montecarlo.jpg)\n",
        "\n",
        "![Curva normal](https://storage.googleapis.com/open-courses/austral2025-af91/labo1r/C2_E2_normal.jpg)\n",
        "\n",
        "![Teorema Central del Limite](https://storage.googleapis.com/open-courses/austral2025-af91/labo1r/C2_E2_teoremacentralLimite.jpg)\n",
        "\n"
      ],
      "metadata": {
        "id": "g6YzACxl9DzS"
      }
    },
    {
      "cell_type": "markdown",
      "source": [],
      "metadata": {
        "id": "7laod2t4ArsH"
      }
    },
    {
      "cell_type": "markdown",
      "source": [
        "## 2.3  Bibliografía\n",
        "\n",
        "Demšar, J. [Statistical comparisons of classifiers over multiple data sets](https://www.jmlr.org/papers/volume7/demsar06a/demsar06a.pdf) J. Mach. Learn. Res. 7, 1–30 (2006).   \n",
        "Starmer, J. [Machine Learning Fundamentals: Cross Validation](https://www.youtube.com/watch?v=fSytzGwwBVw)Machine Learning Fundamentals: Cross Validation, StatQuest with Josh Starmer youtube channel, (2018)\n",
        "Hastie, T.[The elements of statistical learning: data mining, inference, and prediction](https://hastie.su.domains/Papers/ESLII.pdf) , volume 2. Springer, 2009  ( Chapter 7 Model Assessment and Selection )"
      ],
      "metadata": {
        "id": "lFcJeRAkAr-q"
      }
    },
    {
      "cell_type": "code",
      "source": [],
      "metadata": {
        "id": "KXSuYXQ26cLV"
      },
      "execution_count": null,
      "outputs": []
    },
    {
      "cell_type": "markdown",
      "source": [
        "## 2.4 Codigo  Montecarlo"
      ],
      "metadata": {
        "id": "0ztZzYolA2WK"
      }
    },
    {
      "cell_type": "markdown",
      "source": [
        "El código de la Montecarlo Cross Validation es notablemente más complejo que el anterior de una simple partición training/testing\n",
        "<br> Se crea la funcion ArbolEstimarGanancia()  que dada una semilla realiza la partición  training/testing, entrena en training, aplica el modelo a testing, y se calculan las ganancias\n",
        "<br> Se utiliza la funcion **mcmapply**  de R para aplicar ArbolEstimarGanancia a todos los elementos del vector de semillas"
      ],
      "metadata": {
        "id": "KLa06ZsiC-Oz"
      }
    },
    {
      "cell_type": "markdown",
      "source": [
        "Esta parte se debe correr con el runtime en lenguaje **R** Ir al menu, Runtime -> Change Runtime Tipe -> Runtime type -> R"
      ],
      "metadata": {
        "id": "ivFiBBOQA2Ws"
      }
    },
    {
      "cell_type": "markdown",
      "source": [
        "limpio el ambiente de R"
      ],
      "metadata": {
        "id": "TMSAQDXuA2Ws"
      }
    },
    {
      "cell_type": "code",
      "source": [
        "# limpio la memoria\n",
        "rm(list=ls(all.names=TRUE)) # remove all objects\n",
        "gc(full=TRUE, verbose=FALSE) # garbage collection"
      ],
      "metadata": {
        "id": "eakzb8y2A2Wt",
        "outputId": "63ecca32-a98e-4d9b-fbd4-cdd6ceb2e55a",
        "colab": {
          "base_uri": "https://localhost:8080/",
          "height": 129
        }
      },
      "execution_count": 46,
      "outputs": [
        {
          "output_type": "display_data",
          "data": {
            "text/html": [
              "<table class=\"dataframe\">\n",
              "<caption>A matrix: 2 × 6 of type dbl</caption>\n",
              "<thead>\n",
              "\t<tr><th></th><th scope=col>used</th><th scope=col>(Mb)</th><th scope=col>gc trigger</th><th scope=col>(Mb)</th><th scope=col>max used</th><th scope=col>(Mb)</th></tr>\n",
              "</thead>\n",
              "<tbody>\n",
              "\t<tr><th scope=row>Ncells</th><td> 792669</td><td>42.4</td><td>  1454460</td><td> 77.7</td><td>  1454460</td><td> 77.7</td></tr>\n",
              "\t<tr><th scope=row>Vcells</th><td>1546324</td><td>11.8</td><td>101967944</td><td>778.0</td><td>127414890</td><td>972.1</td></tr>\n",
              "</tbody>\n",
              "</table>\n"
            ],
            "text/markdown": "\nA matrix: 2 × 6 of type dbl\n\n| <!--/--> | used | (Mb) | gc trigger | (Mb) | max used | (Mb) |\n|---|---|---|---|---|---|---|\n| Ncells |  792669 | 42.4 |   1454460 |  77.7 |   1454460 |  77.7 |\n| Vcells | 1546324 | 11.8 | 101967944 | 778.0 | 127414890 | 972.1 |\n\n",
            "text/latex": "A matrix: 2 × 6 of type dbl\n\\begin{tabular}{r|llllll}\n  & used & (Mb) & gc trigger & (Mb) & max used & (Mb)\\\\\n\\hline\n\tNcells &  792669 & 42.4 &   1454460 &  77.7 &   1454460 &  77.7\\\\\n\tVcells & 1546324 & 11.8 & 101967944 & 778.0 & 127414890 & 972.1\\\\\n\\end{tabular}\n",
            "text/plain": [
              "       used    (Mb) gc trigger (Mb)  max used  (Mb) \n",
              "Ncells  792669 42.4   1454460   77.7   1454460  77.7\n",
              "Vcells 1546324 11.8 101967944  778.0 127414890 972.1"
            ]
          },
          "metadata": {}
        }
      ]
    },
    {
      "cell_type": "markdown",
      "source": [
        "* Instalacion de la libreria  rpart.plot  para dibujar el arbol\n",
        "* invocacion de las librerias  **data.table** y  **rpart**"
      ],
      "metadata": {
        "id": "559RkeYZA2Wv"
      }
    },
    {
      "cell_type": "code",
      "source": [
        "# cargo las librerias que necesito\n",
        "require(\"data.table\")\n",
        "require(\"rpart\")\n",
        "require(\"parallel\")"
      ],
      "metadata": {
        "id": "yf_S_HlsA2Wv",
        "outputId": "0a3c84cf-9708-452b-d3cf-ad423c2e04b8",
        "colab": {
          "base_uri": "https://localhost:8080/"
        }
      },
      "execution_count": 47,
      "outputs": [
        {
          "output_type": "stream",
          "name": "stderr",
          "text": [
            "Loading required package: parallel\n",
            "\n"
          ]
        }
      ]
    },
    {
      "cell_type": "markdown",
      "source": [
        "###  Accion a Realizar\n",
        "PARAM$semillas  debe tener sus cinco semillas aleatorias"
      ],
      "metadata": {
        "id": "a4oz2ulCA2Ww"
      }
    },
    {
      "cell_type": "code",
      "source": [
        "PARAM <- list()\n",
        "PARAM$semillas <- c(209353, 292267, 480731, 529681, 663149)  # aqui debe ir sus CINCO\n",
        "PARAM$training_pct <- 70L  # entre  1L y 99L\n",
        "\n",
        "PARAM$rpart <- list (\n",
        "  \"cp\" = -1, # complejidad minima\n",
        "  \"minsplit\" = 170, # minima cantidad de regs en un nodo para hacer el split\n",
        "  \"minbucket\" = 70, # minima cantidad de regs en una hoja\n",
        "  \"maxdepth\" = 7 # profundidad máxima del arbol\n",
        ")\n"
      ],
      "metadata": {
        "id": "yQ2OAP5AA2Wx"
      },
      "execution_count": 48,
      "outputs": []
    },
    {
      "cell_type": "code",
      "source": [
        "# particionar agrega una columna llamada fold a un dataset\n",
        "#  que consiste en una particion estratificada segun agrupa\n",
        "\n",
        "# particionar( data=dataset, division=c(70,30),\n",
        "#  agrupa=clase_ternaria, seed=semilla)   crea una particion 70, 30\n",
        "\n",
        "particionar <- function(\n",
        "    data, division, agrupa = \"\",\n",
        "    campo = \"fold\", start = 1, seed = NA) {\n",
        "  if (!is.na(seed)) set.seed(seed)\n",
        "\n",
        "  bloque <- unlist(mapply(function(x, y) {\n",
        "    rep(y, x)\n",
        "  }, division, seq(from = start, length.out = length(division))))\n",
        "\n",
        "  data[, (campo) := sample(rep(bloque, ceiling(.N / length(bloque))))[1:.N],\n",
        "    by = agrupa\n",
        "  ]\n",
        "}\n"
      ],
      "metadata": {
        "id": "97dMCVJWA2Wy"
      },
      "execution_count": 49,
      "outputs": []
    },
    {
      "cell_type": "code",
      "source": [
        "\n",
        "ArbolEstimarGanancia <- function(semilla, param_basicos) {\n",
        "  # particiono estratificadamente el dataset\n",
        "  particionar(dataset,\n",
        "    division = c(param_basicos$training_pct, 100L -param_basicos$training_pct),\n",
        "    agrupa = \"clase_ternaria\",\n",
        "    seed = semilla # aqui se usa SU semilla\n",
        "  )\n",
        "\n",
        "  # genero el modelo\n",
        "  # predecir clase_ternaria a partir del resto\n",
        "  modelo <- rpart(\"clase_ternaria ~ .\",\n",
        "    data = dataset[fold == 1], # fold==1  es training,  el 70% de los datos\n",
        "    xval = 0,\n",
        "    control = param_basicos$rpart\n",
        "  ) # aqui van los parametros del arbol\n",
        "\n",
        "  # aplico el modelo a los datos de testing\n",
        "  prediccion <- predict(modelo, # el modelo que genere recien\n",
        "    dataset[fold == 2], # fold==2  es testing, el 30% de los datos\n",
        "    type = \"prob\"\n",
        "  ) # type= \"prob\"  es que devuelva la probabilidad\n",
        "\n",
        "  # prediccion es una matriz con TRES columnas,\n",
        "  #  llamadas \"BAJA+1\", \"BAJA+2\"  y \"CONTINUA\"\n",
        "  # cada columna es el vector de probabilidades\n",
        "\n",
        "\n",
        "  # calculo la ganancia en testing  qu es fold==2\n",
        "  ganancia_test <- dataset[\n",
        "    fold == 2,\n",
        "    sum(ifelse(prediccion[, \"BAJA+2\"] > 0.025,\n",
        "      ifelse(clase_ternaria == \"BAJA+2\", 117000, -3000),\n",
        "      0\n",
        "    ))\n",
        "  ]\n",
        "\n",
        "  # escalo la ganancia como si fuera todo el dataset\n",
        "  ganancia_test_normalizada <- ganancia_test / (( 100 - PARAM$training_pct ) / 100 )\n",
        "\n",
        "  return(list(\n",
        "    \"semilla\" = semilla,\n",
        "    \"testing\" = dataset[fold == 2, .N],\n",
        "    \"testing_pos\" = dataset[fold == 2 & clase_ternaria == \"BAJA+2\", .N],\n",
        "    \"envios\" = dataset[fold == 2, sum(prediccion[, \"BAJA+2\"] > 0.025)],\n",
        "    \"aciertos\" = dataset[\n",
        "        fold == 2,\n",
        "        sum(prediccion[, \"BAJA+2\"] > 0.025 & clase_ternaria == \"BAJA+2\")\n",
        "    ],\n",
        "    \"ganancia_test\" = ganancia_test_normalizada\n",
        "  ))\n",
        "}\n"
      ],
      "metadata": {
        "id": "GroZSZoVBuZ5"
      },
      "execution_count": 50,
      "outputs": []
    },
    {
      "cell_type": "code",
      "source": [
        "# carpeta de trabajo\n",
        "setwd(\"/content/buckets/b1/exp\")\n",
        "experimento <- \"exp202\"\n",
        "dir.create(experimento, showWarnings=FALSE)\n",
        "setwd( paste0(\"/content/buckets/b1/exp/\", experimento ))"
      ],
      "metadata": {
        "id": "dJIBIX6kA2Wy"
      },
      "execution_count": 51,
      "outputs": []
    },
    {
      "cell_type": "code",
      "source": [
        "# lectura del dataset\n",
        "dataset <- fread(\"/content/datasets/dataset_pequeno.csv\")\n",
        "\n",
        "# trabajo solo con los datos con clase, es decir 202107\n",
        "dataset <- dataset[clase_ternaria != \"\"]"
      ],
      "metadata": {
        "id": "tKiACdU2A2Wz"
      },
      "execution_count": 52,
      "outputs": []
    },
    {
      "cell_type": "code",
      "source": [
        "\n",
        "# la funcion mcmapply  llama a la funcion ArbolEstimarGanancia\n",
        "#  tantas veces como valores tenga el vector  PARAM$semillas\n",
        "salidas <- mcmapply(ArbolEstimarGanancia,\n",
        "  PARAM$semillas, # paso el vector de semillas\n",
        "  MoreArgs = list(PARAM), # aqui paso el segundo parametro\n",
        "  SIMPLIFY = FALSE,\n",
        "  mc.cores = detectCores()\n",
        ")\n",
        "\n",
        "# muestro la lista de las salidas en testing\n",
        "#  para la particion realizada con cada semilla\n",
        "salidas\n"
      ],
      "metadata": {
        "id": "64OdfeyxCMDF",
        "outputId": "1cd34e9b-ff9c-4617-f59a-13fc72974aba",
        "colab": {
          "base_uri": "https://localhost:8080/",
          "height": 1000
        }
      },
      "execution_count": 53,
      "outputs": [
        {
          "output_type": "display_data",
          "data": {
            "text/html": [
              "<ol>\n",
              "\t<li><dl>\n",
              "\t<dt>$semilla</dt>\n",
              "\t\t<dd>209353</dd>\n",
              "\t<dt>$testing</dt>\n",
              "\t\t<dd>49378</dd>\n",
              "\t<dt>$testing_pos</dt>\n",
              "\t\t<dd>374</dd>\n",
              "\t<dt>$envios</dt>\n",
              "\t\t<dd>2556</dd>\n",
              "\t<dt>$aciertos</dt>\n",
              "\t\t<dd>192</dd>\n",
              "\t<dt>$ganancia_test</dt>\n",
              "\t\t<dd>51240000</dd>\n",
              "</dl>\n",
              "</li>\n",
              "\t<li><dl>\n",
              "\t<dt>$semilla</dt>\n",
              "\t\t<dd>292267</dd>\n",
              "\t<dt>$testing</dt>\n",
              "\t\t<dd>49378</dd>\n",
              "\t<dt>$testing_pos</dt>\n",
              "\t\t<dd>370</dd>\n",
              "\t<dt>$envios</dt>\n",
              "\t\t<dd>3407</dd>\n",
              "\t<dt>$aciertos</dt>\n",
              "\t\t<dd>217</dd>\n",
              "\t<dt>$ganancia_test</dt>\n",
              "\t\t<dd>52730000</dd>\n",
              "</dl>\n",
              "</li>\n",
              "\t<li><dl>\n",
              "\t<dt>$semilla</dt>\n",
              "\t\t<dd>480731</dd>\n",
              "\t<dt>$testing</dt>\n",
              "\t\t<dd>49368</dd>\n",
              "\t<dt>$testing_pos</dt>\n",
              "\t\t<dd>371</dd>\n",
              "\t<dt>$envios</dt>\n",
              "\t\t<dd>3533</dd>\n",
              "\t<dt>$aciertos</dt>\n",
              "\t\t<dd>203</dd>\n",
              "\t<dt>$ganancia_test</dt>\n",
              "\t\t<dd>45870000</dd>\n",
              "</dl>\n",
              "</li>\n",
              "\t<li><dl>\n",
              "\t<dt>$semilla</dt>\n",
              "\t\t<dd>529681</dd>\n",
              "\t<dt>$testing</dt>\n",
              "\t\t<dd>49375</dd>\n",
              "\t<dt>$testing_pos</dt>\n",
              "\t\t<dd>372</dd>\n",
              "\t<dt>$envios</dt>\n",
              "\t\t<dd>2530</dd>\n",
              "\t<dt>$aciertos</dt>\n",
              "\t\t<dd>192</dd>\n",
              "\t<dt>$ganancia_test</dt>\n",
              "\t\t<dd>51500000</dd>\n",
              "</dl>\n",
              "</li>\n",
              "\t<li><dl>\n",
              "\t<dt>$semilla</dt>\n",
              "\t\t<dd>663149</dd>\n",
              "\t<dt>$testing</dt>\n",
              "\t\t<dd>49379</dd>\n",
              "\t<dt>$testing_pos</dt>\n",
              "\t\t<dd>373</dd>\n",
              "\t<dt>$envios</dt>\n",
              "\t\t<dd>3308</dd>\n",
              "\t<dt>$aciertos</dt>\n",
              "\t\t<dd>201</dd>\n",
              "\t<dt>$ganancia_test</dt>\n",
              "\t\t<dd>47320000</dd>\n",
              "</dl>\n",
              "</li>\n",
              "</ol>\n"
            ],
            "text/markdown": "1. $semilla\n:   209353\n$testing\n:   49378\n$testing_pos\n:   374\n$envios\n:   2556\n$aciertos\n:   192\n$ganancia_test\n:   51240000\n\n\n\n2. $semilla\n:   292267\n$testing\n:   49378\n$testing_pos\n:   370\n$envios\n:   3407\n$aciertos\n:   217\n$ganancia_test\n:   52730000\n\n\n\n3. $semilla\n:   480731\n$testing\n:   49368\n$testing_pos\n:   371\n$envios\n:   3533\n$aciertos\n:   203\n$ganancia_test\n:   45870000\n\n\n\n4. $semilla\n:   529681\n$testing\n:   49375\n$testing_pos\n:   372\n$envios\n:   2530\n$aciertos\n:   192\n$ganancia_test\n:   51500000\n\n\n\n5. $semilla\n:   663149\n$testing\n:   49379\n$testing_pos\n:   373\n$envios\n:   3308\n$aciertos\n:   201\n$ganancia_test\n:   47320000\n\n\n\n\n\n",
            "text/latex": "\\begin{enumerate}\n\\item \\begin{description}\n\\item[\\$semilla] 209353\n\\item[\\$testing] 49378\n\\item[\\$testing\\_pos] 374\n\\item[\\$envios] 2556\n\\item[\\$aciertos] 192\n\\item[\\$ganancia\\_test] 51240000\n\\end{description}\n\n\\item \\begin{description}\n\\item[\\$semilla] 292267\n\\item[\\$testing] 49378\n\\item[\\$testing\\_pos] 370\n\\item[\\$envios] 3407\n\\item[\\$aciertos] 217\n\\item[\\$ganancia\\_test] 52730000\n\\end{description}\n\n\\item \\begin{description}\n\\item[\\$semilla] 480731\n\\item[\\$testing] 49368\n\\item[\\$testing\\_pos] 371\n\\item[\\$envios] 3533\n\\item[\\$aciertos] 203\n\\item[\\$ganancia\\_test] 45870000\n\\end{description}\n\n\\item \\begin{description}\n\\item[\\$semilla] 529681\n\\item[\\$testing] 49375\n\\item[\\$testing\\_pos] 372\n\\item[\\$envios] 2530\n\\item[\\$aciertos] 192\n\\item[\\$ganancia\\_test] 51500000\n\\end{description}\n\n\\item \\begin{description}\n\\item[\\$semilla] 663149\n\\item[\\$testing] 49379\n\\item[\\$testing\\_pos] 373\n\\item[\\$envios] 3308\n\\item[\\$aciertos] 201\n\\item[\\$ganancia\\_test] 47320000\n\\end{description}\n\n\\end{enumerate}\n",
            "text/plain": [
              "[[1]]\n",
              "[[1]]$semilla\n",
              "[1] 209353\n",
              "\n",
              "[[1]]$testing\n",
              "[1] 49378\n",
              "\n",
              "[[1]]$testing_pos\n",
              "[1] 374\n",
              "\n",
              "[[1]]$envios\n",
              "[1] 2556\n",
              "\n",
              "[[1]]$aciertos\n",
              "[1] 192\n",
              "\n",
              "[[1]]$ganancia_test\n",
              "[1] 51240000\n",
              "\n",
              "\n",
              "[[2]]\n",
              "[[2]]$semilla\n",
              "[1] 292267\n",
              "\n",
              "[[2]]$testing\n",
              "[1] 49378\n",
              "\n",
              "[[2]]$testing_pos\n",
              "[1] 370\n",
              "\n",
              "[[2]]$envios\n",
              "[1] 3407\n",
              "\n",
              "[[2]]$aciertos\n",
              "[1] 217\n",
              "\n",
              "[[2]]$ganancia_test\n",
              "[1] 52730000\n",
              "\n",
              "\n",
              "[[3]]\n",
              "[[3]]$semilla\n",
              "[1] 480731\n",
              "\n",
              "[[3]]$testing\n",
              "[1] 49368\n",
              "\n",
              "[[3]]$testing_pos\n",
              "[1] 371\n",
              "\n",
              "[[3]]$envios\n",
              "[1] 3533\n",
              "\n",
              "[[3]]$aciertos\n",
              "[1] 203\n",
              "\n",
              "[[3]]$ganancia_test\n",
              "[1] 45870000\n",
              "\n",
              "\n",
              "[[4]]\n",
              "[[4]]$semilla\n",
              "[1] 529681\n",
              "\n",
              "[[4]]$testing\n",
              "[1] 49375\n",
              "\n",
              "[[4]]$testing_pos\n",
              "[1] 372\n",
              "\n",
              "[[4]]$envios\n",
              "[1] 2530\n",
              "\n",
              "[[4]]$aciertos\n",
              "[1] 192\n",
              "\n",
              "[[4]]$ganancia_test\n",
              "[1] 51500000\n",
              "\n",
              "\n",
              "[[5]]\n",
              "[[5]]$semilla\n",
              "[1] 663149\n",
              "\n",
              "[[5]]$testing\n",
              "[1] 49379\n",
              "\n",
              "[[5]]$testing_pos\n",
              "[1] 373\n",
              "\n",
              "[[5]]$envios\n",
              "[1] 3308\n",
              "\n",
              "[[5]]$aciertos\n",
              "[1] 201\n",
              "\n",
              "[[5]]$ganancia_test\n",
              "[1] 47320000\n",
              "\n"
            ]
          },
          "metadata": {}
        }
      ]
    },
    {
      "cell_type": "code",
      "source": [
        "# paso la lista a vector\n",
        "tb_salida <- rbindlist(salidas)\n",
        "print( tb_salida)"
      ],
      "metadata": {
        "id": "tML9VmH2ECFK",
        "outputId": "164b3ddd-5338-4bf0-81e6-50f9a2f2f70c",
        "colab": {
          "base_uri": "https://localhost:8080/"
        }
      },
      "execution_count": 54,
      "outputs": [
        {
          "output_type": "stream",
          "name": "stdout",
          "text": [
            "   semilla testing testing_pos envios aciertos ganancia_test\n",
            "     <num>   <int>       <int>  <int>    <int>         <num>\n",
            "1:  209353   49378         374   2556      192      51240000\n",
            "2:  292267   49378         370   3407      217      52730000\n",
            "3:  480731   49368         371   3533      203      45870000\n",
            "4:  529681   49375         372   2530      192      51500000\n",
            "5:  663149   49379         373   3308      201      47320000\n"
          ]
        }
      ]
    },
    {
      "cell_type": "code",
      "source": [
        "# finalmente calculo la media (promedio)  de las ganancias\n",
        "cat( \"ganancia promedio: \", tb_salida[, mean(ganancia_test)], \"\\n\" )"
      ],
      "metadata": {
        "id": "rbHXPfoVENQB",
        "outputId": "26760f2e-e1a6-4a7a-830e-636fed8b287b",
        "colab": {
          "base_uri": "https://localhost:8080/"
        }
      },
      "execution_count": 55,
      "outputs": [
        {
          "output_type": "stream",
          "name": "stdout",
          "text": [
            "ganancia promedio:  49732000 \n"
          ]
        }
      ]
    },
    {
      "cell_type": "markdown",
      "source": [
        "### Acciones a realizar\n",
        "* Reportar la  *Ganancia Promedio* <br> en la planilla colaborativa hoja  **C2-5sem**\n",
        "* Se discutirá en clase la variabilidad de estos \"ganancia promedio de cinco semillas\""
      ],
      "metadata": {
        "id": "_3xVH6UKA2W6"
      }
    },
    {
      "cell_type": "markdown",
      "source": [
        "\n",
        "\n",
        "---\n",
        "\n"
      ],
      "metadata": {
        "id": "N29m1XGpA2W7"
      }
    },
    {
      "cell_type": "markdown",
      "source": [
        "# 3  Generando n semillas en forma automatica\n",
        "## Clase 02  Experimento 3"
      ],
      "metadata": {
        "id": "zS7WIJciFGc6"
      }
    },
    {
      "cell_type": "markdown",
      "source": [
        "## 3.1  Objetivos\n",
        "Mostrar la creación de nuevas semillas a partir de la librería Primes"
      ],
      "metadata": {
        "id": "VmiFDDDJFUEo"
      }
    },
    {
      "cell_type": "markdown",
      "source": [
        "3.2  Código\n",
        "\n",
        "Como generar muchas semillas a partir de una"
      ],
      "metadata": {
        "id": "Ehe3VfdfFbvg"
      }
    },
    {
      "cell_type": "code",
      "source": [
        "# instalo y cargo la libreria  primes\n",
        "if (!require(\"primes\")) install.packages(\"primes\")\n",
        "require(\"primes\")"
      ],
      "metadata": {
        "id": "X6_dE42yF2-t",
        "outputId": "449699f0-6ad4-42c3-b8a4-e3c750937a5d",
        "colab": {
          "base_uri": "https://localhost:8080/"
        }
      },
      "execution_count": 56,
      "outputs": [
        {
          "output_type": "stream",
          "name": "stderr",
          "text": [
            "Loading required package: primes\n",
            "\n",
            "Warning message in library(package, lib.loc = lib.loc, character.only = TRUE, logical.return = TRUE, :\n",
            "“there is no package called ‘primes’”\n",
            "Installing package into ‘/usr/local/lib/R/site-library’\n",
            "(as ‘lib’ is unspecified)\n",
            "\n",
            "Loading required package: primes\n",
            "\n"
          ]
        }
      ]
    },
    {
      "cell_type": "code",
      "source": [
        "# genero numeros primos\n",
        "primos <- generate_primes(min = 100000, max = 1000000)\n",
        "\n",
        "\n",
        "set.seed(209353) # inicializo con mi primer semilla\n",
        "\n",
        "# me quedo con por ejemplo 20 primos al azar\n",
        "semillas <- sample(primos, 20 )\n",
        "\n",
        "print( semillas )"
      ],
      "metadata": {
        "id": "yDU9RyV4FNhZ",
        "outputId": "e84f17c5-a995-4fe9-d1c2-1e9bb70c2298",
        "colab": {
          "base_uri": "https://localhost:8080/"
        }
      },
      "execution_count": 57,
      "outputs": [
        {
          "output_type": "stream",
          "name": "stdout",
          "text": [
            " [1] 160357 990323 989671 255107 261427 136223 718321 606341 233327 411779\n",
            "[11] 448157 275591 616409 225569 708049 615827 419513 784349 760477 135593\n"
          ]
        }
      ]
    },
    {
      "cell_type": "markdown",
      "source": [
        "\n",
        "\n",
        "---\n",
        "\n"
      ],
      "metadata": {
        "id": "eD_cO5VTGGea"
      }
    },
    {
      "cell_type": "code",
      "source": [],
      "metadata": {
        "id": "k-rgoA2ZFll4"
      },
      "execution_count": null,
      "outputs": []
    },
    {
      "cell_type": "markdown",
      "source": [
        "# 4  Medición  50-Monte Carlo Cross Validation\n",
        "## Clase 02  Experimento 4"
      ],
      "metadata": {
        "id": "cZi29THsGil_"
      }
    },
    {
      "cell_type": "markdown",
      "source": [
        "## 4.1  Objetivos\n",
        "Calcular la ganancia del modelo utilizando 50 semillas nuevas generadas a partir de mi semilla primigenia."
      ],
      "metadata": {
        "id": "qFNq6ntVGimN"
      }
    },
    {
      "cell_type": "markdown",
      "source": [
        "## 4.4 Codigo  50 Montecarlo"
      ],
      "metadata": {
        "id": "B6KtuhQCGimP"
      }
    },
    {
      "cell_type": "markdown",
      "source": [
        "Esta parte se debe correr con el runtime en lenguaje **R** Ir al menu, Runtime -> Change Runtime Tipe -> Runtime type -> R"
      ],
      "metadata": {
        "id": "LgGgjPQuGimP"
      }
    },
    {
      "cell_type": "markdown",
      "source": [
        "Este punto demora en correr 60 minutos en Google Colab, con lo cual para continuar con el punto siguiente deberá abrir un nuevo Colab"
      ],
      "metadata": {
        "id": "E82ChuO25OYx"
      }
    },
    {
      "cell_type": "markdown",
      "source": [
        "limpio el ambiente de R"
      ],
      "metadata": {
        "id": "a6AxqLwOGimQ"
      }
    },
    {
      "cell_type": "code",
      "source": [
        "# limpio la memoria\n",
        "rm(list=ls(all.names=TRUE)) # remove all objects\n",
        "gc(full=TRUE, verbose=FALSE) # garbage collection"
      ],
      "metadata": {
        "id": "797Ad0_QGimQ",
        "outputId": "b2e6d16e-f0f5-4ddc-ea6d-322dcc5bdb49",
        "colab": {
          "base_uri": "https://localhost:8080/",
          "height": 129
        }
      },
      "execution_count": 58,
      "outputs": [
        {
          "output_type": "display_data",
          "data": {
            "text/html": [
              "<table class=\"dataframe\">\n",
              "<caption>A matrix: 2 × 6 of type dbl</caption>\n",
              "<thead>\n",
              "\t<tr><th></th><th scope=col>used</th><th scope=col>(Mb)</th><th scope=col>gc trigger</th><th scope=col>(Mb)</th><th scope=col>max used</th><th scope=col>(Mb)</th></tr>\n",
              "</thead>\n",
              "<tbody>\n",
              "\t<tr><th scope=row>Ncells</th><td> 880123</td><td>47.1</td><td> 1454460</td><td> 77.7</td><td>  1454460</td><td> 77.7</td></tr>\n",
              "\t<tr><th scope=row>Vcells</th><td>1721378</td><td>13.2</td><td>81574356</td><td>622.4</td><td>127414890</td><td>972.1</td></tr>\n",
              "</tbody>\n",
              "</table>\n"
            ],
            "text/markdown": "\nA matrix: 2 × 6 of type dbl\n\n| <!--/--> | used | (Mb) | gc trigger | (Mb) | max used | (Mb) |\n|---|---|---|---|---|---|---|\n| Ncells |  880123 | 47.1 |  1454460 |  77.7 |   1454460 |  77.7 |\n| Vcells | 1721378 | 13.2 | 81574356 | 622.4 | 127414890 | 972.1 |\n\n",
            "text/latex": "A matrix: 2 × 6 of type dbl\n\\begin{tabular}{r|llllll}\n  & used & (Mb) & gc trigger & (Mb) & max used & (Mb)\\\\\n\\hline\n\tNcells &  880123 & 47.1 &  1454460 &  77.7 &   1454460 &  77.7\\\\\n\tVcells & 1721378 & 13.2 & 81574356 & 622.4 & 127414890 & 972.1\\\\\n\\end{tabular}\n",
            "text/plain": [
              "       used    (Mb) gc trigger (Mb)  max used  (Mb) \n",
              "Ncells  880123 47.1  1454460    77.7   1454460  77.7\n",
              "Vcells 1721378 13.2 81574356   622.4 127414890 972.1"
            ]
          },
          "metadata": {}
        }
      ]
    },
    {
      "cell_type": "markdown",
      "source": [
        "* Instalacion de la libreria  rpart.plot  para dibujar el arbol\n",
        "* invocacion de las librerias  **data.table** y  **rpart**"
      ],
      "metadata": {
        "id": "v0CepvbjGimQ"
      }
    },
    {
      "cell_type": "code",
      "source": [
        "# cargo las librerias que necesito\n",
        "require(\"data.table\")\n",
        "require(\"rpart\")\n",
        "require(\"parallel\")\n",
        "\n",
        "if (!require(\"primes\")) install.packages(\"primes\")\n",
        "require(\"primes\")"
      ],
      "metadata": {
        "id": "CRkZ1V2_GimR"
      },
      "execution_count": 59,
      "outputs": []
    },
    {
      "cell_type": "markdown",
      "source": [
        "###  Accion a Realizar\n",
        "PARAM$semilla_primigenia  debe reemplazarse por SU primer semilla"
      ],
      "metadata": {
        "id": "PZKJG-nSGimR"
      }
    },
    {
      "cell_type": "code",
      "source": [
        "PARAM <- list()\n",
        "PARAM$semilla_primigenia <- 209353\n",
        "PARAM$qsemillas <- 50\n",
        "PARAM$training_pct <- 70L  # entre  1L y 99L\n",
        "\n",
        "PARAM$rpart <- list (\n",
        "  \"cp\" = -1, # complejidad minima\n",
        "  \"minsplit\" = 170, # minima cantidad de regs en un nodo para hacer el split\n",
        "  \"minbucket\" = 70, # minima cantidad de regs en una hoja\n",
        "  \"maxdepth\" = 7 # profundidad máxima del arbol\n",
        ")\n"
      ],
      "metadata": {
        "id": "4kbkA-2HGimR"
      },
      "execution_count": 68,
      "outputs": []
    },
    {
      "cell_type": "code",
      "source": [
        "# particionar agrega una columna llamada fold a un dataset\n",
        "#  que consiste en una particion estratificada segun agrupa\n",
        "\n",
        "# particionar( data=dataset, division=c(70,30),\n",
        "#  agrupa=clase_ternaria, seed=semilla)   crea una particion 70, 30\n",
        "\n",
        "particionar <- function(\n",
        "    data, division, agrupa = \"\",\n",
        "    campo = \"fold\", start = 1, seed = NA) {\n",
        "  if (!is.na(seed)) set.seed(seed)\n",
        "\n",
        "  bloque <- unlist(mapply(function(x, y) {\n",
        "    rep(y, x)\n",
        "  }, division, seq(from = start, length.out = length(division))))\n",
        "\n",
        "  data[, (campo) := sample(rep(bloque, ceiling(.N / length(bloque))))[1:.N],\n",
        "    by = agrupa\n",
        "  ]\n",
        "}\n"
      ],
      "metadata": {
        "id": "HME0qUeOGimS"
      },
      "execution_count": 69,
      "outputs": []
    },
    {
      "cell_type": "code",
      "source": [
        "\n",
        "ArbolEstimarGanancia <- function(semilla, param_basicos) {\n",
        "  # particiono estratificadamente el dataset\n",
        "  particionar(dataset,\n",
        "    division = c(param_basicos$training_pct, 100L -param_basicos$training_pct),\n",
        "    agrupa = \"clase_ternaria\",\n",
        "    seed = semilla # aqui se usa SU semilla\n",
        "  )\n",
        "\n",
        "  # genero el modelo\n",
        "  # predecir clase_ternaria a partir del resto\n",
        "  modelo <- rpart(\"clase_ternaria ~ .\",\n",
        "    data = dataset[fold == 1], # fold==1  es training,  el 70% de los datos\n",
        "    xval = 0,\n",
        "    control = param_basicos$rpart\n",
        "  ) # aqui van los parametros del arbol\n",
        "\n",
        "  # aplico el modelo a los datos de testing\n",
        "  prediccion <- predict(modelo, # el modelo que genere recien\n",
        "    dataset[fold == 2], # fold==2  es testing, el 30% de los datos\n",
        "    type = \"prob\"\n",
        "  ) # type= \"prob\"  es que devuelva la probabilidad\n",
        "\n",
        "  # prediccion es una matriz con TRES columnas,\n",
        "  #  llamadas \"BAJA+1\", \"BAJA+2\"  y \"CONTINUA\"\n",
        "  # cada columna es el vector de probabilidades\n",
        "\n",
        "\n",
        "  # calculo la ganancia en testing  qu es fold==2\n",
        "  ganancia_test <- dataset[\n",
        "    fold == 2,\n",
        "    sum(ifelse(prediccion[, \"BAJA+2\"] > 0.025,\n",
        "      ifelse(clase_ternaria == \"BAJA+2\", 117000, -3000),\n",
        "      0\n",
        "    ))\n",
        "  ]\n",
        "\n",
        "  # escalo la ganancia como si fuera todo el dataset\n",
        "  ganancia_test_normalizada <- ganancia_test / (( 100 - PARAM$training_pct ) / 100 )\n",
        "\n",
        "  return(list(\n",
        "    \"semilla\" = semilla,\n",
        "    \"testing\" = dataset[fold == 2, .N],\n",
        "    \"testing_pos\" = dataset[fold == 2 & clase_ternaria == \"BAJA+2\", .N],\n",
        "    \"envios\" = dataset[fold == 2, sum(prediccion[, \"BAJA+2\"] > 0.025)],\n",
        "    \"aciertos\" = dataset[\n",
        "        fold == 2,\n",
        "        sum(prediccion[, \"BAJA+2\"] > 0.025 & clase_ternaria == \"BAJA+2\")\n",
        "    ],\n",
        "    \"ganancia_test\" = ganancia_test_normalizada\n",
        "  ))\n",
        "}\n"
      ],
      "metadata": {
        "id": "ro9Ufoi-GimS"
      },
      "execution_count": 70,
      "outputs": []
    },
    {
      "cell_type": "code",
      "source": [
        "# carpeta de trabajo\n",
        "setwd(\"/content/buckets/b1/exp\")\n",
        "experimento <- \"exp204\"\n",
        "dir.create(experimento, showWarnings=FALSE)\n",
        "setwd( paste0(\"/content/buckets/b1/exp/\", experimento ))"
      ],
      "metadata": {
        "id": "gz7LgltwGimT"
      },
      "execution_count": 71,
      "outputs": []
    },
    {
      "cell_type": "code",
      "source": [
        "# lectura del dataset\n",
        "dataset <- fread(\"/content/datasets/dataset_pequeno.csv\")\n",
        "\n",
        "# trabajo solo con los datos con clase, es decir 202107\n",
        "dataset <- dataset[clase_ternaria != \"\"]"
      ],
      "metadata": {
        "id": "xRXKHeLeGimT"
      },
      "execution_count": 72,
      "outputs": []
    },
    {
      "cell_type": "code",
      "source": [
        "# genero numeros primos\n",
        "primos <- generate_primes(min = 100000, max = 1000000)\n",
        "set.seed(PARAM$semilla_primigenia) # inicializo\n",
        "\n",
        "# me quedo con PARAM$qsemillas   semillas\n",
        "PARAM$semillas <- sample(primos, PARAM$qsemillas )"
      ],
      "metadata": {
        "id": "MdpZ10qiHSZy"
      },
      "execution_count": 73,
      "outputs": []
    },
    {
      "cell_type": "code",
      "source": [
        "\n",
        "# la funcion mcmapply  llama a la funcion ArbolEstimarGanancia\n",
        "#  tantas veces como valores tenga el vector  PARAM$semillas\n",
        "salidas <- mcmapply(ArbolEstimarGanancia,\n",
        "  PARAM$semillas, # paso el vector de semillas\n",
        "  MoreArgs = list(PARAM), # aqui paso el segundo parametro\n",
        "  SIMPLIFY = FALSE,\n",
        "  mc.cores = detectCores()\n",
        ")\n",
        "\n",
        "# muestro la lista de las salidas en testing\n",
        "#  para la particion realizada con cada semilla\n",
        "salidas\n"
      ],
      "metadata": {
        "id": "r-YaawpgGimU",
        "outputId": "3151fb1d-30de-4792-8bfc-b76398284978",
        "colab": {
          "base_uri": "https://localhost:8080/",
          "height": 1000
        }
      },
      "execution_count": 74,
      "outputs": [
        {
          "output_type": "display_data",
          "data": {
            "text/html": [
              "<ol>\n",
              "\t<li><dl>\n",
              "\t<dt>$semilla</dt>\n",
              "\t\t<dd>160357</dd>\n",
              "\t<dt>$testing</dt>\n",
              "\t\t<dd>49382</dd>\n",
              "\t<dt>$testing_pos</dt>\n",
              "\t\t<dd>376</dd>\n",
              "\t<dt>$envios</dt>\n",
              "\t\t<dd>3303</dd>\n",
              "\t<dt>$aciertos</dt>\n",
              "\t\t<dd>187</dd>\n",
              "\t<dt>$ganancia_test</dt>\n",
              "\t\t<dd>41770000</dd>\n",
              "</dl>\n",
              "</li>\n",
              "\t<li><dl>\n",
              "\t<dt>$semilla</dt>\n",
              "\t\t<dd>990323</dd>\n",
              "\t<dt>$testing</dt>\n",
              "\t\t<dd>49380</dd>\n",
              "\t<dt>$testing_pos</dt>\n",
              "\t\t<dd>374</dd>\n",
              "\t<dt>$envios</dt>\n",
              "\t\t<dd>2403</dd>\n",
              "\t<dt>$aciertos</dt>\n",
              "\t\t<dd>186</dd>\n",
              "\t<dt>$ganancia_test</dt>\n",
              "\t\t<dd>50370000</dd>\n",
              "</dl>\n",
              "</li>\n",
              "\t<li><dl>\n",
              "\t<dt>$semilla</dt>\n",
              "\t\t<dd>989671</dd>\n",
              "\t<dt>$testing</dt>\n",
              "\t\t<dd>49387</dd>\n",
              "\t<dt>$testing_pos</dt>\n",
              "\t\t<dd>382</dd>\n",
              "\t<dt>$envios</dt>\n",
              "\t\t<dd>3978</dd>\n",
              "\t<dt>$aciertos</dt>\n",
              "\t\t<dd>213</dd>\n",
              "\t<dt>$ganancia_test</dt>\n",
              "\t\t<dd>45420000</dd>\n",
              "</dl>\n",
              "</li>\n",
              "\t<li><dl>\n",
              "\t<dt>$semilla</dt>\n",
              "\t\t<dd>255107</dd>\n",
              "\t<dt>$testing</dt>\n",
              "\t\t<dd>49374</dd>\n",
              "\t<dt>$testing_pos</dt>\n",
              "\t\t<dd>374</dd>\n",
              "\t<dt>$envios</dt>\n",
              "\t\t<dd>4070</dd>\n",
              "\t<dt>$aciertos</dt>\n",
              "\t\t<dd>223</dd>\n",
              "\t<dt>$ganancia_test</dt>\n",
              "\t\t<dd>48500000</dd>\n",
              "</dl>\n",
              "</li>\n",
              "\t<li><dl>\n",
              "\t<dt>$semilla</dt>\n",
              "\t\t<dd>261427</dd>\n",
              "\t<dt>$testing</dt>\n",
              "\t\t<dd>49375</dd>\n",
              "\t<dt>$testing_pos</dt>\n",
              "\t\t<dd>373</dd>\n",
              "\t<dt>$envios</dt>\n",
              "\t\t<dd>3503</dd>\n",
              "\t<dt>$aciertos</dt>\n",
              "\t\t<dd>201</dd>\n",
              "\t<dt>$ganancia_test</dt>\n",
              "\t\t<dd>45370000</dd>\n",
              "</dl>\n",
              "</li>\n",
              "\t<li><dl>\n",
              "\t<dt>$semilla</dt>\n",
              "\t\t<dd>136223</dd>\n",
              "\t<dt>$testing</dt>\n",
              "\t\t<dd>49383</dd>\n",
              "\t<dt>$testing_pos</dt>\n",
              "\t\t<dd>372</dd>\n",
              "\t<dt>$envios</dt>\n",
              "\t\t<dd>3939</dd>\n",
              "\t<dt>$aciertos</dt>\n",
              "\t\t<dd>228</dd>\n",
              "\t<dt>$ganancia_test</dt>\n",
              "\t\t<dd>51810000</dd>\n",
              "</dl>\n",
              "</li>\n",
              "\t<li><dl>\n",
              "\t<dt>$semilla</dt>\n",
              "\t\t<dd>718321</dd>\n",
              "\t<dt>$testing</dt>\n",
              "\t\t<dd>49375</dd>\n",
              "\t<dt>$testing_pos</dt>\n",
              "\t\t<dd>375</dd>\n",
              "\t<dt>$envios</dt>\n",
              "\t\t<dd>3405</dd>\n",
              "\t<dt>$aciertos</dt>\n",
              "\t\t<dd>213</dd>\n",
              "\t<dt>$ganancia_test</dt>\n",
              "\t\t<dd>51150000</dd>\n",
              "</dl>\n",
              "</li>\n",
              "\t<li><dl>\n",
              "\t<dt>$semilla</dt>\n",
              "\t\t<dd>606341</dd>\n",
              "\t<dt>$testing</dt>\n",
              "\t\t<dd>49375</dd>\n",
              "\t<dt>$testing_pos</dt>\n",
              "\t\t<dd>366</dd>\n",
              "\t<dt>$envios</dt>\n",
              "\t\t<dd>3243</dd>\n",
              "\t<dt>$aciertos</dt>\n",
              "\t\t<dd>193</dd>\n",
              "\t<dt>$ganancia_test</dt>\n",
              "\t\t<dd>44770000</dd>\n",
              "</dl>\n",
              "</li>\n",
              "\t<li><dl>\n",
              "\t<dt>$semilla</dt>\n",
              "\t\t<dd>233327</dd>\n",
              "\t<dt>$testing</dt>\n",
              "\t\t<dd>49376</dd>\n",
              "\t<dt>$testing_pos</dt>\n",
              "\t\t<dd>378</dd>\n",
              "\t<dt>$envios</dt>\n",
              "\t\t<dd>3415</dd>\n",
              "\t<dt>$aciertos</dt>\n",
              "\t\t<dd>205</dd>\n",
              "\t<dt>$ganancia_test</dt>\n",
              "\t\t<dd>47850000</dd>\n",
              "</dl>\n",
              "</li>\n",
              "\t<li><dl>\n",
              "\t<dt>$semilla</dt>\n",
              "\t\t<dd>411779</dd>\n",
              "\t<dt>$testing</dt>\n",
              "\t\t<dd>49381</dd>\n",
              "\t<dt>$testing_pos</dt>\n",
              "\t\t<dd>376</dd>\n",
              "\t<dt>$envios</dt>\n",
              "\t\t<dd>3878</dd>\n",
              "\t<dt>$aciertos</dt>\n",
              "\t\t<dd>210</dd>\n",
              "\t<dt>$ganancia_test</dt>\n",
              "\t\t<dd>45220000</dd>\n",
              "</dl>\n",
              "</li>\n",
              "\t<li><dl>\n",
              "\t<dt>$semilla</dt>\n",
              "\t\t<dd>448157</dd>\n",
              "\t<dt>$testing</dt>\n",
              "\t\t<dd>49375</dd>\n",
              "\t<dt>$testing_pos</dt>\n",
              "\t\t<dd>374</dd>\n",
              "\t<dt>$envios</dt>\n",
              "\t\t<dd>2745</dd>\n",
              "\t<dt>$aciertos</dt>\n",
              "\t\t<dd>176</dd>\n",
              "\t<dt>$ganancia_test</dt>\n",
              "\t\t<dd>42950000</dd>\n",
              "</dl>\n",
              "</li>\n",
              "\t<li><dl>\n",
              "\t<dt>$semilla</dt>\n",
              "\t\t<dd>275591</dd>\n",
              "\t<dt>$testing</dt>\n",
              "\t\t<dd>49376</dd>\n",
              "\t<dt>$testing_pos</dt>\n",
              "\t\t<dd>371</dd>\n",
              "\t<dt>$envios</dt>\n",
              "\t\t<dd>3435</dd>\n",
              "\t<dt>$aciertos</dt>\n",
              "\t\t<dd>208</dd>\n",
              "\t<dt>$ganancia_test</dt>\n",
              "\t\t<dd>48850000</dd>\n",
              "</dl>\n",
              "</li>\n",
              "\t<li><dl>\n",
              "\t<dt>$semilla</dt>\n",
              "\t\t<dd>616409</dd>\n",
              "\t<dt>$testing</dt>\n",
              "\t\t<dd>49367</dd>\n",
              "\t<dt>$testing_pos</dt>\n",
              "\t\t<dd>373</dd>\n",
              "\t<dt>$envios</dt>\n",
              "\t\t<dd>4126</dd>\n",
              "\t<dt>$aciertos</dt>\n",
              "\t\t<dd>229</dd>\n",
              "\t<dt>$ganancia_test</dt>\n",
              "\t\t<dd>50340000</dd>\n",
              "</dl>\n",
              "</li>\n",
              "\t<li><dl>\n",
              "\t<dt>$semilla</dt>\n",
              "\t\t<dd>225569</dd>\n",
              "\t<dt>$testing</dt>\n",
              "\t\t<dd>49367</dd>\n",
              "\t<dt>$testing_pos</dt>\n",
              "\t\t<dd>372</dd>\n",
              "\t<dt>$envios</dt>\n",
              "\t\t<dd>3351</dd>\n",
              "\t<dt>$aciertos</dt>\n",
              "\t\t<dd>196</dd>\n",
              "\t<dt>$ganancia_test</dt>\n",
              "\t\t<dd>44890000</dd>\n",
              "</dl>\n",
              "</li>\n",
              "\t<li><dl>\n",
              "\t<dt>$semilla</dt>\n",
              "\t\t<dd>708049</dd>\n",
              "\t<dt>$testing</dt>\n",
              "\t\t<dd>49375</dd>\n",
              "\t<dt>$testing_pos</dt>\n",
              "\t\t<dd>375</dd>\n",
              "\t<dt>$envios</dt>\n",
              "\t\t<dd>3432</dd>\n",
              "\t<dt>$aciertos</dt>\n",
              "\t\t<dd>204</dd>\n",
              "\t<dt>$ganancia_test</dt>\n",
              "\t\t<dd>47280000</dd>\n",
              "</dl>\n",
              "</li>\n",
              "\t<li><dl>\n",
              "\t<dt>$semilla</dt>\n",
              "\t\t<dd>615827</dd>\n",
              "\t<dt>$testing</dt>\n",
              "\t\t<dd>49378</dd>\n",
              "\t<dt>$testing_pos</dt>\n",
              "\t\t<dd>376</dd>\n",
              "\t<dt>$envios</dt>\n",
              "\t\t<dd>3560</dd>\n",
              "\t<dt>$aciertos</dt>\n",
              "\t\t<dd>211</dd>\n",
              "\t<dt>$ganancia_test</dt>\n",
              "\t\t<dd>48800000</dd>\n",
              "</dl>\n",
              "</li>\n",
              "\t<li><dl>\n",
              "\t<dt>$semilla</dt>\n",
              "\t\t<dd>419513</dd>\n",
              "\t<dt>$testing</dt>\n",
              "\t\t<dd>49379</dd>\n",
              "\t<dt>$testing_pos</dt>\n",
              "\t\t<dd>375</dd>\n",
              "\t<dt>$envios</dt>\n",
              "\t\t<dd>2672</dd>\n",
              "\t<dt>$aciertos</dt>\n",
              "\t\t<dd>189</dd>\n",
              "\t<dt>$ganancia_test</dt>\n",
              "\t\t<dd>48880000</dd>\n",
              "</dl>\n",
              "</li>\n",
              "\t<li><dl>\n",
              "\t<dt>$semilla</dt>\n",
              "\t\t<dd>784349</dd>\n",
              "\t<dt>$testing</dt>\n",
              "\t\t<dd>49383</dd>\n",
              "\t<dt>$testing_pos</dt>\n",
              "\t\t<dd>376</dd>\n",
              "\t<dt>$envios</dt>\n",
              "\t\t<dd>3019</dd>\n",
              "\t<dt>$aciertos</dt>\n",
              "\t\t<dd>198</dd>\n",
              "\t<dt>$ganancia_test</dt>\n",
              "\t\t<dd>49010000</dd>\n",
              "</dl>\n",
              "</li>\n",
              "\t<li><dl>\n",
              "\t<dt>$semilla</dt>\n",
              "\t\t<dd>760477</dd>\n",
              "\t<dt>$testing</dt>\n",
              "\t\t<dd>49378</dd>\n",
              "\t<dt>$testing_pos</dt>\n",
              "\t\t<dd>374</dd>\n",
              "\t<dt>$envios</dt>\n",
              "\t\t<dd>3207</dd>\n",
              "\t<dt>$aciertos</dt>\n",
              "\t\t<dd>193</dd>\n",
              "\t<dt>$ganancia_test</dt>\n",
              "\t\t<dd>45130000</dd>\n",
              "</dl>\n",
              "</li>\n",
              "\t<li><dl>\n",
              "\t<dt>$semilla</dt>\n",
              "\t\t<dd>135593</dd>\n",
              "\t<dt>$testing</dt>\n",
              "\t\t<dd>49377</dd>\n",
              "\t<dt>$testing_pos</dt>\n",
              "\t\t<dd>372</dd>\n",
              "\t<dt>$envios</dt>\n",
              "\t\t<dd>3705</dd>\n",
              "\t<dt>$aciertos</dt>\n",
              "\t\t<dd>213</dd>\n",
              "\t<dt>$ganancia_test</dt>\n",
              "\t\t<dd>48150000</dd>\n",
              "</dl>\n",
              "</li>\n",
              "\t<li><dl>\n",
              "\t<dt>$semilla</dt>\n",
              "\t\t<dd>139397</dd>\n",
              "\t<dt>$testing</dt>\n",
              "\t\t<dd>49373</dd>\n",
              "\t<dt>$testing_pos</dt>\n",
              "\t\t<dd>377</dd>\n",
              "\t<dt>$envios</dt>\n",
              "\t\t<dd>3092</dd>\n",
              "\t<dt>$aciertos</dt>\n",
              "\t\t<dd>193</dd>\n",
              "\t<dt>$ganancia_test</dt>\n",
              "\t\t<dd>46280000</dd>\n",
              "</dl>\n",
              "</li>\n",
              "\t<li><dl>\n",
              "\t<dt>$semilla</dt>\n",
              "\t\t<dd>310379</dd>\n",
              "\t<dt>$testing</dt>\n",
              "\t\t<dd>49379</dd>\n",
              "\t<dt>$testing_pos</dt>\n",
              "\t\t<dd>373</dd>\n",
              "\t<dt>$envios</dt>\n",
              "\t\t<dd>3574</dd>\n",
              "\t<dt>$aciertos</dt>\n",
              "\t\t<dd>204</dd>\n",
              "\t<dt>$ganancia_test</dt>\n",
              "\t\t<dd>45860000</dd>\n",
              "</dl>\n",
              "</li>\n",
              "\t<li><dl>\n",
              "\t<dt>$semilla</dt>\n",
              "\t\t<dd>511109</dd>\n",
              "\t<dt>$testing</dt>\n",
              "\t\t<dd>49383</dd>\n",
              "\t<dt>$testing_pos</dt>\n",
              "\t\t<dd>377</dd>\n",
              "\t<dt>$envios</dt>\n",
              "\t\t<dd>4101</dd>\n",
              "\t<dt>$aciertos</dt>\n",
              "\t\t<dd>229</dd>\n",
              "\t<dt>$ganancia_test</dt>\n",
              "\t\t<dd>50590000</dd>\n",
              "</dl>\n",
              "</li>\n",
              "\t<li><dl>\n",
              "\t<dt>$semilla</dt>\n",
              "\t\t<dd>773681</dd>\n",
              "\t<dt>$testing</dt>\n",
              "\t\t<dd>49380</dd>\n",
              "\t<dt>$testing_pos</dt>\n",
              "\t\t<dd>371</dd>\n",
              "\t<dt>$envios</dt>\n",
              "\t\t<dd>4452</dd>\n",
              "\t<dt>$aciertos</dt>\n",
              "\t\t<dd>229</dd>\n",
              "\t<dt>$ganancia_test</dt>\n",
              "\t\t<dd>47080000</dd>\n",
              "</dl>\n",
              "</li>\n",
              "\t<li><dl>\n",
              "\t<dt>$semilla</dt>\n",
              "\t\t<dd>650227</dd>\n",
              "\t<dt>$testing</dt>\n",
              "\t\t<dd>49374</dd>\n",
              "\t<dt>$testing_pos</dt>\n",
              "\t\t<dd>376</dd>\n",
              "\t<dt>$envios</dt>\n",
              "\t\t<dd>3682</dd>\n",
              "\t<dt>$aciertos</dt>\n",
              "\t\t<dd>214</dd>\n",
              "\t<dt>$ganancia_test</dt>\n",
              "\t\t<dd>48780000</dd>\n",
              "</dl>\n",
              "</li>\n",
              "\t<li><dl>\n",
              "\t<dt>$semilla</dt>\n",
              "\t\t<dd>145459</dd>\n",
              "\t<dt>$testing</dt>\n",
              "\t\t<dd>49376</dd>\n",
              "\t<dt>$testing_pos</dt>\n",
              "\t\t<dd>371</dd>\n",
              "\t<dt>$envios</dt>\n",
              "\t\t<dd>2800</dd>\n",
              "\t<dt>$aciertos</dt>\n",
              "\t\t<dd>193</dd>\n",
              "\t<dt>$ganancia_test</dt>\n",
              "\t\t<dd>49200000</dd>\n",
              "</dl>\n",
              "</li>\n",
              "\t<li><dl>\n",
              "\t<dt>$semilla</dt>\n",
              "\t\t<dd>185797</dd>\n",
              "\t<dt>$testing</dt>\n",
              "\t\t<dd>49380</dd>\n",
              "\t<dt>$testing_pos</dt>\n",
              "\t\t<dd>376</dd>\n",
              "\t<dt>$envios</dt>\n",
              "\t\t<dd>3160</dd>\n",
              "\t<dt>$aciertos</dt>\n",
              "\t\t<dd>211</dd>\n",
              "\t<dt>$ganancia_test</dt>\n",
              "\t\t<dd>52800000</dd>\n",
              "</dl>\n",
              "</li>\n",
              "\t<li><dl>\n",
              "\t<dt>$semilla</dt>\n",
              "\t\t<dd>681613</dd>\n",
              "\t<dt>$testing</dt>\n",
              "\t\t<dd>49380</dd>\n",
              "\t<dt>$testing_pos</dt>\n",
              "\t\t<dd>377</dd>\n",
              "\t<dt>$envios</dt>\n",
              "\t\t<dd>3193</dd>\n",
              "\t<dt>$aciertos</dt>\n",
              "\t\t<dd>206</dd>\n",
              "\t<dt>$ganancia_test</dt>\n",
              "\t\t<dd>50470000</dd>\n",
              "</dl>\n",
              "</li>\n",
              "\t<li><dl>\n",
              "\t<dt>$semilla</dt>\n",
              "\t\t<dd>842813</dd>\n",
              "\t<dt>$testing</dt>\n",
              "\t\t<dd>49370</dd>\n",
              "\t<dt>$testing_pos</dt>\n",
              "\t\t<dd>369</dd>\n",
              "\t<dt>$envios</dt>\n",
              "\t\t<dd>4050</dd>\n",
              "\t<dt>$aciertos</dt>\n",
              "\t\t<dd>217</dd>\n",
              "\t<dt>$ganancia_test</dt>\n",
              "\t\t<dd>46300000</dd>\n",
              "</dl>\n",
              "</li>\n",
              "\t<li><dl>\n",
              "\t<dt>$semilla</dt>\n",
              "\t\t<dd>188011</dd>\n",
              "\t<dt>$testing</dt>\n",
              "\t\t<dd>49376</dd>\n",
              "\t<dt>$testing_pos</dt>\n",
              "\t\t<dd>372</dd>\n",
              "\t<dt>$envios</dt>\n",
              "\t\t<dd>3355</dd>\n",
              "\t<dt>$aciertos</dt>\n",
              "\t\t<dd>207</dd>\n",
              "\t<dt>$ganancia_test</dt>\n",
              "\t\t<dd>49250000</dd>\n",
              "</dl>\n",
              "</li>\n",
              "\t<li><dl>\n",
              "\t<dt>$semilla</dt>\n",
              "\t\t<dd>449783</dd>\n",
              "\t<dt>$testing</dt>\n",
              "\t\t<dd>49386</dd>\n",
              "\t<dt>$testing_pos</dt>\n",
              "\t\t<dd>375</dd>\n",
              "\t<dt>$envios</dt>\n",
              "\t\t<dd>2816</dd>\n",
              "\t<dt>$aciertos</dt>\n",
              "\t\t<dd>181</dd>\n",
              "\t<dt>$ganancia_test</dt>\n",
              "\t\t<dd>44240000</dd>\n",
              "</dl>\n",
              "</li>\n",
              "\t<li><dl>\n",
              "\t<dt>$semilla</dt>\n",
              "\t\t<dd>143833</dd>\n",
              "\t<dt>$testing</dt>\n",
              "\t\t<dd>49388</dd>\n",
              "\t<dt>$testing_pos</dt>\n",
              "\t\t<dd>376</dd>\n",
              "\t<dt>$envios</dt>\n",
              "\t\t<dd>3954</dd>\n",
              "\t<dt>$aciertos</dt>\n",
              "\t\t<dd>214</dd>\n",
              "\t<dt>$ganancia_test</dt>\n",
              "\t\t<dd>46060000</dd>\n",
              "</dl>\n",
              "</li>\n",
              "\t<li><dl>\n",
              "\t<dt>$semilla</dt>\n",
              "\t\t<dd>697691</dd>\n",
              "\t<dt>$testing</dt>\n",
              "\t\t<dd>49383</dd>\n",
              "\t<dt>$testing_pos</dt>\n",
              "\t\t<dd>374</dd>\n",
              "\t<dt>$envios</dt>\n",
              "\t\t<dd>4263</dd>\n",
              "\t<dt>$aciertos</dt>\n",
              "\t\t<dd>230</dd>\n",
              "\t<dt>$ganancia_test</dt>\n",
              "\t\t<dd>49370000</dd>\n",
              "</dl>\n",
              "</li>\n",
              "\t<li><dl>\n",
              "\t<dt>$semilla</dt>\n",
              "\t\t<dd>726839</dd>\n",
              "\t<dt>$testing</dt>\n",
              "\t\t<dd>49382</dd>\n",
              "\t<dt>$testing_pos</dt>\n",
              "\t\t<dd>376</dd>\n",
              "\t<dt>$envios</dt>\n",
              "\t\t<dd>2847</dd>\n",
              "\t<dt>$aciertos</dt>\n",
              "\t\t<dd>205</dd>\n",
              "\t<dt>$ganancia_test</dt>\n",
              "\t\t<dd>53530000</dd>\n",
              "</dl>\n",
              "</li>\n",
              "\t<li><dl>\n",
              "\t<dt>$semilla</dt>\n",
              "\t\t<dd>379333</dd>\n",
              "\t<dt>$testing</dt>\n",
              "\t\t<dd>49380</dd>\n",
              "\t<dt>$testing_pos</dt>\n",
              "\t\t<dd>374</dd>\n",
              "\t<dt>$envios</dt>\n",
              "\t\t<dd>3281</dd>\n",
              "\t<dt>$aciertos</dt>\n",
              "\t\t<dd>197</dd>\n",
              "\t<dt>$ganancia_test</dt>\n",
              "\t\t<dd>45990000</dd>\n",
              "</dl>\n",
              "</li>\n",
              "\t<li><dl>\n",
              "\t<dt>$semilla</dt>\n",
              "\t\t<dd>974513</dd>\n",
              "\t<dt>$testing</dt>\n",
              "\t\t<dd>49384</dd>\n",
              "\t<dt>$testing_pos</dt>\n",
              "\t\t<dd>378</dd>\n",
              "\t<dt>$envios</dt>\n",
              "\t\t<dd>3485</dd>\n",
              "\t<dt>$aciertos</dt>\n",
              "\t\t<dd>197</dd>\n",
              "\t<dt>$ganancia_test</dt>\n",
              "\t\t<dd>43950000</dd>\n",
              "</dl>\n",
              "</li>\n",
              "\t<li><dl>\n",
              "\t<dt>$semilla</dt>\n",
              "\t\t<dd>320213</dd>\n",
              "\t<dt>$testing</dt>\n",
              "\t\t<dd>49385</dd>\n",
              "\t<dt>$testing_pos</dt>\n",
              "\t\t<dd>376</dd>\n",
              "\t<dt>$envios</dt>\n",
              "\t\t<dd>3754</dd>\n",
              "\t<dt>$aciertos</dt>\n",
              "\t\t<dd>220</dd>\n",
              "\t<dt>$ganancia_test</dt>\n",
              "\t\t<dd>50460000</dd>\n",
              "</dl>\n",
              "</li>\n",
              "\t<li><dl>\n",
              "\t<dt>$semilla</dt>\n",
              "\t\t<dd>695329</dd>\n",
              "\t<dt>$testing</dt>\n",
              "\t\t<dd>49384</dd>\n",
              "\t<dt>$testing_pos</dt>\n",
              "\t\t<dd>378</dd>\n",
              "\t<dt>$envios</dt>\n",
              "\t\t<dd>3082</dd>\n",
              "\t<dt>$aciertos</dt>\n",
              "\t\t<dd>190</dd>\n",
              "\t<dt>$ganancia_test</dt>\n",
              "\t\t<dd>45180000</dd>\n",
              "</dl>\n",
              "</li>\n",
              "\t<li><dl>\n",
              "\t<dt>$semilla</dt>\n",
              "\t\t<dd>285023</dd>\n",
              "\t<dt>$testing</dt>\n",
              "\t\t<dd>49376</dd>\n",
              "\t<dt>$testing_pos</dt>\n",
              "\t\t<dd>378</dd>\n",
              "\t<dt>$envios</dt>\n",
              "\t\t<dd>3551</dd>\n",
              "\t<dt>$aciertos</dt>\n",
              "\t\t<dd>218</dd>\n",
              "\t<dt>$ganancia_test</dt>\n",
              "\t\t<dd>51690000</dd>\n",
              "</dl>\n",
              "</li>\n",
              "\t<li><dl>\n",
              "\t<dt>$semilla</dt>\n",
              "\t\t<dd>768169</dd>\n",
              "\t<dt>$testing</dt>\n",
              "\t\t<dd>49375</dd>\n",
              "\t<dt>$testing_pos</dt>\n",
              "\t\t<dd>369</dd>\n",
              "\t<dt>$envios</dt>\n",
              "\t\t<dd>2807</dd>\n",
              "\t<dt>$aciertos</dt>\n",
              "\t\t<dd>187</dd>\n",
              "\t<dt>$ganancia_test</dt>\n",
              "\t\t<dd>46730000</dd>\n",
              "</dl>\n",
              "</li>\n",
              "\t<li><dl>\n",
              "\t<dt>$semilla</dt>\n",
              "\t\t<dd>109567</dd>\n",
              "\t<dt>$testing</dt>\n",
              "\t\t<dd>49383</dd>\n",
              "\t<dt>$testing_pos</dt>\n",
              "\t\t<dd>376</dd>\n",
              "\t<dt>$envios</dt>\n",
              "\t\t<dd>3595</dd>\n",
              "\t<dt>$aciertos</dt>\n",
              "\t\t<dd>207</dd>\n",
              "\t<dt>$ganancia_test</dt>\n",
              "\t\t<dd>46850000</dd>\n",
              "</dl>\n",
              "</li>\n",
              "\t<li><dl>\n",
              "\t<dt>$semilla</dt>\n",
              "\t\t<dd>145021</dd>\n",
              "\t<dt>$testing</dt>\n",
              "\t\t<dd>49386</dd>\n",
              "\t<dt>$testing_pos</dt>\n",
              "\t\t<dd>374</dd>\n",
              "\t<dt>$envios</dt>\n",
              "\t\t<dd>3721</dd>\n",
              "\t<dt>$aciertos</dt>\n",
              "\t\t<dd>203</dd>\n",
              "\t<dt>$ganancia_test</dt>\n",
              "\t\t<dd>43990000</dd>\n",
              "</dl>\n",
              "</li>\n",
              "\t<li><dl>\n",
              "\t<dt>$semilla</dt>\n",
              "\t\t<dd>125711</dd>\n",
              "\t<dt>$testing</dt>\n",
              "\t\t<dd>49385</dd>\n",
              "\t<dt>$testing_pos</dt>\n",
              "\t\t<dd>378</dd>\n",
              "\t<dt>$envios</dt>\n",
              "\t\t<dd>2936</dd>\n",
              "\t<dt>$aciertos</dt>\n",
              "\t\t<dd>192</dd>\n",
              "\t<dt>$ganancia_test</dt>\n",
              "\t\t<dd>47440000</dd>\n",
              "</dl>\n",
              "</li>\n",
              "\t<li><dl>\n",
              "\t<dt>$semilla</dt>\n",
              "\t\t<dd>731219</dd>\n",
              "\t<dt>$testing</dt>\n",
              "\t\t<dd>49371</dd>\n",
              "\t<dt>$testing_pos</dt>\n",
              "\t\t<dd>371</dd>\n",
              "\t<dt>$envios</dt>\n",
              "\t\t<dd>2319</dd>\n",
              "\t<dt>$aciertos</dt>\n",
              "\t\t<dd>171</dd>\n",
              "\t<dt>$ganancia_test</dt>\n",
              "\t\t<dd>45210000</dd>\n",
              "</dl>\n",
              "</li>\n",
              "\t<li><dl>\n",
              "\t<dt>$semilla</dt>\n",
              "\t\t<dd>976933</dd>\n",
              "\t<dt>$testing</dt>\n",
              "\t\t<dd>49375</dd>\n",
              "\t<dt>$testing_pos</dt>\n",
              "\t\t<dd>375</dd>\n",
              "\t<dt>$envios</dt>\n",
              "\t\t<dd>3165</dd>\n",
              "\t<dt>$aciertos</dt>\n",
              "\t\t<dd>199</dd>\n",
              "\t<dt>$ganancia_test</dt>\n",
              "\t\t<dd>47950000</dd>\n",
              "</dl>\n",
              "</li>\n",
              "\t<li><dl>\n",
              "\t<dt>$semilla</dt>\n",
              "\t\t<dd>874373</dd>\n",
              "\t<dt>$testing</dt>\n",
              "\t\t<dd>49377</dd>\n",
              "\t<dt>$testing_pos</dt>\n",
              "\t\t<dd>373</dd>\n",
              "\t<dt>$envios</dt>\n",
              "\t\t<dd>3502</dd>\n",
              "\t<dt>$aciertos</dt>\n",
              "\t\t<dd>213</dd>\n",
              "\t<dt>$ganancia_test</dt>\n",
              "\t\t<dd>50180000</dd>\n",
              "</dl>\n",
              "</li>\n",
              "\t<li><dl>\n",
              "\t<dt>$semilla</dt>\n",
              "\t\t<dd>460969</dd>\n",
              "\t<dt>$testing</dt>\n",
              "\t\t<dd>49378</dd>\n",
              "\t<dt>$testing_pos</dt>\n",
              "\t\t<dd>373</dd>\n",
              "\t<dt>$envios</dt>\n",
              "\t\t<dd>4043</dd>\n",
              "\t<dt>$aciertos</dt>\n",
              "\t\t<dd>225</dd>\n",
              "\t<dt>$ganancia_test</dt>\n",
              "\t\t<dd>49570000</dd>\n",
              "</dl>\n",
              "</li>\n",
              "\t<li><dl>\n",
              "\t<dt>$semilla</dt>\n",
              "\t\t<dd>686479</dd>\n",
              "\t<dt>$testing</dt>\n",
              "\t\t<dd>49381</dd>\n",
              "\t<dt>$testing_pos</dt>\n",
              "\t\t<dd>374</dd>\n",
              "\t<dt>$envios</dt>\n",
              "\t\t<dd>2877</dd>\n",
              "\t<dt>$aciertos</dt>\n",
              "\t\t<dd>185</dd>\n",
              "\t<dt>$ganancia_test</dt>\n",
              "\t\t<dd>45230000</dd>\n",
              "</dl>\n",
              "</li>\n",
              "\t<li><dl>\n",
              "\t<dt>$semilla</dt>\n",
              "\t\t<dd>111521</dd>\n",
              "\t<dt>$testing</dt>\n",
              "\t\t<dd>49379</dd>\n",
              "\t<dt>$testing_pos</dt>\n",
              "\t\t<dd>369</dd>\n",
              "\t<dt>$envios</dt>\n",
              "\t\t<dd>3920</dd>\n",
              "\t<dt>$aciertos</dt>\n",
              "\t\t<dd>213</dd>\n",
              "\t<dt>$ganancia_test</dt>\n",
              "\t\t<dd>4.6e+07</dd>\n",
              "</dl>\n",
              "</li>\n",
              "\t<li><dl>\n",
              "\t<dt>$semilla</dt>\n",
              "\t\t<dd>621617</dd>\n",
              "\t<dt>$testing</dt>\n",
              "\t\t<dd>49381</dd>\n",
              "\t<dt>$testing_pos</dt>\n",
              "\t\t<dd>374</dd>\n",
              "\t<dt>$envios</dt>\n",
              "\t\t<dd>3413</dd>\n",
              "\t<dt>$aciertos</dt>\n",
              "\t\t<dd>195</dd>\n",
              "\t<dt>$ganancia_test</dt>\n",
              "\t\t<dd>43870000</dd>\n",
              "</dl>\n",
              "</li>\n",
              "</ol>\n"
            ],
            "text/markdown": "1. $semilla\n:   160357\n$testing\n:   49382\n$testing_pos\n:   376\n$envios\n:   3303\n$aciertos\n:   187\n$ganancia_test\n:   41770000\n\n\n\n2. $semilla\n:   990323\n$testing\n:   49380\n$testing_pos\n:   374\n$envios\n:   2403\n$aciertos\n:   186\n$ganancia_test\n:   50370000\n\n\n\n3. $semilla\n:   989671\n$testing\n:   49387\n$testing_pos\n:   382\n$envios\n:   3978\n$aciertos\n:   213\n$ganancia_test\n:   45420000\n\n\n\n4. $semilla\n:   255107\n$testing\n:   49374\n$testing_pos\n:   374\n$envios\n:   4070\n$aciertos\n:   223\n$ganancia_test\n:   48500000\n\n\n\n5. $semilla\n:   261427\n$testing\n:   49375\n$testing_pos\n:   373\n$envios\n:   3503\n$aciertos\n:   201\n$ganancia_test\n:   45370000\n\n\n\n6. $semilla\n:   136223\n$testing\n:   49383\n$testing_pos\n:   372\n$envios\n:   3939\n$aciertos\n:   228\n$ganancia_test\n:   51810000\n\n\n\n7. $semilla\n:   718321\n$testing\n:   49375\n$testing_pos\n:   375\n$envios\n:   3405\n$aciertos\n:   213\n$ganancia_test\n:   51150000\n\n\n\n8. $semilla\n:   606341\n$testing\n:   49375\n$testing_pos\n:   366\n$envios\n:   3243\n$aciertos\n:   193\n$ganancia_test\n:   44770000\n\n\n\n9. $semilla\n:   233327\n$testing\n:   49376\n$testing_pos\n:   378\n$envios\n:   3415\n$aciertos\n:   205\n$ganancia_test\n:   47850000\n\n\n\n10. $semilla\n:   411779\n$testing\n:   49381\n$testing_pos\n:   376\n$envios\n:   3878\n$aciertos\n:   210\n$ganancia_test\n:   45220000\n\n\n\n11. $semilla\n:   448157\n$testing\n:   49375\n$testing_pos\n:   374\n$envios\n:   2745\n$aciertos\n:   176\n$ganancia_test\n:   42950000\n\n\n\n12. $semilla\n:   275591\n$testing\n:   49376\n$testing_pos\n:   371\n$envios\n:   3435\n$aciertos\n:   208\n$ganancia_test\n:   48850000\n\n\n\n13. $semilla\n:   616409\n$testing\n:   49367\n$testing_pos\n:   373\n$envios\n:   4126\n$aciertos\n:   229\n$ganancia_test\n:   50340000\n\n\n\n14. $semilla\n:   225569\n$testing\n:   49367\n$testing_pos\n:   372\n$envios\n:   3351\n$aciertos\n:   196\n$ganancia_test\n:   44890000\n\n\n\n15. $semilla\n:   708049\n$testing\n:   49375\n$testing_pos\n:   375\n$envios\n:   3432\n$aciertos\n:   204\n$ganancia_test\n:   47280000\n\n\n\n16. $semilla\n:   615827\n$testing\n:   49378\n$testing_pos\n:   376\n$envios\n:   3560\n$aciertos\n:   211\n$ganancia_test\n:   48800000\n\n\n\n17. $semilla\n:   419513\n$testing\n:   49379\n$testing_pos\n:   375\n$envios\n:   2672\n$aciertos\n:   189\n$ganancia_test\n:   48880000\n\n\n\n18. $semilla\n:   784349\n$testing\n:   49383\n$testing_pos\n:   376\n$envios\n:   3019\n$aciertos\n:   198\n$ganancia_test\n:   49010000\n\n\n\n19. $semilla\n:   760477\n$testing\n:   49378\n$testing_pos\n:   374\n$envios\n:   3207\n$aciertos\n:   193\n$ganancia_test\n:   45130000\n\n\n\n20. $semilla\n:   135593\n$testing\n:   49377\n$testing_pos\n:   372\n$envios\n:   3705\n$aciertos\n:   213\n$ganancia_test\n:   48150000\n\n\n\n21. $semilla\n:   139397\n$testing\n:   49373\n$testing_pos\n:   377\n$envios\n:   3092\n$aciertos\n:   193\n$ganancia_test\n:   46280000\n\n\n\n22. $semilla\n:   310379\n$testing\n:   49379\n$testing_pos\n:   373\n$envios\n:   3574\n$aciertos\n:   204\n$ganancia_test\n:   45860000\n\n\n\n23. $semilla\n:   511109\n$testing\n:   49383\n$testing_pos\n:   377\n$envios\n:   4101\n$aciertos\n:   229\n$ganancia_test\n:   50590000\n\n\n\n24. $semilla\n:   773681\n$testing\n:   49380\n$testing_pos\n:   371\n$envios\n:   4452\n$aciertos\n:   229\n$ganancia_test\n:   47080000\n\n\n\n25. $semilla\n:   650227\n$testing\n:   49374\n$testing_pos\n:   376\n$envios\n:   3682\n$aciertos\n:   214\n$ganancia_test\n:   48780000\n\n\n\n26. $semilla\n:   145459\n$testing\n:   49376\n$testing_pos\n:   371\n$envios\n:   2800\n$aciertos\n:   193\n$ganancia_test\n:   49200000\n\n\n\n27. $semilla\n:   185797\n$testing\n:   49380\n$testing_pos\n:   376\n$envios\n:   3160\n$aciertos\n:   211\n$ganancia_test\n:   52800000\n\n\n\n28. $semilla\n:   681613\n$testing\n:   49380\n$testing_pos\n:   377\n$envios\n:   3193\n$aciertos\n:   206\n$ganancia_test\n:   50470000\n\n\n\n29. $semilla\n:   842813\n$testing\n:   49370\n$testing_pos\n:   369\n$envios\n:   4050\n$aciertos\n:   217\n$ganancia_test\n:   46300000\n\n\n\n30. $semilla\n:   188011\n$testing\n:   49376\n$testing_pos\n:   372\n$envios\n:   3355\n$aciertos\n:   207\n$ganancia_test\n:   49250000\n\n\n\n31. $semilla\n:   449783\n$testing\n:   49386\n$testing_pos\n:   375\n$envios\n:   2816\n$aciertos\n:   181\n$ganancia_test\n:   44240000\n\n\n\n32. $semilla\n:   143833\n$testing\n:   49388\n$testing_pos\n:   376\n$envios\n:   3954\n$aciertos\n:   214\n$ganancia_test\n:   46060000\n\n\n\n33. $semilla\n:   697691\n$testing\n:   49383\n$testing_pos\n:   374\n$envios\n:   4263\n$aciertos\n:   230\n$ganancia_test\n:   49370000\n\n\n\n34. $semilla\n:   726839\n$testing\n:   49382\n$testing_pos\n:   376\n$envios\n:   2847\n$aciertos\n:   205\n$ganancia_test\n:   53530000\n\n\n\n35. $semilla\n:   379333\n$testing\n:   49380\n$testing_pos\n:   374\n$envios\n:   3281\n$aciertos\n:   197\n$ganancia_test\n:   45990000\n\n\n\n36. $semilla\n:   974513\n$testing\n:   49384\n$testing_pos\n:   378\n$envios\n:   3485\n$aciertos\n:   197\n$ganancia_test\n:   43950000\n\n\n\n37. $semilla\n:   320213\n$testing\n:   49385\n$testing_pos\n:   376\n$envios\n:   3754\n$aciertos\n:   220\n$ganancia_test\n:   50460000\n\n\n\n38. $semilla\n:   695329\n$testing\n:   49384\n$testing_pos\n:   378\n$envios\n:   3082\n$aciertos\n:   190\n$ganancia_test\n:   45180000\n\n\n\n39. $semilla\n:   285023\n$testing\n:   49376\n$testing_pos\n:   378\n$envios\n:   3551\n$aciertos\n:   218\n$ganancia_test\n:   51690000\n\n\n\n40. $semilla\n:   768169\n$testing\n:   49375\n$testing_pos\n:   369\n$envios\n:   2807\n$aciertos\n:   187\n$ganancia_test\n:   46730000\n\n\n\n41. $semilla\n:   109567\n$testing\n:   49383\n$testing_pos\n:   376\n$envios\n:   3595\n$aciertos\n:   207\n$ganancia_test\n:   46850000\n\n\n\n42. $semilla\n:   145021\n$testing\n:   49386\n$testing_pos\n:   374\n$envios\n:   3721\n$aciertos\n:   203\n$ganancia_test\n:   43990000\n\n\n\n43. $semilla\n:   125711\n$testing\n:   49385\n$testing_pos\n:   378\n$envios\n:   2936\n$aciertos\n:   192\n$ganancia_test\n:   47440000\n\n\n\n44. $semilla\n:   731219\n$testing\n:   49371\n$testing_pos\n:   371\n$envios\n:   2319\n$aciertos\n:   171\n$ganancia_test\n:   45210000\n\n\n\n45. $semilla\n:   976933\n$testing\n:   49375\n$testing_pos\n:   375\n$envios\n:   3165\n$aciertos\n:   199\n$ganancia_test\n:   47950000\n\n\n\n46. $semilla\n:   874373\n$testing\n:   49377\n$testing_pos\n:   373\n$envios\n:   3502\n$aciertos\n:   213\n$ganancia_test\n:   50180000\n\n\n\n47. $semilla\n:   460969\n$testing\n:   49378\n$testing_pos\n:   373\n$envios\n:   4043\n$aciertos\n:   225\n$ganancia_test\n:   49570000\n\n\n\n48. $semilla\n:   686479\n$testing\n:   49381\n$testing_pos\n:   374\n$envios\n:   2877\n$aciertos\n:   185\n$ganancia_test\n:   45230000\n\n\n\n49. $semilla\n:   111521\n$testing\n:   49379\n$testing_pos\n:   369\n$envios\n:   3920\n$aciertos\n:   213\n$ganancia_test\n:   4.6e+07\n\n\n\n50. $semilla\n:   621617\n$testing\n:   49381\n$testing_pos\n:   374\n$envios\n:   3413\n$aciertos\n:   195\n$ganancia_test\n:   43870000\n\n\n\n\n\n",
            "text/latex": "\\begin{enumerate}\n\\item \\begin{description}\n\\item[\\$semilla] 160357\n\\item[\\$testing] 49382\n\\item[\\$testing\\_pos] 376\n\\item[\\$envios] 3303\n\\item[\\$aciertos] 187\n\\item[\\$ganancia\\_test] 41770000\n\\end{description}\n\n\\item \\begin{description}\n\\item[\\$semilla] 990323\n\\item[\\$testing] 49380\n\\item[\\$testing\\_pos] 374\n\\item[\\$envios] 2403\n\\item[\\$aciertos] 186\n\\item[\\$ganancia\\_test] 50370000\n\\end{description}\n\n\\item \\begin{description}\n\\item[\\$semilla] 989671\n\\item[\\$testing] 49387\n\\item[\\$testing\\_pos] 382\n\\item[\\$envios] 3978\n\\item[\\$aciertos] 213\n\\item[\\$ganancia\\_test] 45420000\n\\end{description}\n\n\\item \\begin{description}\n\\item[\\$semilla] 255107\n\\item[\\$testing] 49374\n\\item[\\$testing\\_pos] 374\n\\item[\\$envios] 4070\n\\item[\\$aciertos] 223\n\\item[\\$ganancia\\_test] 48500000\n\\end{description}\n\n\\item \\begin{description}\n\\item[\\$semilla] 261427\n\\item[\\$testing] 49375\n\\item[\\$testing\\_pos] 373\n\\item[\\$envios] 3503\n\\item[\\$aciertos] 201\n\\item[\\$ganancia\\_test] 45370000\n\\end{description}\n\n\\item \\begin{description}\n\\item[\\$semilla] 136223\n\\item[\\$testing] 49383\n\\item[\\$testing\\_pos] 372\n\\item[\\$envios] 3939\n\\item[\\$aciertos] 228\n\\item[\\$ganancia\\_test] 51810000\n\\end{description}\n\n\\item \\begin{description}\n\\item[\\$semilla] 718321\n\\item[\\$testing] 49375\n\\item[\\$testing\\_pos] 375\n\\item[\\$envios] 3405\n\\item[\\$aciertos] 213\n\\item[\\$ganancia\\_test] 51150000\n\\end{description}\n\n\\item \\begin{description}\n\\item[\\$semilla] 606341\n\\item[\\$testing] 49375\n\\item[\\$testing\\_pos] 366\n\\item[\\$envios] 3243\n\\item[\\$aciertos] 193\n\\item[\\$ganancia\\_test] 44770000\n\\end{description}\n\n\\item \\begin{description}\n\\item[\\$semilla] 233327\n\\item[\\$testing] 49376\n\\item[\\$testing\\_pos] 378\n\\item[\\$envios] 3415\n\\item[\\$aciertos] 205\n\\item[\\$ganancia\\_test] 47850000\n\\end{description}\n\n\\item \\begin{description}\n\\item[\\$semilla] 411779\n\\item[\\$testing] 49381\n\\item[\\$testing\\_pos] 376\n\\item[\\$envios] 3878\n\\item[\\$aciertos] 210\n\\item[\\$ganancia\\_test] 45220000\n\\end{description}\n\n\\item \\begin{description}\n\\item[\\$semilla] 448157\n\\item[\\$testing] 49375\n\\item[\\$testing\\_pos] 374\n\\item[\\$envios] 2745\n\\item[\\$aciertos] 176\n\\item[\\$ganancia\\_test] 42950000\n\\end{description}\n\n\\item \\begin{description}\n\\item[\\$semilla] 275591\n\\item[\\$testing] 49376\n\\item[\\$testing\\_pos] 371\n\\item[\\$envios] 3435\n\\item[\\$aciertos] 208\n\\item[\\$ganancia\\_test] 48850000\n\\end{description}\n\n\\item \\begin{description}\n\\item[\\$semilla] 616409\n\\item[\\$testing] 49367\n\\item[\\$testing\\_pos] 373\n\\item[\\$envios] 4126\n\\item[\\$aciertos] 229\n\\item[\\$ganancia\\_test] 50340000\n\\end{description}\n\n\\item \\begin{description}\n\\item[\\$semilla] 225569\n\\item[\\$testing] 49367\n\\item[\\$testing\\_pos] 372\n\\item[\\$envios] 3351\n\\item[\\$aciertos] 196\n\\item[\\$ganancia\\_test] 44890000\n\\end{description}\n\n\\item \\begin{description}\n\\item[\\$semilla] 708049\n\\item[\\$testing] 49375\n\\item[\\$testing\\_pos] 375\n\\item[\\$envios] 3432\n\\item[\\$aciertos] 204\n\\item[\\$ganancia\\_test] 47280000\n\\end{description}\n\n\\item \\begin{description}\n\\item[\\$semilla] 615827\n\\item[\\$testing] 49378\n\\item[\\$testing\\_pos] 376\n\\item[\\$envios] 3560\n\\item[\\$aciertos] 211\n\\item[\\$ganancia\\_test] 48800000\n\\end{description}\n\n\\item \\begin{description}\n\\item[\\$semilla] 419513\n\\item[\\$testing] 49379\n\\item[\\$testing\\_pos] 375\n\\item[\\$envios] 2672\n\\item[\\$aciertos] 189\n\\item[\\$ganancia\\_test] 48880000\n\\end{description}\n\n\\item \\begin{description}\n\\item[\\$semilla] 784349\n\\item[\\$testing] 49383\n\\item[\\$testing\\_pos] 376\n\\item[\\$envios] 3019\n\\item[\\$aciertos] 198\n\\item[\\$ganancia\\_test] 49010000\n\\end{description}\n\n\\item \\begin{description}\n\\item[\\$semilla] 760477\n\\item[\\$testing] 49378\n\\item[\\$testing\\_pos] 374\n\\item[\\$envios] 3207\n\\item[\\$aciertos] 193\n\\item[\\$ganancia\\_test] 45130000\n\\end{description}\n\n\\item \\begin{description}\n\\item[\\$semilla] 135593\n\\item[\\$testing] 49377\n\\item[\\$testing\\_pos] 372\n\\item[\\$envios] 3705\n\\item[\\$aciertos] 213\n\\item[\\$ganancia\\_test] 48150000\n\\end{description}\n\n\\item \\begin{description}\n\\item[\\$semilla] 139397\n\\item[\\$testing] 49373\n\\item[\\$testing\\_pos] 377\n\\item[\\$envios] 3092\n\\item[\\$aciertos] 193\n\\item[\\$ganancia\\_test] 46280000\n\\end{description}\n\n\\item \\begin{description}\n\\item[\\$semilla] 310379\n\\item[\\$testing] 49379\n\\item[\\$testing\\_pos] 373\n\\item[\\$envios] 3574\n\\item[\\$aciertos] 204\n\\item[\\$ganancia\\_test] 45860000\n\\end{description}\n\n\\item \\begin{description}\n\\item[\\$semilla] 511109\n\\item[\\$testing] 49383\n\\item[\\$testing\\_pos] 377\n\\item[\\$envios] 4101\n\\item[\\$aciertos] 229\n\\item[\\$ganancia\\_test] 50590000\n\\end{description}\n\n\\item \\begin{description}\n\\item[\\$semilla] 773681\n\\item[\\$testing] 49380\n\\item[\\$testing\\_pos] 371\n\\item[\\$envios] 4452\n\\item[\\$aciertos] 229\n\\item[\\$ganancia\\_test] 47080000\n\\end{description}\n\n\\item \\begin{description}\n\\item[\\$semilla] 650227\n\\item[\\$testing] 49374\n\\item[\\$testing\\_pos] 376\n\\item[\\$envios] 3682\n\\item[\\$aciertos] 214\n\\item[\\$ganancia\\_test] 48780000\n\\end{description}\n\n\\item \\begin{description}\n\\item[\\$semilla] 145459\n\\item[\\$testing] 49376\n\\item[\\$testing\\_pos] 371\n\\item[\\$envios] 2800\n\\item[\\$aciertos] 193\n\\item[\\$ganancia\\_test] 49200000\n\\end{description}\n\n\\item \\begin{description}\n\\item[\\$semilla] 185797\n\\item[\\$testing] 49380\n\\item[\\$testing\\_pos] 376\n\\item[\\$envios] 3160\n\\item[\\$aciertos] 211\n\\item[\\$ganancia\\_test] 52800000\n\\end{description}\n\n\\item \\begin{description}\n\\item[\\$semilla] 681613\n\\item[\\$testing] 49380\n\\item[\\$testing\\_pos] 377\n\\item[\\$envios] 3193\n\\item[\\$aciertos] 206\n\\item[\\$ganancia\\_test] 50470000\n\\end{description}\n\n\\item \\begin{description}\n\\item[\\$semilla] 842813\n\\item[\\$testing] 49370\n\\item[\\$testing\\_pos] 369\n\\item[\\$envios] 4050\n\\item[\\$aciertos] 217\n\\item[\\$ganancia\\_test] 46300000\n\\end{description}\n\n\\item \\begin{description}\n\\item[\\$semilla] 188011\n\\item[\\$testing] 49376\n\\item[\\$testing\\_pos] 372\n\\item[\\$envios] 3355\n\\item[\\$aciertos] 207\n\\item[\\$ganancia\\_test] 49250000\n\\end{description}\n\n\\item \\begin{description}\n\\item[\\$semilla] 449783\n\\item[\\$testing] 49386\n\\item[\\$testing\\_pos] 375\n\\item[\\$envios] 2816\n\\item[\\$aciertos] 181\n\\item[\\$ganancia\\_test] 44240000\n\\end{description}\n\n\\item \\begin{description}\n\\item[\\$semilla] 143833\n\\item[\\$testing] 49388\n\\item[\\$testing\\_pos] 376\n\\item[\\$envios] 3954\n\\item[\\$aciertos] 214\n\\item[\\$ganancia\\_test] 46060000\n\\end{description}\n\n\\item \\begin{description}\n\\item[\\$semilla] 697691\n\\item[\\$testing] 49383\n\\item[\\$testing\\_pos] 374\n\\item[\\$envios] 4263\n\\item[\\$aciertos] 230\n\\item[\\$ganancia\\_test] 49370000\n\\end{description}\n\n\\item \\begin{description}\n\\item[\\$semilla] 726839\n\\item[\\$testing] 49382\n\\item[\\$testing\\_pos] 376\n\\item[\\$envios] 2847\n\\item[\\$aciertos] 205\n\\item[\\$ganancia\\_test] 53530000\n\\end{description}\n\n\\item \\begin{description}\n\\item[\\$semilla] 379333\n\\item[\\$testing] 49380\n\\item[\\$testing\\_pos] 374\n\\item[\\$envios] 3281\n\\item[\\$aciertos] 197\n\\item[\\$ganancia\\_test] 45990000\n\\end{description}\n\n\\item \\begin{description}\n\\item[\\$semilla] 974513\n\\item[\\$testing] 49384\n\\item[\\$testing\\_pos] 378\n\\item[\\$envios] 3485\n\\item[\\$aciertos] 197\n\\item[\\$ganancia\\_test] 43950000\n\\end{description}\n\n\\item \\begin{description}\n\\item[\\$semilla] 320213\n\\item[\\$testing] 49385\n\\item[\\$testing\\_pos] 376\n\\item[\\$envios] 3754\n\\item[\\$aciertos] 220\n\\item[\\$ganancia\\_test] 50460000\n\\end{description}\n\n\\item \\begin{description}\n\\item[\\$semilla] 695329\n\\item[\\$testing] 49384\n\\item[\\$testing\\_pos] 378\n\\item[\\$envios] 3082\n\\item[\\$aciertos] 190\n\\item[\\$ganancia\\_test] 45180000\n\\end{description}\n\n\\item \\begin{description}\n\\item[\\$semilla] 285023\n\\item[\\$testing] 49376\n\\item[\\$testing\\_pos] 378\n\\item[\\$envios] 3551\n\\item[\\$aciertos] 218\n\\item[\\$ganancia\\_test] 51690000\n\\end{description}\n\n\\item \\begin{description}\n\\item[\\$semilla] 768169\n\\item[\\$testing] 49375\n\\item[\\$testing\\_pos] 369\n\\item[\\$envios] 2807\n\\item[\\$aciertos] 187\n\\item[\\$ganancia\\_test] 46730000\n\\end{description}\n\n\\item \\begin{description}\n\\item[\\$semilla] 109567\n\\item[\\$testing] 49383\n\\item[\\$testing\\_pos] 376\n\\item[\\$envios] 3595\n\\item[\\$aciertos] 207\n\\item[\\$ganancia\\_test] 46850000\n\\end{description}\n\n\\item \\begin{description}\n\\item[\\$semilla] 145021\n\\item[\\$testing] 49386\n\\item[\\$testing\\_pos] 374\n\\item[\\$envios] 3721\n\\item[\\$aciertos] 203\n\\item[\\$ganancia\\_test] 43990000\n\\end{description}\n\n\\item \\begin{description}\n\\item[\\$semilla] 125711\n\\item[\\$testing] 49385\n\\item[\\$testing\\_pos] 378\n\\item[\\$envios] 2936\n\\item[\\$aciertos] 192\n\\item[\\$ganancia\\_test] 47440000\n\\end{description}\n\n\\item \\begin{description}\n\\item[\\$semilla] 731219\n\\item[\\$testing] 49371\n\\item[\\$testing\\_pos] 371\n\\item[\\$envios] 2319\n\\item[\\$aciertos] 171\n\\item[\\$ganancia\\_test] 45210000\n\\end{description}\n\n\\item \\begin{description}\n\\item[\\$semilla] 976933\n\\item[\\$testing] 49375\n\\item[\\$testing\\_pos] 375\n\\item[\\$envios] 3165\n\\item[\\$aciertos] 199\n\\item[\\$ganancia\\_test] 47950000\n\\end{description}\n\n\\item \\begin{description}\n\\item[\\$semilla] 874373\n\\item[\\$testing] 49377\n\\item[\\$testing\\_pos] 373\n\\item[\\$envios] 3502\n\\item[\\$aciertos] 213\n\\item[\\$ganancia\\_test] 50180000\n\\end{description}\n\n\\item \\begin{description}\n\\item[\\$semilla] 460969\n\\item[\\$testing] 49378\n\\item[\\$testing\\_pos] 373\n\\item[\\$envios] 4043\n\\item[\\$aciertos] 225\n\\item[\\$ganancia\\_test] 49570000\n\\end{description}\n\n\\item \\begin{description}\n\\item[\\$semilla] 686479\n\\item[\\$testing] 49381\n\\item[\\$testing\\_pos] 374\n\\item[\\$envios] 2877\n\\item[\\$aciertos] 185\n\\item[\\$ganancia\\_test] 45230000\n\\end{description}\n\n\\item \\begin{description}\n\\item[\\$semilla] 111521\n\\item[\\$testing] 49379\n\\item[\\$testing\\_pos] 369\n\\item[\\$envios] 3920\n\\item[\\$aciertos] 213\n\\item[\\$ganancia\\_test] 4.6e+07\n\\end{description}\n\n\\item \\begin{description}\n\\item[\\$semilla] 621617\n\\item[\\$testing] 49381\n\\item[\\$testing\\_pos] 374\n\\item[\\$envios] 3413\n\\item[\\$aciertos] 195\n\\item[\\$ganancia\\_test] 43870000\n\\end{description}\n\n\\end{enumerate}\n",
            "text/plain": [
              "[[1]]\n",
              "[[1]]$semilla\n",
              "[1] 160357\n",
              "\n",
              "[[1]]$testing\n",
              "[1] 49382\n",
              "\n",
              "[[1]]$testing_pos\n",
              "[1] 376\n",
              "\n",
              "[[1]]$envios\n",
              "[1] 3303\n",
              "\n",
              "[[1]]$aciertos\n",
              "[1] 187\n",
              "\n",
              "[[1]]$ganancia_test\n",
              "[1] 41770000\n",
              "\n",
              "\n",
              "[[2]]\n",
              "[[2]]$semilla\n",
              "[1] 990323\n",
              "\n",
              "[[2]]$testing\n",
              "[1] 49380\n",
              "\n",
              "[[2]]$testing_pos\n",
              "[1] 374\n",
              "\n",
              "[[2]]$envios\n",
              "[1] 2403\n",
              "\n",
              "[[2]]$aciertos\n",
              "[1] 186\n",
              "\n",
              "[[2]]$ganancia_test\n",
              "[1] 50370000\n",
              "\n",
              "\n",
              "[[3]]\n",
              "[[3]]$semilla\n",
              "[1] 989671\n",
              "\n",
              "[[3]]$testing\n",
              "[1] 49387\n",
              "\n",
              "[[3]]$testing_pos\n",
              "[1] 382\n",
              "\n",
              "[[3]]$envios\n",
              "[1] 3978\n",
              "\n",
              "[[3]]$aciertos\n",
              "[1] 213\n",
              "\n",
              "[[3]]$ganancia_test\n",
              "[1] 45420000\n",
              "\n",
              "\n",
              "[[4]]\n",
              "[[4]]$semilla\n",
              "[1] 255107\n",
              "\n",
              "[[4]]$testing\n",
              "[1] 49374\n",
              "\n",
              "[[4]]$testing_pos\n",
              "[1] 374\n",
              "\n",
              "[[4]]$envios\n",
              "[1] 4070\n",
              "\n",
              "[[4]]$aciertos\n",
              "[1] 223\n",
              "\n",
              "[[4]]$ganancia_test\n",
              "[1] 48500000\n",
              "\n",
              "\n",
              "[[5]]\n",
              "[[5]]$semilla\n",
              "[1] 261427\n",
              "\n",
              "[[5]]$testing\n",
              "[1] 49375\n",
              "\n",
              "[[5]]$testing_pos\n",
              "[1] 373\n",
              "\n",
              "[[5]]$envios\n",
              "[1] 3503\n",
              "\n",
              "[[5]]$aciertos\n",
              "[1] 201\n",
              "\n",
              "[[5]]$ganancia_test\n",
              "[1] 45370000\n",
              "\n",
              "\n",
              "[[6]]\n",
              "[[6]]$semilla\n",
              "[1] 136223\n",
              "\n",
              "[[6]]$testing\n",
              "[1] 49383\n",
              "\n",
              "[[6]]$testing_pos\n",
              "[1] 372\n",
              "\n",
              "[[6]]$envios\n",
              "[1] 3939\n",
              "\n",
              "[[6]]$aciertos\n",
              "[1] 228\n",
              "\n",
              "[[6]]$ganancia_test\n",
              "[1] 51810000\n",
              "\n",
              "\n",
              "[[7]]\n",
              "[[7]]$semilla\n",
              "[1] 718321\n",
              "\n",
              "[[7]]$testing\n",
              "[1] 49375\n",
              "\n",
              "[[7]]$testing_pos\n",
              "[1] 375\n",
              "\n",
              "[[7]]$envios\n",
              "[1] 3405\n",
              "\n",
              "[[7]]$aciertos\n",
              "[1] 213\n",
              "\n",
              "[[7]]$ganancia_test\n",
              "[1] 51150000\n",
              "\n",
              "\n",
              "[[8]]\n",
              "[[8]]$semilla\n",
              "[1] 606341\n",
              "\n",
              "[[8]]$testing\n",
              "[1] 49375\n",
              "\n",
              "[[8]]$testing_pos\n",
              "[1] 366\n",
              "\n",
              "[[8]]$envios\n",
              "[1] 3243\n",
              "\n",
              "[[8]]$aciertos\n",
              "[1] 193\n",
              "\n",
              "[[8]]$ganancia_test\n",
              "[1] 44770000\n",
              "\n",
              "\n",
              "[[9]]\n",
              "[[9]]$semilla\n",
              "[1] 233327\n",
              "\n",
              "[[9]]$testing\n",
              "[1] 49376\n",
              "\n",
              "[[9]]$testing_pos\n",
              "[1] 378\n",
              "\n",
              "[[9]]$envios\n",
              "[1] 3415\n",
              "\n",
              "[[9]]$aciertos\n",
              "[1] 205\n",
              "\n",
              "[[9]]$ganancia_test\n",
              "[1] 47850000\n",
              "\n",
              "\n",
              "[[10]]\n",
              "[[10]]$semilla\n",
              "[1] 411779\n",
              "\n",
              "[[10]]$testing\n",
              "[1] 49381\n",
              "\n",
              "[[10]]$testing_pos\n",
              "[1] 376\n",
              "\n",
              "[[10]]$envios\n",
              "[1] 3878\n",
              "\n",
              "[[10]]$aciertos\n",
              "[1] 210\n",
              "\n",
              "[[10]]$ganancia_test\n",
              "[1] 45220000\n",
              "\n",
              "\n",
              "[[11]]\n",
              "[[11]]$semilla\n",
              "[1] 448157\n",
              "\n",
              "[[11]]$testing\n",
              "[1] 49375\n",
              "\n",
              "[[11]]$testing_pos\n",
              "[1] 374\n",
              "\n",
              "[[11]]$envios\n",
              "[1] 2745\n",
              "\n",
              "[[11]]$aciertos\n",
              "[1] 176\n",
              "\n",
              "[[11]]$ganancia_test\n",
              "[1] 42950000\n",
              "\n",
              "\n",
              "[[12]]\n",
              "[[12]]$semilla\n",
              "[1] 275591\n",
              "\n",
              "[[12]]$testing\n",
              "[1] 49376\n",
              "\n",
              "[[12]]$testing_pos\n",
              "[1] 371\n",
              "\n",
              "[[12]]$envios\n",
              "[1] 3435\n",
              "\n",
              "[[12]]$aciertos\n",
              "[1] 208\n",
              "\n",
              "[[12]]$ganancia_test\n",
              "[1] 48850000\n",
              "\n",
              "\n",
              "[[13]]\n",
              "[[13]]$semilla\n",
              "[1] 616409\n",
              "\n",
              "[[13]]$testing\n",
              "[1] 49367\n",
              "\n",
              "[[13]]$testing_pos\n",
              "[1] 373\n",
              "\n",
              "[[13]]$envios\n",
              "[1] 4126\n",
              "\n",
              "[[13]]$aciertos\n",
              "[1] 229\n",
              "\n",
              "[[13]]$ganancia_test\n",
              "[1] 50340000\n",
              "\n",
              "\n",
              "[[14]]\n",
              "[[14]]$semilla\n",
              "[1] 225569\n",
              "\n",
              "[[14]]$testing\n",
              "[1] 49367\n",
              "\n",
              "[[14]]$testing_pos\n",
              "[1] 372\n",
              "\n",
              "[[14]]$envios\n",
              "[1] 3351\n",
              "\n",
              "[[14]]$aciertos\n",
              "[1] 196\n",
              "\n",
              "[[14]]$ganancia_test\n",
              "[1] 44890000\n",
              "\n",
              "\n",
              "[[15]]\n",
              "[[15]]$semilla\n",
              "[1] 708049\n",
              "\n",
              "[[15]]$testing\n",
              "[1] 49375\n",
              "\n",
              "[[15]]$testing_pos\n",
              "[1] 375\n",
              "\n",
              "[[15]]$envios\n",
              "[1] 3432\n",
              "\n",
              "[[15]]$aciertos\n",
              "[1] 204\n",
              "\n",
              "[[15]]$ganancia_test\n",
              "[1] 47280000\n",
              "\n",
              "\n",
              "[[16]]\n",
              "[[16]]$semilla\n",
              "[1] 615827\n",
              "\n",
              "[[16]]$testing\n",
              "[1] 49378\n",
              "\n",
              "[[16]]$testing_pos\n",
              "[1] 376\n",
              "\n",
              "[[16]]$envios\n",
              "[1] 3560\n",
              "\n",
              "[[16]]$aciertos\n",
              "[1] 211\n",
              "\n",
              "[[16]]$ganancia_test\n",
              "[1] 48800000\n",
              "\n",
              "\n",
              "[[17]]\n",
              "[[17]]$semilla\n",
              "[1] 419513\n",
              "\n",
              "[[17]]$testing\n",
              "[1] 49379\n",
              "\n",
              "[[17]]$testing_pos\n",
              "[1] 375\n",
              "\n",
              "[[17]]$envios\n",
              "[1] 2672\n",
              "\n",
              "[[17]]$aciertos\n",
              "[1] 189\n",
              "\n",
              "[[17]]$ganancia_test\n",
              "[1] 48880000\n",
              "\n",
              "\n",
              "[[18]]\n",
              "[[18]]$semilla\n",
              "[1] 784349\n",
              "\n",
              "[[18]]$testing\n",
              "[1] 49383\n",
              "\n",
              "[[18]]$testing_pos\n",
              "[1] 376\n",
              "\n",
              "[[18]]$envios\n",
              "[1] 3019\n",
              "\n",
              "[[18]]$aciertos\n",
              "[1] 198\n",
              "\n",
              "[[18]]$ganancia_test\n",
              "[1] 49010000\n",
              "\n",
              "\n",
              "[[19]]\n",
              "[[19]]$semilla\n",
              "[1] 760477\n",
              "\n",
              "[[19]]$testing\n",
              "[1] 49378\n",
              "\n",
              "[[19]]$testing_pos\n",
              "[1] 374\n",
              "\n",
              "[[19]]$envios\n",
              "[1] 3207\n",
              "\n",
              "[[19]]$aciertos\n",
              "[1] 193\n",
              "\n",
              "[[19]]$ganancia_test\n",
              "[1] 45130000\n",
              "\n",
              "\n",
              "[[20]]\n",
              "[[20]]$semilla\n",
              "[1] 135593\n",
              "\n",
              "[[20]]$testing\n",
              "[1] 49377\n",
              "\n",
              "[[20]]$testing_pos\n",
              "[1] 372\n",
              "\n",
              "[[20]]$envios\n",
              "[1] 3705\n",
              "\n",
              "[[20]]$aciertos\n",
              "[1] 213\n",
              "\n",
              "[[20]]$ganancia_test\n",
              "[1] 48150000\n",
              "\n",
              "\n",
              "[[21]]\n",
              "[[21]]$semilla\n",
              "[1] 139397\n",
              "\n",
              "[[21]]$testing\n",
              "[1] 49373\n",
              "\n",
              "[[21]]$testing_pos\n",
              "[1] 377\n",
              "\n",
              "[[21]]$envios\n",
              "[1] 3092\n",
              "\n",
              "[[21]]$aciertos\n",
              "[1] 193\n",
              "\n",
              "[[21]]$ganancia_test\n",
              "[1] 46280000\n",
              "\n",
              "\n",
              "[[22]]\n",
              "[[22]]$semilla\n",
              "[1] 310379\n",
              "\n",
              "[[22]]$testing\n",
              "[1] 49379\n",
              "\n",
              "[[22]]$testing_pos\n",
              "[1] 373\n",
              "\n",
              "[[22]]$envios\n",
              "[1] 3574\n",
              "\n",
              "[[22]]$aciertos\n",
              "[1] 204\n",
              "\n",
              "[[22]]$ganancia_test\n",
              "[1] 45860000\n",
              "\n",
              "\n",
              "[[23]]\n",
              "[[23]]$semilla\n",
              "[1] 511109\n",
              "\n",
              "[[23]]$testing\n",
              "[1] 49383\n",
              "\n",
              "[[23]]$testing_pos\n",
              "[1] 377\n",
              "\n",
              "[[23]]$envios\n",
              "[1] 4101\n",
              "\n",
              "[[23]]$aciertos\n",
              "[1] 229\n",
              "\n",
              "[[23]]$ganancia_test\n",
              "[1] 50590000\n",
              "\n",
              "\n",
              "[[24]]\n",
              "[[24]]$semilla\n",
              "[1] 773681\n",
              "\n",
              "[[24]]$testing\n",
              "[1] 49380\n",
              "\n",
              "[[24]]$testing_pos\n",
              "[1] 371\n",
              "\n",
              "[[24]]$envios\n",
              "[1] 4452\n",
              "\n",
              "[[24]]$aciertos\n",
              "[1] 229\n",
              "\n",
              "[[24]]$ganancia_test\n",
              "[1] 47080000\n",
              "\n",
              "\n",
              "[[25]]\n",
              "[[25]]$semilla\n",
              "[1] 650227\n",
              "\n",
              "[[25]]$testing\n",
              "[1] 49374\n",
              "\n",
              "[[25]]$testing_pos\n",
              "[1] 376\n",
              "\n",
              "[[25]]$envios\n",
              "[1] 3682\n",
              "\n",
              "[[25]]$aciertos\n",
              "[1] 214\n",
              "\n",
              "[[25]]$ganancia_test\n",
              "[1] 48780000\n",
              "\n",
              "\n",
              "[[26]]\n",
              "[[26]]$semilla\n",
              "[1] 145459\n",
              "\n",
              "[[26]]$testing\n",
              "[1] 49376\n",
              "\n",
              "[[26]]$testing_pos\n",
              "[1] 371\n",
              "\n",
              "[[26]]$envios\n",
              "[1] 2800\n",
              "\n",
              "[[26]]$aciertos\n",
              "[1] 193\n",
              "\n",
              "[[26]]$ganancia_test\n",
              "[1] 49200000\n",
              "\n",
              "\n",
              "[[27]]\n",
              "[[27]]$semilla\n",
              "[1] 185797\n",
              "\n",
              "[[27]]$testing\n",
              "[1] 49380\n",
              "\n",
              "[[27]]$testing_pos\n",
              "[1] 376\n",
              "\n",
              "[[27]]$envios\n",
              "[1] 3160\n",
              "\n",
              "[[27]]$aciertos\n",
              "[1] 211\n",
              "\n",
              "[[27]]$ganancia_test\n",
              "[1] 52800000\n",
              "\n",
              "\n",
              "[[28]]\n",
              "[[28]]$semilla\n",
              "[1] 681613\n",
              "\n",
              "[[28]]$testing\n",
              "[1] 49380\n",
              "\n",
              "[[28]]$testing_pos\n",
              "[1] 377\n",
              "\n",
              "[[28]]$envios\n",
              "[1] 3193\n",
              "\n",
              "[[28]]$aciertos\n",
              "[1] 206\n",
              "\n",
              "[[28]]$ganancia_test\n",
              "[1] 50470000\n",
              "\n",
              "\n",
              "[[29]]\n",
              "[[29]]$semilla\n",
              "[1] 842813\n",
              "\n",
              "[[29]]$testing\n",
              "[1] 49370\n",
              "\n",
              "[[29]]$testing_pos\n",
              "[1] 369\n",
              "\n",
              "[[29]]$envios\n",
              "[1] 4050\n",
              "\n",
              "[[29]]$aciertos\n",
              "[1] 217\n",
              "\n",
              "[[29]]$ganancia_test\n",
              "[1] 46300000\n",
              "\n",
              "\n",
              "[[30]]\n",
              "[[30]]$semilla\n",
              "[1] 188011\n",
              "\n",
              "[[30]]$testing\n",
              "[1] 49376\n",
              "\n",
              "[[30]]$testing_pos\n",
              "[1] 372\n",
              "\n",
              "[[30]]$envios\n",
              "[1] 3355\n",
              "\n",
              "[[30]]$aciertos\n",
              "[1] 207\n",
              "\n",
              "[[30]]$ganancia_test\n",
              "[1] 49250000\n",
              "\n",
              "\n",
              "[[31]]\n",
              "[[31]]$semilla\n",
              "[1] 449783\n",
              "\n",
              "[[31]]$testing\n",
              "[1] 49386\n",
              "\n",
              "[[31]]$testing_pos\n",
              "[1] 375\n",
              "\n",
              "[[31]]$envios\n",
              "[1] 2816\n",
              "\n",
              "[[31]]$aciertos\n",
              "[1] 181\n",
              "\n",
              "[[31]]$ganancia_test\n",
              "[1] 44240000\n",
              "\n",
              "\n",
              "[[32]]\n",
              "[[32]]$semilla\n",
              "[1] 143833\n",
              "\n",
              "[[32]]$testing\n",
              "[1] 49388\n",
              "\n",
              "[[32]]$testing_pos\n",
              "[1] 376\n",
              "\n",
              "[[32]]$envios\n",
              "[1] 3954\n",
              "\n",
              "[[32]]$aciertos\n",
              "[1] 214\n",
              "\n",
              "[[32]]$ganancia_test\n",
              "[1] 46060000\n",
              "\n",
              "\n",
              "[[33]]\n",
              "[[33]]$semilla\n",
              "[1] 697691\n",
              "\n",
              "[[33]]$testing\n",
              "[1] 49383\n",
              "\n",
              "[[33]]$testing_pos\n",
              "[1] 374\n",
              "\n",
              "[[33]]$envios\n",
              "[1] 4263\n",
              "\n",
              "[[33]]$aciertos\n",
              "[1] 230\n",
              "\n",
              "[[33]]$ganancia_test\n",
              "[1] 49370000\n",
              "\n",
              "\n",
              "[[34]]\n",
              "[[34]]$semilla\n",
              "[1] 726839\n",
              "\n",
              "[[34]]$testing\n",
              "[1] 49382\n",
              "\n",
              "[[34]]$testing_pos\n",
              "[1] 376\n",
              "\n",
              "[[34]]$envios\n",
              "[1] 2847\n",
              "\n",
              "[[34]]$aciertos\n",
              "[1] 205\n",
              "\n",
              "[[34]]$ganancia_test\n",
              "[1] 53530000\n",
              "\n",
              "\n",
              "[[35]]\n",
              "[[35]]$semilla\n",
              "[1] 379333\n",
              "\n",
              "[[35]]$testing\n",
              "[1] 49380\n",
              "\n",
              "[[35]]$testing_pos\n",
              "[1] 374\n",
              "\n",
              "[[35]]$envios\n",
              "[1] 3281\n",
              "\n",
              "[[35]]$aciertos\n",
              "[1] 197\n",
              "\n",
              "[[35]]$ganancia_test\n",
              "[1] 45990000\n",
              "\n",
              "\n",
              "[[36]]\n",
              "[[36]]$semilla\n",
              "[1] 974513\n",
              "\n",
              "[[36]]$testing\n",
              "[1] 49384\n",
              "\n",
              "[[36]]$testing_pos\n",
              "[1] 378\n",
              "\n",
              "[[36]]$envios\n",
              "[1] 3485\n",
              "\n",
              "[[36]]$aciertos\n",
              "[1] 197\n",
              "\n",
              "[[36]]$ganancia_test\n",
              "[1] 43950000\n",
              "\n",
              "\n",
              "[[37]]\n",
              "[[37]]$semilla\n",
              "[1] 320213\n",
              "\n",
              "[[37]]$testing\n",
              "[1] 49385\n",
              "\n",
              "[[37]]$testing_pos\n",
              "[1] 376\n",
              "\n",
              "[[37]]$envios\n",
              "[1] 3754\n",
              "\n",
              "[[37]]$aciertos\n",
              "[1] 220\n",
              "\n",
              "[[37]]$ganancia_test\n",
              "[1] 50460000\n",
              "\n",
              "\n",
              "[[38]]\n",
              "[[38]]$semilla\n",
              "[1] 695329\n",
              "\n",
              "[[38]]$testing\n",
              "[1] 49384\n",
              "\n",
              "[[38]]$testing_pos\n",
              "[1] 378\n",
              "\n",
              "[[38]]$envios\n",
              "[1] 3082\n",
              "\n",
              "[[38]]$aciertos\n",
              "[1] 190\n",
              "\n",
              "[[38]]$ganancia_test\n",
              "[1] 45180000\n",
              "\n",
              "\n",
              "[[39]]\n",
              "[[39]]$semilla\n",
              "[1] 285023\n",
              "\n",
              "[[39]]$testing\n",
              "[1] 49376\n",
              "\n",
              "[[39]]$testing_pos\n",
              "[1] 378\n",
              "\n",
              "[[39]]$envios\n",
              "[1] 3551\n",
              "\n",
              "[[39]]$aciertos\n",
              "[1] 218\n",
              "\n",
              "[[39]]$ganancia_test\n",
              "[1] 51690000\n",
              "\n",
              "\n",
              "[[40]]\n",
              "[[40]]$semilla\n",
              "[1] 768169\n",
              "\n",
              "[[40]]$testing\n",
              "[1] 49375\n",
              "\n",
              "[[40]]$testing_pos\n",
              "[1] 369\n",
              "\n",
              "[[40]]$envios\n",
              "[1] 2807\n",
              "\n",
              "[[40]]$aciertos\n",
              "[1] 187\n",
              "\n",
              "[[40]]$ganancia_test\n",
              "[1] 46730000\n",
              "\n",
              "\n",
              "[[41]]\n",
              "[[41]]$semilla\n",
              "[1] 109567\n",
              "\n",
              "[[41]]$testing\n",
              "[1] 49383\n",
              "\n",
              "[[41]]$testing_pos\n",
              "[1] 376\n",
              "\n",
              "[[41]]$envios\n",
              "[1] 3595\n",
              "\n",
              "[[41]]$aciertos\n",
              "[1] 207\n",
              "\n",
              "[[41]]$ganancia_test\n",
              "[1] 46850000\n",
              "\n",
              "\n",
              "[[42]]\n",
              "[[42]]$semilla\n",
              "[1] 145021\n",
              "\n",
              "[[42]]$testing\n",
              "[1] 49386\n",
              "\n",
              "[[42]]$testing_pos\n",
              "[1] 374\n",
              "\n",
              "[[42]]$envios\n",
              "[1] 3721\n",
              "\n",
              "[[42]]$aciertos\n",
              "[1] 203\n",
              "\n",
              "[[42]]$ganancia_test\n",
              "[1] 43990000\n",
              "\n",
              "\n",
              "[[43]]\n",
              "[[43]]$semilla\n",
              "[1] 125711\n",
              "\n",
              "[[43]]$testing\n",
              "[1] 49385\n",
              "\n",
              "[[43]]$testing_pos\n",
              "[1] 378\n",
              "\n",
              "[[43]]$envios\n",
              "[1] 2936\n",
              "\n",
              "[[43]]$aciertos\n",
              "[1] 192\n",
              "\n",
              "[[43]]$ganancia_test\n",
              "[1] 47440000\n",
              "\n",
              "\n",
              "[[44]]\n",
              "[[44]]$semilla\n",
              "[1] 731219\n",
              "\n",
              "[[44]]$testing\n",
              "[1] 49371\n",
              "\n",
              "[[44]]$testing_pos\n",
              "[1] 371\n",
              "\n",
              "[[44]]$envios\n",
              "[1] 2319\n",
              "\n",
              "[[44]]$aciertos\n",
              "[1] 171\n",
              "\n",
              "[[44]]$ganancia_test\n",
              "[1] 45210000\n",
              "\n",
              "\n",
              "[[45]]\n",
              "[[45]]$semilla\n",
              "[1] 976933\n",
              "\n",
              "[[45]]$testing\n",
              "[1] 49375\n",
              "\n",
              "[[45]]$testing_pos\n",
              "[1] 375\n",
              "\n",
              "[[45]]$envios\n",
              "[1] 3165\n",
              "\n",
              "[[45]]$aciertos\n",
              "[1] 199\n",
              "\n",
              "[[45]]$ganancia_test\n",
              "[1] 47950000\n",
              "\n",
              "\n",
              "[[46]]\n",
              "[[46]]$semilla\n",
              "[1] 874373\n",
              "\n",
              "[[46]]$testing\n",
              "[1] 49377\n",
              "\n",
              "[[46]]$testing_pos\n",
              "[1] 373\n",
              "\n",
              "[[46]]$envios\n",
              "[1] 3502\n",
              "\n",
              "[[46]]$aciertos\n",
              "[1] 213\n",
              "\n",
              "[[46]]$ganancia_test\n",
              "[1] 50180000\n",
              "\n",
              "\n",
              "[[47]]\n",
              "[[47]]$semilla\n",
              "[1] 460969\n",
              "\n",
              "[[47]]$testing\n",
              "[1] 49378\n",
              "\n",
              "[[47]]$testing_pos\n",
              "[1] 373\n",
              "\n",
              "[[47]]$envios\n",
              "[1] 4043\n",
              "\n",
              "[[47]]$aciertos\n",
              "[1] 225\n",
              "\n",
              "[[47]]$ganancia_test\n",
              "[1] 49570000\n",
              "\n",
              "\n",
              "[[48]]\n",
              "[[48]]$semilla\n",
              "[1] 686479\n",
              "\n",
              "[[48]]$testing\n",
              "[1] 49381\n",
              "\n",
              "[[48]]$testing_pos\n",
              "[1] 374\n",
              "\n",
              "[[48]]$envios\n",
              "[1] 2877\n",
              "\n",
              "[[48]]$aciertos\n",
              "[1] 185\n",
              "\n",
              "[[48]]$ganancia_test\n",
              "[1] 45230000\n",
              "\n",
              "\n",
              "[[49]]\n",
              "[[49]]$semilla\n",
              "[1] 111521\n",
              "\n",
              "[[49]]$testing\n",
              "[1] 49379\n",
              "\n",
              "[[49]]$testing_pos\n",
              "[1] 369\n",
              "\n",
              "[[49]]$envios\n",
              "[1] 3920\n",
              "\n",
              "[[49]]$aciertos\n",
              "[1] 213\n",
              "\n",
              "[[49]]$ganancia_test\n",
              "[1] 4.6e+07\n",
              "\n",
              "\n",
              "[[50]]\n",
              "[[50]]$semilla\n",
              "[1] 621617\n",
              "\n",
              "[[50]]$testing\n",
              "[1] 49381\n",
              "\n",
              "[[50]]$testing_pos\n",
              "[1] 374\n",
              "\n",
              "[[50]]$envios\n",
              "[1] 3413\n",
              "\n",
              "[[50]]$aciertos\n",
              "[1] 195\n",
              "\n",
              "[[50]]$ganancia_test\n",
              "[1] 43870000\n",
              "\n"
            ]
          },
          "metadata": {}
        }
      ]
    },
    {
      "cell_type": "code",
      "source": [
        "# paso la lista a vector\n",
        "tb_salida <- rbindlist(salidas)\n",
        "print( tb_salida)"
      ],
      "metadata": {
        "id": "unGWiKRMGimU",
        "outputId": "f59fcc1e-ecd2-4cc1-a200-9694c7fb9779",
        "colab": {
          "base_uri": "https://localhost:8080/"
        }
      },
      "execution_count": 75,
      "outputs": [
        {
          "output_type": "stream",
          "name": "stdout",
          "text": [
            "    semilla testing testing_pos envios aciertos ganancia_test\n",
            "      <int>   <int>       <int>  <int>    <int>         <num>\n",
            " 1:  160357   49382         376   3303      187      41770000\n",
            " 2:  990323   49380         374   2403      186      50370000\n",
            " 3:  989671   49387         382   3978      213      45420000\n",
            " 4:  255107   49374         374   4070      223      48500000\n",
            " 5:  261427   49375         373   3503      201      45370000\n",
            " 6:  136223   49383         372   3939      228      51810000\n",
            " 7:  718321   49375         375   3405      213      51150000\n",
            " 8:  606341   49375         366   3243      193      44770000\n",
            " 9:  233327   49376         378   3415      205      47850000\n",
            "10:  411779   49381         376   3878      210      45220000\n",
            "11:  448157   49375         374   2745      176      42950000\n",
            "12:  275591   49376         371   3435      208      48850000\n",
            "13:  616409   49367         373   4126      229      50340000\n",
            "14:  225569   49367         372   3351      196      44890000\n",
            "15:  708049   49375         375   3432      204      47280000\n",
            "16:  615827   49378         376   3560      211      48800000\n",
            "17:  419513   49379         375   2672      189      48880000\n",
            "18:  784349   49383         376   3019      198      49010000\n",
            "19:  760477   49378         374   3207      193      45130000\n",
            "20:  135593   49377         372   3705      213      48150000\n",
            "21:  139397   49373         377   3092      193      46280000\n",
            "22:  310379   49379         373   3574      204      45860000\n",
            "23:  511109   49383         377   4101      229      50590000\n",
            "24:  773681   49380         371   4452      229      47080000\n",
            "25:  650227   49374         376   3682      214      48780000\n",
            "26:  145459   49376         371   2800      193      49200000\n",
            "27:  185797   49380         376   3160      211      52800000\n",
            "28:  681613   49380         377   3193      206      50470000\n",
            "29:  842813   49370         369   4050      217      46300000\n",
            "30:  188011   49376         372   3355      207      49250000\n",
            "31:  449783   49386         375   2816      181      44240000\n",
            "32:  143833   49388         376   3954      214      46060000\n",
            "33:  697691   49383         374   4263      230      49370000\n",
            "34:  726839   49382         376   2847      205      53530000\n",
            "35:  379333   49380         374   3281      197      45990000\n",
            "36:  974513   49384         378   3485      197      43950000\n",
            "37:  320213   49385         376   3754      220      50460000\n",
            "38:  695329   49384         378   3082      190      45180000\n",
            "39:  285023   49376         378   3551      218      51690000\n",
            "40:  768169   49375         369   2807      187      46730000\n",
            "41:  109567   49383         376   3595      207      46850000\n",
            "42:  145021   49386         374   3721      203      43990000\n",
            "43:  125711   49385         378   2936      192      47440000\n",
            "44:  731219   49371         371   2319      171      45210000\n",
            "45:  976933   49375         375   3165      199      47950000\n",
            "46:  874373   49377         373   3502      213      50180000\n",
            "47:  460969   49378         373   4043      225      49570000\n",
            "48:  686479   49381         374   2877      185      45230000\n",
            "49:  111521   49379         369   3920      213      46000000\n",
            "50:  621617   49381         374   3413      195      43870000\n",
            "    semilla testing testing_pos envios aciertos ganancia_test\n"
          ]
        }
      ]
    },
    {
      "cell_type": "code",
      "source": [
        "# calulo la salida\n",
        "for( i in seq(10, 50, 10) )\n",
        "{\n",
        "  cat( i, \"\\t\", tb_salida[ 1:i, mean(ganancia_test)], \"\\n\" )\n",
        "}\n"
      ],
      "metadata": {
        "id": "oGoadhBKGimV",
        "outputId": "3ef5d00f-4a18-4adb-9818-c6d7292bf3b2",
        "colab": {
          "base_uri": "https://localhost:8080/"
        }
      },
      "execution_count": 76,
      "outputs": [
        {
          "output_type": "stream",
          "name": "stdout",
          "text": [
            "10 \t 47223000 \n",
            "20 \t 47325500 \n",
            "30 \t 47770667 \n",
            "40 \t 47758000 \n",
            "50 \t 47532200 \n"
          ]
        }
      ]
    },
    {
      "cell_type": "markdown",
      "source": [
        "### Acciones a realizar\n",
        "* Reportar la  los resultados en la planilla colaborativa hoja  **C2-nsem**\n",
        "* Se discutirá en clase la variabilidad de las distintas cantidades de semillas"
      ],
      "metadata": {
        "id": "dO9yQKt7GimV"
      }
    },
    {
      "cell_type": "markdown",
      "source": [
        "\n",
        "\n",
        "---\n",
        "\n"
      ],
      "metadata": {
        "id": "ziFKwIlBGimW"
      }
    },
    {
      "cell_type": "markdown",
      "source": [
        "# 5  DiezMil -Monte Carlo Cross Validation\n",
        "## Clase 02  Experimento 5"
      ],
      "metadata": {
        "id": "2jncHe-KJLUg"
      }
    },
    {
      "cell_type": "markdown",
      "source": [
        "Mostrar a los estudiantes el resultado de un experimento en donde se ha corrido una Monte Carlo Cross Validation utilizando diez mil semillas y relacionar la cantidad de semillas con el resultado del Teorema Central del Límite\n",
        "<br>Los resultados se muestran en esta misma guia y se comentan en clase,Bajo ningún concepto se solicitará a l@s estudiantes hacer este experimento en clase ya que lleva varias horas en correr.\n"
      ],
      "metadata": {
        "id": "vUzSGZGOJZq8"
      }
    },
    {
      "cell_type": "markdown",
      "source": [
        "Aqui usted NO debe correr absolutamente nada, el experimento ya fue corrido por la cátedra y le muestra los resultados."
      ],
      "metadata": {
        "id": "G0YGjTMxuTSg"
      }
    },
    {
      "cell_type": "markdown",
      "source": [
        "## 5.1\n",
        "Estos resultados han sido corridos por la cátedra.\n",
        "\n",
        "![Distribucion de las ganancias](https://storage.googleapis.com/open-courses/austral2025-af91/labo1r/C2_E5_distribucion.jpg)"
      ],
      "metadata": {
        "id": "7NRUb3WtJikc"
      }
    },
    {
      "cell_type": "markdown",
      "source": [
        "![salida](https://storage.googleapis.com/open-courses/austral2025-af91/labo1r/C2_E5_salida.jpg)"
      ],
      "metadata": {
        "id": "tZ4X8wdSKc7G"
      }
    },
    {
      "cell_type": "markdown",
      "source": [
        "![tabla](https://storage.googleapis.com/open-courses/austral2025-af91/labo1r/C2_E5_tabla.jpg)\n",
        "\n",
        " 2    ~    1,96  =  3605406.2 / 1836264.3\n",
        "\n",
        "Por el teorema central del límite, un aumento de 4 veces de la cantidad de registros que se promedian el desvio estandar disminuye 2 veces ,  raiz(4 ) = 2"
      ],
      "metadata": {
        "id": "EsL5ukNWKS71"
      }
    },
    {
      "cell_type": "markdown",
      "source": [
        "\n",
        "\n",
        "---\n",
        "\n"
      ],
      "metadata": {
        "id": "OTLq8TC4LR0c"
      }
    },
    {
      "cell_type": "markdown",
      "source": [
        "# 6 Comparando dos distintos  modelos\n",
        "## Clase 02  Experimento 6"
      ],
      "metadata": {
        "id": "sAS1bfL8LmBv"
      }
    },
    {
      "cell_type": "markdown",
      "source": [
        "## 6.1  Objetivos\n",
        "Presentar a los alumnos la dificultad que se presenta ante la comparación de dos modelos, uno posee un poder predictivo claramente mayor al otro.\n",
        "Comparación simple de media de ganancias, versus probabilidad que un modelo sea superior a otro."
      ],
      "metadata": {
        "id": "KzwdMJDZLmB9"
      }
    },
    {
      "cell_type": "markdown",
      "source": [
        "## 6.2 Introduccion\n",
        "Estos son los dos arboles de muy distinta profundidad.\n",
        "<br>¿Cuál de ellos es mejor? ¿Cuál elijo?\n",
        "\n",
        "| Hiperparámetro | Arbol 1 | Arbol 2 |\n",
        "| --- | --: |  ---: |\n",
        "| cp | -1 | -1 |\n",
        "|minsplit | 170 | 250 |\n",
        "|minbucket | 70 | 125 |\n",
        "|maxdepth | 7 | 20 |\n",
        "\n"
      ],
      "metadata": {
        "id": "DDyFNmJ9L_CW"
      }
    },
    {
      "cell_type": "markdown",
      "source": [
        "## 6.3 Codigo dos distintos modelos"
      ],
      "metadata": {
        "id": "bQfwNsVzNrtI"
      }
    },
    {
      "cell_type": "markdown",
      "source": [
        "Esta parte se debe correr con el runtime en lenguaje **R** Ir al menu, Runtime -> Change Runtime Tipe -> Runtime type -> R"
      ],
      "metadata": {
        "id": "Ku7qQgKjNruJ"
      }
    },
    {
      "cell_type": "markdown",
      "source": [
        "El tiempo de corrida es de alrededor de 40 minutos"
      ],
      "metadata": {
        "id": "6jCdS3NMuKei"
      }
    },
    {
      "cell_type": "markdown",
      "source": [
        "limpio el ambiente de R"
      ],
      "metadata": {
        "id": "Z1EUBeHyNruK"
      }
    },
    {
      "cell_type": "code",
      "source": [
        "# limpio la memoria\n",
        "rm(list=ls(all.names=TRUE)) # remove all objects\n",
        "gc(full=TRUE, verbose=FALSE) # garbage collection"
      ],
      "metadata": {
        "id": "GxbC4V3zNruM"
      },
      "execution_count": null,
      "outputs": []
    },
    {
      "cell_type": "markdown",
      "source": [
        "* Instalacion de la libreria  rpart.plot  para dibujar el arbol\n",
        "* invocacion de las librerias  **data.table** y  **rpart**"
      ],
      "metadata": {
        "id": "i2WkSCIhNruQ"
      }
    },
    {
      "cell_type": "code",
      "source": [
        "# cargo las librerias que necesito\n",
        "require(\"data.table\")\n",
        "require(\"rpart\")\n",
        "require(\"parallel\")\n",
        "\n",
        "if (!require(\"primes\")) install.packages(\"primes\")\n",
        "require(\"primes\")\n",
        "\n",
        "require(\"ggplot2\")"
      ],
      "metadata": {
        "id": "3bMsgZJWNruR"
      },
      "execution_count": null,
      "outputs": []
    },
    {
      "cell_type": "markdown",
      "source": [
        "###  Accion a Realizar\n",
        "PARAM$semilla_primigenia  debe reemplazarse por SU primer semilla"
      ],
      "metadata": {
        "id": "t1lTXrKaNruT"
      }
    },
    {
      "cell_type": "code",
      "source": [
        "PARAM <- list()\n",
        "PARAM$semilla_primigenia <- 102191\n",
        "PARAM$qsemillas <- 20\n",
        "PARAM$training_pct <- 70L     # entre 1 y 100\n"
      ],
      "metadata": {
        "id": "QFbPtTCMNruV"
      },
      "execution_count": null,
      "outputs": []
    },
    {
      "cell_type": "code",
      "source": [
        "# los dos arboles\n",
        "PARAM$rpart1 <- list (\n",
        "  \"cp\" = -1,\n",
        "  \"minsplit\" = 170,\n",
        "  \"minbucket\" = 70,\n",
        "  \"maxdepth\" = 7\n",
        ")\n",
        "\n",
        "\n",
        "PARAM$rpart2 <- list (\n",
        "  \"cp\" = -1,\n",
        "  \"minsplit\" = 250,\n",
        "  \"minbucket\" = 125,\n",
        "  \"maxdepth\" = 20\n",
        ")"
      ],
      "metadata": {
        "id": "GiBGk7WKQv2V"
      },
      "execution_count": null,
      "outputs": []
    },
    {
      "cell_type": "code",
      "source": [
        "# particionar agrega una columna llamada fold a un dataset\n",
        "#  que consiste en una particion estratificada segun agrupa\n",
        "\n",
        "# particionar( data=dataset, division=c(70,30),\n",
        "#  agrupa=clase_ternaria, seed=semilla)   crea una particion 70, 30\n",
        "\n",
        "particionar <- function(\n",
        "    data, division, agrupa = \"\",\n",
        "    campo = \"fold\", start = 1, seed = NA) {\n",
        "  if (!is.na(seed)) set.seed(seed)\n",
        "\n",
        "  bloque <- unlist(mapply(function(x, y) {\n",
        "    rep(y, x)\n",
        "  }, division, seq(from = start, length.out = length(division))))\n",
        "\n",
        "  data[, (campo) := sample(rep(bloque, ceiling(.N / length(bloque))))[1:.N],\n",
        "    by = agrupa\n",
        "  ]\n",
        "}\n"
      ],
      "metadata": {
        "id": "2BabfKg7NruX"
      },
      "execution_count": null,
      "outputs": []
    },
    {
      "cell_type": "code",
      "source": [
        "DosArbolesEstimarGanancia <- function(semilla, training_pct, param_rpart1, param_rpart2) {\n",
        "\n",
        "  # fuerzo impresion\n",
        "  print( paste( semilla, Sys.time()) )\n",
        "  flush.console()\n",
        "\n",
        "  # particiono estratificadamente el dataset\n",
        "  particionar(dataset,\n",
        "    division = c(training_pct, 100L -training_pct),\n",
        "    agrupa = \"clase_ternaria\",\n",
        "    seed = semilla # aqui se usa SU semilla\n",
        "  )\n",
        "\n",
        "  # genero el modelo\n",
        "  # predecir clase_ternaria a partir del resto\n",
        "  modelo1 <- rpart(\"clase_ternaria ~ .\",\n",
        "    data = dataset[fold == 1], # fold==1  es training,  el 70% de los datos\n",
        "    xval = 0,\n",
        "    control = param_rpart1\n",
        "  ) # aqui van los parametros del arbol\n",
        "\n",
        "  # aplico el modelo a los datos de testing\n",
        "  prediccion1 <- predict(modelo1, # el modelo que genere recien\n",
        "    dataset[fold == 2], # fold==2  es testing, el 30% de los datos\n",
        "    type = \"prob\"\n",
        "  ) # type= \"prob\"  es que devuelva la probabilidad\n",
        "\n",
        "\n",
        "  # calculo la ganancia en testing  qu es fold==2\n",
        "  ganancia_test1 <- dataset[\n",
        "    fold == 2,\n",
        "    sum(ifelse(prediccion1[, \"BAJA+2\"] > 0.025,\n",
        "      ifelse(clase_ternaria == \"BAJA+2\", 117000, -3000),\n",
        "      0\n",
        "    ))\n",
        "  ]\n",
        "\n",
        "  # escalo la ganancia como si fuera todo el dataset\n",
        "  ganancia_test_normalizada1 <- ganancia_test1 / (( 100 - training_pct ) / 100 )\n",
        "\n",
        "  modelo2 <- rpart(\"clase_ternaria ~ .\",\n",
        "    data = dataset[fold == 1], # fold==1  es training,  el 70% de los datos\n",
        "    xval = 0,\n",
        "    control = param_rpart2\n",
        "  ) # aqui van los parametros del arbol\n",
        "\n",
        "  # aplico el modelo a los datos de testing\n",
        "  prediccion2 <- predict(modelo2, # el modelo que genere recien\n",
        "    dataset[fold == 2], # fold==2  es testing, el 30% de los datos\n",
        "    type = \"prob\"\n",
        "  ) # type= \"prob\"  es que devuelva la probabilidad\n",
        "\n",
        "\n",
        "  # calculo la ganancia en testing  qu es fold==2\n",
        "  ganancia_test2 <- dataset[\n",
        "    fold == 2,\n",
        "    sum(ifelse(prediccion2[, \"BAJA+2\"] > 0.025,\n",
        "      ifelse(clase_ternaria == \"BAJA+2\", 117000, -3000),\n",
        "      0\n",
        "    ))\n",
        "  ]\n",
        "\n",
        "  # escalo la ganancia como si fuera todo el dataset\n",
        "  ganancia_test_normalizada2 <- ganancia_test2 / (( 100 - training_pct ) / 100 )\n",
        "\n",
        "  return(list(\n",
        "    \"semilla\" = semilla,\n",
        "    \"ganancia1\" = ganancia_test_normalizada1,\n",
        "    \"ganancia2\" = ganancia_test_normalizada2\n",
        "  ))\n",
        "}"
      ],
      "metadata": {
        "id": "YrGJgj4UNruZ"
      },
      "execution_count": null,
      "outputs": []
    },
    {
      "cell_type": "code",
      "source": [
        "# carpeta de trabajo\n",
        "setwd(\"/content/buckets/b1/exp\")\n",
        "experimento <- \"exp206\"\n",
        "dir.create(experimento, showWarnings=FALSE)\n",
        "setwd( paste0(\"/content/buckets/b1/exp/\", experimento ))"
      ],
      "metadata": {
        "id": "2C2yjgQVNrud"
      },
      "execution_count": null,
      "outputs": []
    },
    {
      "cell_type": "code",
      "source": [
        "# lectura del dataset\n",
        "dataset <- fread(\"/content/datasets/dataset_pequeno.csv\")\n",
        "\n",
        "# trabajo solo con los datos con clase, es decir 202107\n",
        "dataset <- dataset[clase_ternaria != \"\"]"
      ],
      "metadata": {
        "id": "oQeGcBnPNrug"
      },
      "execution_count": null,
      "outputs": []
    },
    {
      "cell_type": "code",
      "source": [
        "detectCores()"
      ],
      "metadata": {
        "id": "gXKI2eXO9Osx"
      },
      "execution_count": null,
      "outputs": []
    },
    {
      "cell_type": "code",
      "source": [
        "# genero numeros primos\n",
        "primos <- generate_primes(min = 100000, max = 1000000)\n",
        "set.seed(PARAM$semilla_primigenia) # inicializo\n",
        "\n",
        "# me quedo con PARAM$qsemillas   semillas\n",
        "PARAM$semillas <- sample(primos, PARAM$qsemillas )"
      ],
      "metadata": {
        "id": "tU8S7_5ANrui"
      },
      "execution_count": null,
      "outputs": []
    },
    {
      "cell_type": "code",
      "source": [
        "# demora interminables 60 minutos en correr en Google Colab\n",
        "Sys.time()\n",
        "\n",
        "salidas <- mcmapply( DosArbolesEstimarGanancia,\n",
        "  PARAM$semillas, # paso el vector de semillas\n",
        "  MoreArgs = list(PARAM$training_pct, PARAM$rpart1, PARAM$rpart2), # aqui paso el segundo parametro\n",
        "  SIMPLIFY = FALSE,\n",
        "  mc.cores = detectCores()\n",
        ")\n",
        "\n",
        "Sys.time()"
      ],
      "metadata": {
        "id": "mlF66CgxcHF3"
      },
      "execution_count": null,
      "outputs": []
    },
    {
      "cell_type": "code",
      "source": [
        "# paso la lista a vector\n",
        "tb_salida <- rbindlist(salidas)\n",
        "tb_salida"
      ],
      "metadata": {
        "id": "_g-_kccdNrum"
      },
      "execution_count": null,
      "outputs": []
    },
    {
      "cell_type": "code",
      "source": [
        "grafico <- ggplot( tb_salida, aes(x=ganancia1)) + geom_density(alpha=0.25, fill=\"green\", color=\"green\")  +\n",
        "             geom_density(data=tb_salida, aes(x=ganancia2), fill=\"purple\", color=\"purple\",  alpha=0.10)\n",
        "\n",
        "print(grafico)"
      ],
      "metadata": {
        "id": "-O0rg6btNrun"
      },
      "execution_count": null,
      "outputs": []
    },
    {
      "cell_type": "code",
      "source": [
        "# imprimo en un .pdf  que va a la carpeta del experimento\n",
        "pdf(\"densidad_dos.pdf\")\n",
        "print(grafico)\n",
        "dev.off()"
      ],
      "metadata": {
        "id": "uSqrazOyU_LC"
      },
      "execution_count": null,
      "outputs": []
    },
    {
      "cell_type": "code",
      "source": [
        "print( tb_salida[ , list( \"arbol1\" = mean( ganancia1),  \"arbol2\" = mean(ganancia2) ) ] )\n",
        "\n",
        "print( tb_salida[ , list( \"prob( m1 > m2)\" = sum(ganancia1 > ganancia2 )/ .N ) ]  )"
      ],
      "metadata": {
        "id": "LGv0LB_4R7US"
      },
      "execution_count": null,
      "outputs": []
    },
    {
      "cell_type": "markdown",
      "source": [
        "### Acciones a realizar\n",
        "* Reportar la  los resultados en la planilla colaborativa hoja  **C2-dosModelos**\n",
        "* ¿Todos los alumnos hubieran elegido el mismo modelo aun con 20 semillas?"
      ],
      "metadata": {
        "id": "F6lFJf1VTi8b"
      }
    },
    {
      "cell_type": "markdown",
      "source": [
        "\n",
        "\n",
        "---\n",
        "\n"
      ],
      "metadata": {
        "id": "aOpy-XBKTi8n"
      }
    },
    {
      "cell_type": "markdown",
      "source": [
        "# 7 Comparando dos buenos  modelos\n",
        "## Clase 02  Experimento 7"
      ],
      "metadata": {
        "id": "EdzjiJf-dsEK"
      }
    },
    {
      "cell_type": "markdown",
      "source": [
        "## 7.1  Objetivos\n",
        "Presentar a los alumnos la dificultad que surge en la comparación de dos muy distintos, pero ambos buenos, modelos predictivos, y el costo computacional asociado a esa comparación\n",
        "<br>Comparación simple de media de ganancias, versus probabilidad que un modelo sea superior a otro.\n",
        "<br>Limitaciones de la MonteCarlo Cross Validation\n",
        "<br>Existencia del Test de Wilcoxon"
      ],
      "metadata": {
        "id": "FcBjp5XxdsEt"
      }
    },
    {
      "cell_type": "markdown",
      "source": [
        "## 7.2 Introduccion\n",
        "Estos son los dos arboles de muy distinta profundidad.\n",
        "<br>¿Cuál de ellos es mejor? ¿Cuál elijo?\n",
        "\n",
        "| Hiperparámetro | Arbol 1 | Arbol 2 |\n",
        "| --- | --: |  ---: |\n",
        "| cp | -1 | -1 |\n",
        "|minsplit | 170 | 1900 |\n",
        "|minbucket | 70 | 800 |\n",
        "|maxdepth | 7 | 3 |\n",
        "\n"
      ],
      "metadata": {
        "id": "tYcOIcwCdsEu"
      }
    },
    {
      "cell_type": "markdown",
      "source": [
        "## 7.3 Dos buenos modelos"
      ],
      "metadata": {
        "id": "r0NDA7GgdsEu"
      }
    },
    {
      "cell_type": "markdown",
      "source": [
        "Esta parte se debe correr con el runtime en lenguaje **R** Ir al menu, Runtime -> Change Runtime Tipe -> Runtime type -> R"
      ],
      "metadata": {
        "id": "21SJmGd7dsEv"
      }
    },
    {
      "cell_type": "markdown",
      "source": [
        "El tiempo de corrida es de alrededor de 50 minutos"
      ],
      "metadata": {
        "id": "Ne0e08KUt87w"
      }
    },
    {
      "cell_type": "markdown",
      "source": [
        "limpio el ambiente de R"
      ],
      "metadata": {
        "id": "q02SEGNwdsEv"
      }
    },
    {
      "cell_type": "code",
      "source": [
        "# limpio la memoria\n",
        "rm(list=ls(all.names=TRUE)) # remove all objects\n",
        "gc(full=TRUE, verbose=FALSE) # garbage collection"
      ],
      "metadata": {
        "id": "6c2ZJstWdsEw"
      },
      "execution_count": null,
      "outputs": []
    },
    {
      "cell_type": "markdown",
      "source": [
        "* Instalacion de la libreria  rpart.plot  para dibujar el arbol\n",
        "* invocacion de las librerias  **data.table** y  **rpart**"
      ],
      "metadata": {
        "id": "62MIW0r1dsEx"
      }
    },
    {
      "cell_type": "code",
      "source": [
        "# cargo las librerias que necesito\n",
        "require(\"data.table\")\n",
        "require(\"rpart\")\n",
        "require(\"parallel\")\n",
        "\n",
        "if (!require(\"primes\")) install.packages(\"primes\")\n",
        "require(\"primes\")\n",
        "\n",
        "require(\"ggplot2\")"
      ],
      "metadata": {
        "id": "2Ke4n-N8dsEy"
      },
      "execution_count": null,
      "outputs": []
    },
    {
      "cell_type": "markdown",
      "source": [
        "###  Accion a Realizar\n",
        "PARAM$semilla_primigenia  debe reemplazarse por SU primer semilla"
      ],
      "metadata": {
        "id": "UHSoeqi4dsEz"
      }
    },
    {
      "cell_type": "code",
      "source": [
        "PARAM <- list()\n",
        "PARAM$semilla_primigenia <- 102191\n",
        "PARAM$qsemillas <- 50\n",
        "PARAM$training_pct <- 70L     # entre 1 y 100\n"
      ],
      "metadata": {
        "id": "f08_sqfAdsEz"
      },
      "execution_count": null,
      "outputs": []
    },
    {
      "cell_type": "code",
      "source": [
        "# los dos arboles\n",
        "PARAM$rpart1 <- list (\n",
        "  \"cp\" = -1,\n",
        "  \"minsplit\" = 170,\n",
        "  \"minbucket\" = 70,\n",
        "  \"maxdepth\" = 7\n",
        ")\n",
        "\n",
        "\n",
        "PARAM$rpart2 <- list (\n",
        "  \"cp\" = -1,\n",
        "  \"minsplit\" = 1900,\n",
        "  \"minbucket\" = 800,\n",
        "  \"maxdepth\" = 3\n",
        ")\n"
      ],
      "metadata": {
        "id": "L735D9rydsE0"
      },
      "execution_count": null,
      "outputs": []
    },
    {
      "cell_type": "code",
      "source": [
        "# particionar agrega una columna llamada fold a un dataset\n",
        "#  que consiste en una particion estratificada segun agrupa\n",
        "\n",
        "# particionar( data=dataset, division=c(70,30),\n",
        "#  agrupa=clase_ternaria, seed=semilla)   crea una particion 70, 30\n",
        "\n",
        "particionar <- function(\n",
        "    data, division, agrupa = \"\",\n",
        "    campo = \"fold\", start = 1, seed = NA) {\n",
        "  if (!is.na(seed)) set.seed(seed)\n",
        "\n",
        "  bloque <- unlist(mapply(function(x, y) {\n",
        "    rep(y, x)\n",
        "  }, division, seq(from = start, length.out = length(division))))\n",
        "\n",
        "  data[, (campo) := sample(rep(bloque, ceiling(.N / length(bloque))))[1:.N],\n",
        "    by = agrupa\n",
        "  ]\n",
        "}\n"
      ],
      "metadata": {
        "id": "O56epLUGdsE1"
      },
      "execution_count": null,
      "outputs": []
    },
    {
      "cell_type": "code",
      "source": [
        "DosArbolesEstimarGanancia <- function(semilla, training_pct, param_rpart1, param_rpart2) {\n",
        "  # fuerzo impresion\n",
        "  print( paste( semilla, Sys.time()) )\n",
        "  flush.console()\n",
        "\n",
        "  # particiono estratificadamente el dataset\n",
        "  particionar(dataset,\n",
        "    division = c(training_pct, 100L -training_pct),\n",
        "    agrupa = \"clase_ternaria\",\n",
        "    seed = semilla # aqui se usa SU semilla\n",
        "  )\n",
        "\n",
        "  # genero el modelo\n",
        "  # predecir clase_ternaria a partir del resto\n",
        "  modelo1 <- rpart(\"clase_ternaria ~ .\",\n",
        "    data = dataset[fold == 1], # fold==1  es training,  el 70% de los datos\n",
        "    xval = 0,\n",
        "    control = param_rpart1\n",
        "  ) # aqui van los parametros del arbol\n",
        "\n",
        "  # aplico el modelo a los datos de testing\n",
        "  prediccion1 <- predict(modelo1, # el modelo que genere recien\n",
        "    dataset[fold == 2], # fold==2  es testing, el 30% de los datos\n",
        "    type = \"prob\"\n",
        "  ) # type= \"prob\"  es que devuelva la probabilidad\n",
        "\n",
        "\n",
        "  # calculo la ganancia en testing  qu es fold==2\n",
        "  ganancia_test1 <- dataset[\n",
        "    fold == 2,\n",
        "    sum(ifelse(prediccion1[, \"BAJA+2\"] > 0.025,\n",
        "      ifelse(clase_ternaria == \"BAJA+2\", 117000, -3000),\n",
        "      0\n",
        "    ))\n",
        "  ]\n",
        "\n",
        "  # escalo la ganancia como si fuera todo el dataset\n",
        "  ganancia_test_normalizada1 <- ganancia_test1 / (( 100 - training_pct ) / 100 )\n",
        "\n",
        "  modelo2 <- rpart(\"clase_ternaria ~ .\",\n",
        "    data = dataset[fold == 1], # fold==1  es training,  el 70% de los datos\n",
        "    xval = 0,\n",
        "    control = param_rpart2\n",
        "  ) # aqui van los parametros del arbol\n",
        "\n",
        "  # aplico el modelo a los datos de testing\n",
        "  prediccion2 <- predict(modelo2, # el modelo que genere recien\n",
        "    dataset[fold == 2], # fold==2  es testing, el 30% de los datos\n",
        "    type = \"prob\"\n",
        "  ) # type= \"prob\"  es que devuelva la probabilidad\n",
        "\n",
        "\n",
        "  # calculo la ganancia en testing  qu es fold==2\n",
        "  ganancia_test2 <- dataset[\n",
        "    fold == 2,\n",
        "    sum(ifelse(prediccion2[, \"BAJA+2\"] > 0.025,\n",
        "      ifelse(clase_ternaria == \"BAJA+2\", 117000, -3000),\n",
        "      0\n",
        "    ))\n",
        "  ]\n",
        "\n",
        "  # escalo la ganancia como si fuera todo el dataset\n",
        "  ganancia_test_normalizada2 <- ganancia_test2 / (( 100 - training_pct ) / 100 )\n",
        "\n",
        "  return(list(\n",
        "    \"semilla\" = semilla,\n",
        "    \"ganancia1\" = ganancia_test_normalizada1,\n",
        "    \"ganancia2\" = ganancia_test_normalizada2\n",
        "  ))\n",
        "}"
      ],
      "metadata": {
        "id": "Bv_NorLhdsE1"
      },
      "execution_count": null,
      "outputs": []
    },
    {
      "cell_type": "code",
      "source": [
        "# carpeta de trabajo\n",
        "setwd(\"/content/buckets/b1/exp\")\n",
        "experimento <- \"exp206\"\n",
        "dir.create(experimento, showWarnings=FALSE)\n",
        "setwd( paste0(\"/content/buckets/b1/exp/\", experimento ))"
      ],
      "metadata": {
        "id": "N9GarblIdsE3"
      },
      "execution_count": null,
      "outputs": []
    },
    {
      "cell_type": "code",
      "source": [
        "# lectura del dataset\n",
        "dataset <- fread(\"/content/datasets/dataset_pequeno.csv\")\n",
        "\n",
        "# trabajo solo con los datos con clase, es decir 202107\n",
        "dataset <- dataset[clase_ternaria != \"\"]"
      ],
      "metadata": {
        "id": "Z05r3wdTdsE3"
      },
      "execution_count": null,
      "outputs": []
    },
    {
      "cell_type": "code",
      "source": [
        "# genero numeros primos\n",
        "primos <- generate_primes(min = 100000, max = 1000000)\n",
        "set.seed(PARAM$semilla_primigenia) # inicializo\n",
        "\n",
        "# me quedo con PARAM$qsemillas   semillas\n",
        "PARAM$semillas <- sample(primos, PARAM$qsemillas )"
      ],
      "metadata": {
        "id": "m8ODrVrndsE4"
      },
      "execution_count": null,
      "outputs": []
    },
    {
      "cell_type": "code",
      "source": [
        "# la funcion mcmapply  llama a la funcion DosArbolesEstimarGanancia\n",
        "#  tantas veces como valores tenga el vector  PARAM$semillas\n",
        "Sys.time()\n",
        "\n",
        "salidas <- mcmapply( DosArbolesEstimarGanancia,\n",
        "  PARAM$semillas, # paso el vector de semillas\n",
        "  MoreArgs = list(PARAM$training_pct, PARAM$rpart1, PARAM$rpart2), # aqui paso el segundo parametro\n",
        "  SIMPLIFY = FALSE,\n",
        "  mc.cores = detectCores()\n",
        ")\n",
        "\n",
        "Sys.time()"
      ],
      "metadata": {
        "id": "KQBhUXxJdsE5"
      },
      "execution_count": null,
      "outputs": []
    },
    {
      "cell_type": "code",
      "source": [
        "# paso la lista a vector\n",
        "tb_salida <- rbindlist(salidas)\n",
        "tb_salida"
      ],
      "metadata": {
        "id": "N0eS1CFFdsE5"
      },
      "execution_count": null,
      "outputs": []
    },
    {
      "cell_type": "code",
      "source": [
        "grafico <- ggplot( tb_salida, aes(x=ganancia1), fill=\"green\", color=\"green\") + geom_density(alpha=0.25)  +\n",
        "             geom_density(data=tb_salida, aes(x=ganancia2), fill=\"purple\", color=\"purple\",  alpha=0.10)\n",
        "\n",
        "print(grafico)"
      ],
      "metadata": {
        "id": "6vf28ujAdsE6"
      },
      "execution_count": null,
      "outputs": []
    },
    {
      "cell_type": "code",
      "source": [
        "# imprimo en un .pdf  que va a la carpeta del experimento\n",
        "pdf(\"densidad_dos.pdf\")\n",
        "print(grafico)\n",
        "dev.off()"
      ],
      "metadata": {
        "id": "TA9lLa6-dsE6"
      },
      "execution_count": null,
      "outputs": []
    },
    {
      "cell_type": "code",
      "source": [
        "# medias de las ganancias\n",
        "print( tb_salida[ , list( \"arbol1\" = mean( ganancia1),  \"arbol2\" = mean(ganancia2) ) ] )\n"
      ],
      "metadata": {
        "id": "xAOpyZTqdsE7"
      },
      "execution_count": null,
      "outputs": []
    },
    {
      "cell_type": "code",
      "source": [
        "# probabilidad que m1 sea mayor a m2\n",
        "print( tb_salida[ , list( \"prob( m1 > m2)\" = sum(ganancia1 > ganancia2 )/ .N ) ]  )"
      ],
      "metadata": {
        "id": "8rdPIcfzgob7"
      },
      "execution_count": null,
      "outputs": []
    },
    {
      "cell_type": "markdown",
      "source": [
        "### Acciones a realizar\n",
        "* Reportar la  los resultados en la planilla colaborativa hoja  **C2-dosBuenos**\n"
      ],
      "metadata": {
        "id": "nNNJWYRadsE7"
      }
    },
    {
      "cell_type": "markdown",
      "source": [
        "\n",
        "\n",
        "---\n",
        "\n"
      ],
      "metadata": {
        "id": "LTBEq6SEdsE8"
      }
    },
    {
      "cell_type": "markdown",
      "source": [],
      "metadata": {
        "id": "ebcTZX7Sg1Le"
      }
    },
    {
      "cell_type": "markdown",
      "source": [
        "# 8 Test de Wilcoxon\n",
        "## Clase 02  Experimento 8"
      ],
      "metadata": {
        "id": "RAtn4x6Bg1u1"
      }
    },
    {
      "cell_type": "markdown",
      "source": [],
      "metadata": {
        "id": "RWxjnSsVg_ol"
      }
    },
    {
      "cell_type": "markdown",
      "source": [
        "## 8.1  Objetivos\n",
        "\n",
        "¿Como calcular la cantidad mínima de semillas que hacen falta para tener cierta certeza que un modelo es superior a otro?"
      ],
      "metadata": {
        "id": "Gf0LF3ywhAEU"
      }
    },
    {
      "cell_type": "markdown",
      "source": [
        "## 8.2  Introduccion\n",
        "\n",
        "| Hiperparámetro | Arbol 1 | Arbol 2 |\n",
        "| --- | --: |  ---: |\n",
        "| cp | -1 | -1 |\n",
        "|minsplit | 170 | 250 |\n",
        "|minbucket | 70 | 125 |\n",
        "|maxdepth | 7 | 20 |\n",
        "\n",
        "<br>\n",
        "<br>\n",
        "\n",
        "\n",
        "| ordinal | semilla | ganancia1 | ganancia2 | p-value |\n",
        "| --- | --- |  --- |  --- |  --- |\n",
        "| 1 |378821 | 41,470,000 | 37,790,000 | 1.000 |\n",
        "| 2 | 964333  | 48,480,000  | 43,660,000 | 0.500 |\n",
        "| 3 | 187049 | 50,610,000 | 47,840,000 | 0.250 |\n",
        "| 4 | 205151 | 45,580,000 | 44,490,000 | 0.125 |\n",
        "| 5 | 813697 | 52,780,000 | 46,750,000 |  0.063 |\n",
        "| 6 | 344719 | 49,970,000 | 44,300,000 | 0.031 |\n",
        "|7 |127217  |52,810,000 | 42,840,000 |0.016 |\n",
        "| 8 | 464371 | 43,060,000 | 37,300,000 | 0.008 |\n",
        "| 9 | 645137 | 49,660,000 |43,730,000 | 0.004|\n",
        "\n",
        "\n"
      ],
      "metadata": {
        "id": "k4PJGTDViZne"
      }
    },
    {
      "cell_type": "markdown",
      "source": [
        "## 8.3 Codigo Test de Wilcoxon"
      ],
      "metadata": {
        "id": "gAeSRdWRhg61"
      }
    },
    {
      "cell_type": "code",
      "source": [
        "# 1 sola ganancia\n",
        "wilcox.test(\n",
        "  c(41470000),\n",
        "  c(37790000),\n",
        "  paired = TRUE\n",
        ")\n"
      ],
      "metadata": {
        "id": "6r5M0J0HdsE8"
      },
      "execution_count": null,
      "outputs": []
    },
    {
      "cell_type": "code",
      "source": [
        "# 2 ganancias\n",
        "wilcox.test(\n",
        "  c(41470000, 48480000),\n",
        "  c(37790000, 43660000),\n",
        "  paired = TRUE\n",
        ")\n"
      ],
      "metadata": {
        "id": "1pscqL9vLzYE"
      },
      "execution_count": null,
      "outputs": []
    },
    {
      "cell_type": "code",
      "source": [
        "# 3 ganancias\n",
        "wilcox.test(\n",
        "  c(41470000, 48480000, 50610000),\n",
        "  c(37790000, 43660000, 47840000),\n",
        "  paired = TRUE\n",
        ")"
      ],
      "metadata": {
        "id": "p3f_mtKwhSHA"
      },
      "execution_count": null,
      "outputs": []
    },
    {
      "cell_type": "code",
      "source": [
        "# 4 ganancias\n",
        "wilcox.test(\n",
        "  c(41470000, 48480000, 50610000, 45580000),\n",
        "  c(37790000, 43660000, 47840000, 44490000),\n",
        "  paired = TRUE\n",
        ")\n"
      ],
      "metadata": {
        "id": "-ijX69r9hT6Z"
      },
      "execution_count": null,
      "outputs": []
    },
    {
      "cell_type": "code",
      "source": [
        "# 5 ganancias\n",
        "wilcox.test(\n",
        "  c(41470000, 48480000, 50610000, 45580000, 52780000),\n",
        "  c(37790000, 43660000, 47840000, 44490000, 46750000),\n",
        "  paired = TRUE\n",
        ")"
      ],
      "metadata": {
        "id": "X9J_CHGehVfr"
      },
      "execution_count": null,
      "outputs": []
    },
    {
      "cell_type": "code",
      "source": [
        "# 6 ganancias\n",
        "wilcox.test(\n",
        "  c(41470000, 48480000, 50610000, 45580000, 52780000, 49970000),\n",
        "  c(37790000, 43660000, 47840000, 44490000, 46750000, 44300000),\n",
        "  paired = TRUE\n",
        ")"
      ],
      "metadata": {
        "id": "H3CNNonOhXp0"
      },
      "execution_count": null,
      "outputs": []
    },
    {
      "cell_type": "code",
      "source": [
        "# Finalmente el p-value es  0.03125  < 0.05\n",
        "# hicieron falta  SEIS semillas, seis ganancias, para\n",
        "#   afirmar que el modelo 1 es superior al modelo 2\n",
        "\n",
        "# 7 ganancias\n",
        "wilcox.test(\n",
        "  c(41470000, 48480000, 50610000, 45580000, 52780000, 49970000, 52810000),\n",
        "  c(37790000, 43660000, 47840000, 44490000, 46750000, 44300000, 42840000),\n",
        "  paired = TRUE\n",
        ")\n"
      ],
      "metadata": {
        "id": "NTW8kwY8hamz"
      },
      "execution_count": null,
      "outputs": []
    },
    {
      "cell_type": "code",
      "source": [
        "# 8 ganancias\n",
        "wilcox.test(\n",
        "  c(41470000, 48480000, 50610000, 45580000, 52780000, 49970000, 52810000, 43060000),\n",
        "  c(37790000, 43660000, 47840000, 44490000, 46750000, 44300000, 42840000, 37300000),\n",
        "  paired = TRUE\n",
        ")\n"
      ],
      "metadata": {
        "id": "Xks918w8hcgC"
      },
      "execution_count": null,
      "outputs": []
    },
    {
      "cell_type": "code",
      "source": [
        "# 9 ganancias\n",
        "wilcox.test(\n",
        "  c(41470000, 48480000, 50610000, 45580000, 52780000, 49970000, 52810000, 43060000, 49660000),\n",
        "  c(37790000, 43660000, 47840000, 44490000, 46750000, 44300000, 42840000, 37300000, 43730000),\n",
        "  paired = TRUE\n",
        ")"
      ],
      "metadata": {
        "id": "5x8L1PMGhdJR"
      },
      "execution_count": null,
      "outputs": []
    },
    {
      "cell_type": "markdown",
      "source": [
        "\n",
        "\n",
        "---\n",
        "\n"
      ],
      "metadata": {
        "id": "Qjay2WBIkhNm"
      }
    },
    {
      "cell_type": "markdown",
      "source": [
        "# 9 Comparando automaticamente modelos con test de Wilcoxon\n",
        "## Clase 02  Experimento 9"
      ],
      "metadata": {
        "id": "g2aqxlCIk3fk"
      }
    },
    {
      "cell_type": "markdown",
      "source": [],
      "metadata": {
        "id": "FhCY4sH8k3fw"
      }
    },
    {
      "cell_type": "markdown",
      "source": [
        "## 9.1  Objetivos\n",
        "\n",
        "Proveer un script que permita comparar dos arboles de decisión con la librería rpart utilizando la menor cantidad de cómputo que permita el Test de Wilxcoxon"
      ],
      "metadata": {
        "id": "a_ZVBKBHk3fx"
      }
    },
    {
      "cell_type": "markdown",
      "source": [
        "## 9.2  Introduccion\n",
        "\n",
        "| Hiperparámetro | Arbol 1 | Arbol 2 |\n",
        "| --- | --- |  --- |\n",
        "| cp | -1 | -1 |\n",
        "|minsplit | 1050 | 650 |\n",
        "|minbucket | 550 | 300 |\n",
        "|maxdepth |67 | 6 |\n",
        "\n",
        "\n"
      ],
      "metadata": {
        "id": "qCd56L0Ik3fx"
      }
    },
    {
      "cell_type": "markdown",
      "source": [
        "## 9.3 Codigo comparacion automatica Wilcoxon"
      ],
      "metadata": {
        "id": "NBtQsG3vk3fx"
      }
    },
    {
      "cell_type": "markdown",
      "source": [
        "Esta parte se debe correr con el runtime en lenguaje **R** Ir al menu, Runtime -> Change Runtime Tipe -> Runtime type -> R"
      ],
      "metadata": {
        "id": "-ARzDPORlpG6"
      }
    },
    {
      "cell_type": "markdown",
      "source": [
        "limpio el ambiente de R"
      ],
      "metadata": {
        "id": "-Sy-sLMXlpHI"
      }
    },
    {
      "cell_type": "code",
      "source": [
        "# limpio la memoria\n",
        "rm(list=ls(all.names=TRUE)) # remove all objects\n",
        "gc(full=TRUE, verbose=FALSE) # garbage collection"
      ],
      "metadata": {
        "id": "ZpST7lcHlpHI"
      },
      "execution_count": null,
      "outputs": []
    },
    {
      "cell_type": "markdown",
      "source": [
        "* Instalacion de la libreria  rpart.plot  para dibujar el arbol\n",
        "* invocacion de las librerias  **data.table** y  **rpart**"
      ],
      "metadata": {
        "id": "jHhAx3cvlpHJ"
      }
    },
    {
      "cell_type": "code",
      "source": [
        "# cargo las librerias que necesito\n",
        "require(\"data.table\")\n",
        "require(\"rpart\")\n",
        "require(\"parallel\")\n",
        "\n",
        "if (!require(\"primes\")) install.packages(\"primes\")\n",
        "require(\"primes\")\n",
        "\n",
        "require(\"ggplot2\")"
      ],
      "metadata": {
        "id": "cbPnXeeqlpHJ"
      },
      "execution_count": null,
      "outputs": []
    },
    {
      "cell_type": "markdown",
      "source": [
        "###  Accion a Realizar\n",
        "PARAM$semilla_primigenia  debe reemplazarse por SU primer semilla"
      ],
      "metadata": {
        "id": "_GQk_NEUlpHK"
      }
    },
    {
      "cell_type": "code",
      "source": [
        "PARAM <- list()\n",
        "PARAM$semilla_primigenia <- 102191\n",
        "PARAM$qsemillas_tope <- 50\n",
        "PARAM$training_pct <- 70L     # entre 1 y 100\n"
      ],
      "metadata": {
        "id": "Do801PIHlpHK"
      },
      "execution_count": null,
      "outputs": []
    },
    {
      "cell_type": "code",
      "source": [
        "# los dos arboles\n",
        "PARAM$rpart1 <- list (\n",
        "  \"cp\" = -1,\n",
        "  \"minsplit\" = 800,\n",
        "  \"minbucket\" = 400,\n",
        "  \"maxdepth\" = 7\n",
        ")\n",
        "\n",
        "\n",
        "PARAM$rpart2 <- list (\n",
        "  \"cp\" = -1,\n",
        "  \"minsplit\" = 650,\n",
        "  \"minbucket\" = 300,\n",
        "  \"maxdepth\" = 6\n",
        ")\n"
      ],
      "metadata": {
        "id": "KlC7gTc7lpHK"
      },
      "execution_count": null,
      "outputs": []
    },
    {
      "cell_type": "code",
      "source": [
        "# particionar agrega una columna llamada fold a un dataset\n",
        "#  que consiste en una particion estratificada segun agrupa\n",
        "\n",
        "# particionar( data=dataset, division=c(70,30),\n",
        "#  agrupa=clase_ternaria, seed=semilla)   crea una particion 70, 30\n",
        "\n",
        "particionar <- function(\n",
        "    data, division, agrupa = \"\",\n",
        "    campo = \"fold\", start = 1, seed = NA) {\n",
        "  if (!is.na(seed)) set.seed(seed)\n",
        "\n",
        "  bloque <- unlist(mapply(function(x, y) {\n",
        "    rep(y, x)\n",
        "  }, division, seq(from = start, length.out = length(division))))\n",
        "\n",
        "  data[, (campo) := sample(rep(bloque, ceiling(.N / length(bloque))))[1:.N],\n",
        "    by = agrupa\n",
        "  ]\n",
        "}\n"
      ],
      "metadata": {
        "id": "I7hOkZrxlpHL"
      },
      "execution_count": null,
      "outputs": []
    },
    {
      "cell_type": "code",
      "source": [
        "DosArbolesEstimarGanancia <- function(semilla, training_pct, param_rpart1, param_rpart2) {\n",
        "  # particiono estratificadamente el dataset\n",
        "  particionar(dataset,\n",
        "    division = c(training_pct, 100L -training_pct),\n",
        "    agrupa = \"clase_ternaria\",\n",
        "    seed = semilla # aqui se usa SU semilla\n",
        "  )\n",
        "\n",
        "  # genero el modelo\n",
        "  # predecir clase_ternaria a partir del resto\n",
        "  modelo1 <- rpart(\"clase_ternaria ~ .\",\n",
        "    data = dataset[fold == 1], # fold==1  es training,  el 70% de los datos\n",
        "    xval = 0,\n",
        "    control = param_rpart1\n",
        "  ) # aqui van los parametros del arbol\n",
        "\n",
        "  # aplico el modelo a los datos de testing\n",
        "  prediccion1 <- predict(modelo1, # el modelo que genere recien\n",
        "    dataset[fold == 2], # fold==2  es testing, el 30% de los datos\n",
        "    type = \"prob\"\n",
        "  ) # type= \"prob\"  es que devuelva la probabilidad\n",
        "\n",
        "\n",
        "  # calculo la ganancia en testing  qu es fold==2\n",
        "  ganancia_test1 <- dataset[\n",
        "    fold == 2,\n",
        "    sum(ifelse(prediccion1[, \"BAJA+2\"] > 0.025,\n",
        "      ifelse(clase_ternaria == \"BAJA+2\", 117000, -3000),\n",
        "      0\n",
        "    ))\n",
        "  ]\n",
        "\n",
        "  # escalo la ganancia como si fuera todo el dataset\n",
        "  ganancia_test_normalizada1 <- ganancia_test1 / (( 100 - training_pct ) / 100 )\n",
        "\n",
        "  modelo2 <- rpart(\"clase_ternaria ~ .\",\n",
        "    data = dataset[fold == 1], # fold==1  es training,  el 70% de los datos\n",
        "    xval = 0,\n",
        "    control = param_rpart2\n",
        "  ) # aqui van los parametros del arbol\n",
        "\n",
        "  # aplico el modelo a los datos de testing\n",
        "  prediccion2 <- predict(modelo2, # el modelo que genere recien\n",
        "    dataset[fold == 2], # fold==2  es testing, el 30% de los datos\n",
        "    type = \"prob\"\n",
        "  ) # type= \"prob\"  es que devuelva la probabilidad\n",
        "\n",
        "\n",
        "  # calculo la ganancia en testing  qu es fold==2\n",
        "  ganancia_test2 <- dataset[\n",
        "    fold == 2,\n",
        "    sum(ifelse(prediccion2[, \"BAJA+2\"] > 0.025,\n",
        "      ifelse(clase_ternaria == \"BAJA+2\", 117000, -3000),\n",
        "      0\n",
        "    ))\n",
        "  ]\n",
        "\n",
        "  # escalo la ganancia como si fuera todo el dataset\n",
        "  ganancia_test_normalizada2 <- ganancia_test2 / (( 100 - training_pct ) / 100 )\n",
        "\n",
        "  return(list(\n",
        "    \"semilla\" = semilla,\n",
        "    \"ganancia1\" = ganancia_test_normalizada1,\n",
        "    \"ganancia2\" = ganancia_test_normalizada2\n",
        "  ))\n",
        "}"
      ],
      "metadata": {
        "id": "vFpBSFBYlpHL"
      },
      "execution_count": null,
      "outputs": []
    },
    {
      "cell_type": "code",
      "source": [
        "# 1  ->  el modelo 1 es mejor\n",
        "# 2  ->  el modelo 2 es mejor\n",
        "# 0  ->  No se pudo determinar con el tope de qsemillas_tope\n",
        "\n",
        "\n",
        "MejorArbol <- function( qsemillas_tope, training_pct, param_rpart1, param_rpart2) {\n",
        "\n",
        "  # genero numeros primos\n",
        "  primos <- generate_primes(min = 100000, max = 1000000)\n",
        "  set.seed(PARAM$semilla_primigenia) # inicializo\n",
        "  # me quedo con PARAM$qsemillas   semillas\n",
        "  semillas <- sample(primos, qsemillas_tope )\n",
        "\n",
        "  pvalue <- 1.0\n",
        "  isem <- 1\n",
        "  vgan1 <- c() # almaceno ganancias del modelo1\n",
        "  vgan2 <- c() # almaceno ganancias del modelo2\n",
        "\n",
        "  while( (isem <= qsemillas_tope)  & (pvalue > 0.05) ) {\n",
        "\n",
        "    res <- DosArbolesEstimarGanancia(\n",
        "       semillas[ isem ],\n",
        "       training_pct,\n",
        "       param_rpart1,\n",
        "       param_rpart2\n",
        "    )\n",
        "\n",
        "    vgan1 <- c( vgan1, res$ganancia1 )\n",
        "    vgan2 <- c( vgan2, res$ganancia2 )\n",
        "\n",
        "    wt <- wilcox.test( vgan1, vgan2, paired=TRUE )\n",
        "    pvalue <- wt$p.value\n",
        "\n",
        "    cat( isem, res$ganancia1, res$ganancia2, pvalue, \"\\n\" )\n",
        "    flush.console()\n",
        "    isem <- isem + 1\n",
        "  }\n",
        "\n",
        "  out <- 0\n",
        "\n",
        "  if( pvalue < 0.05 & mean(vgan1) > mean(vgan2)  )  out <- 1\n",
        "  if( pvalue < 0.05 & mean(vgan1) < mean(vgan2)  )  out <- 2\n",
        "\n",
        "\n",
        "  return( list( \"out\" = out,\n",
        "    \"qsemillas\" = length(vgan1),\n",
        "    \"m1\" = mean( vgan1 ),\n",
        "    \"m2\" = mean( vgan2 )\n",
        "   ) )\n",
        "}\n"
      ],
      "metadata": {
        "id": "Cp8RnA_NmE8g"
      },
      "execution_count": null,
      "outputs": []
    },
    {
      "cell_type": "code",
      "source": [
        "# carpeta de trabajo\n",
        "setwd(\"/content/buckets/b1/exp\")\n",
        "experimento <- \"exp209\"\n",
        "dir.create(experimento, showWarnings=FALSE)\n",
        "setwd( paste0(\"/content/buckets/b1/exp/\", experimento ))"
      ],
      "metadata": {
        "id": "r1motpfOlpHM"
      },
      "execution_count": null,
      "outputs": []
    },
    {
      "cell_type": "code",
      "source": [
        "# lectura del dataset\n",
        "dataset <- fread(\"/content/datasets/dataset_pequeno.csv\")\n",
        "\n",
        "# trabajo solo con los datos con clase, es decir 202107\n",
        "dataset <- dataset[clase_ternaria != \"\"]"
      ],
      "metadata": {
        "id": "hT0LaKWumTSu"
      },
      "execution_count": null,
      "outputs": []
    },
    {
      "cell_type": "code",
      "source": [
        "Sys.time()\n",
        "\n",
        "comparacion <- MejorArbol(\n",
        "   PARAM$qsemillas_tope,\n",
        "   PARAM$training_pct,\n",
        "   PARAM$rpart1,\n",
        "   PARAM$rpart2\n",
        " )\n",
        "\n",
        "\n",
        "print( comparacion )\n",
        "\n",
        "Sys.time()"
      ],
      "metadata": {
        "id": "wsk0F77ambVW"
      },
      "execution_count": null,
      "outputs": []
    },
    {
      "cell_type": "markdown",
      "source": [
        "### Acciones a realizar\n",
        "* Reportar la  los resultados en la planilla colaborativa hoja  **C2-Wilcox**\n"
      ],
      "metadata": {
        "id": "d2br1bgJlpHQ"
      }
    },
    {
      "cell_type": "markdown",
      "source": [
        "\n",
        "\n",
        "---\n",
        "\n"
      ],
      "metadata": {
        "id": "x7SebtV2lpHQ"
      }
    }
  ]
}